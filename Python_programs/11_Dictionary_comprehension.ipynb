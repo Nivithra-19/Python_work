{
 "cells": [
  {
   "cell_type": "code",
   "execution_count": null,
   "metadata": {},
   "outputs": [],
   "source": [
    "1. Write a Python program to create a simple dictionary using dictionary comprehension.\n",
    "    Data:\n",
    "        range(5)\n",
    "    Expected Output:\n",
    "        {0: 0, 1: 1, 2: 4, 3: 9, 4: 16}\n",
    "        \n",
    "        \n",
    "        \n",
    "        "
   ]
  },
  {
   "cell_type": "code",
   "execution_count": 2,
   "metadata": {},
   "outputs": [
    {
     "name": "stdout",
     "output_type": "stream",
     "text": [
      "Dictionary: {0: 0, 1: 1, 2: 4, 3: 9, 4: 16}\n"
     ]
    }
   ],
   "source": [
    "n=range(5)\n",
    "dic={x:x**2 for x in n}\n",
    "print(\"Dictionary:\",dic)"
   ]
  },
  {
   "cell_type": "code",
   "execution_count": null,
   "metadata": {},
   "outputs": [],
   "source": [
    "2. Write a Python program to iterate over dictionaries using for loops.\n",
    "    Data:\n",
    "        d = {\"a\":10,\"b\":20,\"c\":30,}\n",
    "    Expected Output:\n",
    "        {('a', 10): {'a': 10, 'b': 20, 'c': 30}, ('b', 20): {'a': 10, 'b': 20, 'c': 30}, ('c', 30): {'a': 10, 'b': 20, 'c': 30}}\n",
    "        \n",
    "        \n",
    "        \n",
    "        "
   ]
  },
  {
   "cell_type": "code",
   "execution_count": 5,
   "metadata": {},
   "outputs": [
    {
     "name": "stdout",
     "output_type": "stream",
     "text": [
      "{('a', 10): {'a': 10, 'b': 20, 'c': 30}, ('b', 20): {'a': 10, 'b': 20, 'c': 30}, ('c', 30): {'a': 10, 'b': 20, 'c': 30}}\n"
     ]
    }
   ],
   "source": [
    "d = {\"a\":10,\"b\":20,\"c\":30}\n",
    "new_d={(k,v):d for (k,v) in d.items()}\n",
    "print(new_d)"
   ]
  },
  {
   "cell_type": "code",
   "execution_count": null,
   "metadata": {},
   "outputs": [],
   "source": [
    "3. Write a Python program to display the following output using dictionary comprehension, that uses string as an iterable.\n",
    "    Data:\n",
    "        string = {\"RED\"}\n",
    "    Expected Output:\n",
    "        {'R': 'RRR', 'E': 'EEE', 'D': 'DDD'}\n",
    "        \n",
    "        "
   ]
  },
  {
   "cell_type": "code",
   "execution_count": 8,
   "metadata": {},
   "outputs": [
    {
     "name": "stdout",
     "output_type": "stream",
     "text": [
      "{'R': 'RRR', 'E': 'EEE', 'D': 'DDD'}\n"
     ]
    }
   ],
   "source": [
    "string = \"RED\"\n",
    "new_d={s:s*3 for s in string}\n",
    "print(new_d)"
   ]
  },
  {
   "cell_type": "code",
   "execution_count": null,
   "metadata": {},
   "outputs": [],
   "source": [
    "4. Write a python program using dictionary comprehension to create a dictionary from the given list. \n",
    "    The keys are the lower cases of each list items and the values are the upper cases of each list items.\n",
    "    Data:\n",
    "        X = ['ReD', 'GrEeN', 'BlUe']\n",
    "    Expected Output:\n",
    "        {'red': 'RED', 'green': 'GREEN', 'blue': 'BLUE'}\n",
    "        \n",
    "        \n",
    "        \n",
    "        "
   ]
  },
  {
   "cell_type": "code",
   "execution_count": 1,
   "metadata": {},
   "outputs": [
    {
     "name": "stdout",
     "output_type": "stream",
     "text": [
      "{'red': 'RED', 'green': 'GREEN', 'blue': 'BLUE'}\n"
     ]
    }
   ],
   "source": [
    "X = ['ReD', 'GrEeN', 'BlUe']\n",
    "new_d={i.lower():i.upper() for i in X}\n",
    "print(new_d)"
   ]
  },
  {
   "cell_type": "code",
   "execution_count": null,
   "metadata": {},
   "outputs": [],
   "source": [
    "5. Write a Python program to extract particular keys from a dictionary using dictionary comprehension.\n",
    "    Data:\n",
    "        D = {0: 'A', 1: 'B', 2: 'C', 3: 'D', 4: 'E', 5: 'F'}\n",
    "        Keys = [0, 2, 5]\n",
    "    Expected Output:\n",
    "        {0: 'A', 2: 'C', 5: 'F'}\n",
    "        \n",
    "        \n",
    "        \n",
    "        "
   ]
  },
  {
   "cell_type": "code",
   "execution_count": 11,
   "metadata": {},
   "outputs": [
    {
     "name": "stdout",
     "output_type": "stream",
     "text": [
      "{0: 'A', 2: 'C', 5: 'F'}\n"
     ]
    }
   ],
   "source": [
    "D = {0: 'A', 1: 'B', 2: 'C', 3: 'D', 4: 'E', 5: 'F'}\n",
    "Keys = [0, 2, 5]\n",
    "new_d={k:D[k] for k in Keys}\n",
    "print(new_d)"
   ]
  },
  {
   "cell_type": "code",
   "execution_count": null,
   "metadata": {},
   "outputs": [],
   "source": [
    "6. Write a Python program to extract particular keys from a dictionary. \n",
    "        Display all other items in a dictionary except the extracted keys using dictionary comprehension.\n",
    "    Data:\n",
    "        D = {0: 'A', 1: 'B', 2: 'C', 3: 'D', 4: 'E', 5: 'F'}\n",
    "        Keys = [0, 1, 4]\n",
    "    Expected Output:\n",
    "        {2: 'C', 3: 'D', 5: 'F'}\n",
    "        \n",
    "        \n",
    "        \n",
    "        "
   ]
  },
  {
   "cell_type": "code",
   "execution_count": 13,
   "metadata": {},
   "outputs": [
    {
     "name": "stdout",
     "output_type": "stream",
     "text": [
      "{2: 'C', 3: 'D', 5: 'F'}\n"
     ]
    }
   ],
   "source": [
    "D = {0: 'A', 1: 'B', 2: 'C', 3: 'D', 4: 'E', 5: 'F'}\n",
    "Keys = [0, 1, 4]\n",
    "new_d={k:D[k] for k in D.keys() - Keys}\n",
    "print(new_d)"
   ]
  },
  {
   "cell_type": "code",
   "execution_count": null,
   "metadata": {},
   "outputs": [],
   "source": [
    "7. Write a python program to retrieve key and value from a dictionary and print the reverse using dictionary comprehension.\n",
    "    For example: {'k': 'v'} -> {'v': 'k'}\n",
    "    Data:\n",
    "        D = {0: 'Boss', 1: 'Siva', 2: 'Suresh'}\n",
    "    Expected Output:\n",
    "        {'Boss': 0, 'Siva': 1, 'Suresh': 2}\n",
    "        \n",
    "        \n",
    "        \n",
    "        "
   ]
  },
  {
   "cell_type": "code",
   "execution_count": 14,
   "metadata": {},
   "outputs": [
    {
     "name": "stdout",
     "output_type": "stream",
     "text": [
      "{'Boss': 0, 'Siva': 1, 'Suresh': 2}\n"
     ]
    }
   ],
   "source": [
    "D = {0: 'Boss', 1: 'Siva', 2: 'Suresh'}\n",
    "newd={v:k for (k,v) in D.items()}\n",
    "print(newd)"
   ]
  },
  {
   "cell_type": "code",
   "execution_count": null,
   "metadata": {},
   "outputs": [],
   "source": [
    "8. Write a Python program to convert the given list into a dictionary with default value ‘2’ for each key using dictionary comprehension.\n",
    "    Data:\n",
    "        keys = ['red', 'green', 'blue']\n",
    "    Expected Output:\n",
    "        {'red': 2, 'green': 2, 'blue': 2}\n",
    "        \n",
    "        \n",
    "        \n",
    "        "
   ]
  },
  {
   "cell_type": "code",
   "execution_count": 15,
   "metadata": {},
   "outputs": [
    {
     "name": "stdout",
     "output_type": "stream",
     "text": [
      "{'red': 2, 'green': 2, 'blue': 2}\n"
     ]
    }
   ],
   "source": [
    "keys = ['red', 'green', 'blue']\n",
    "d={k:2 for k in keys}\n",
    "print(d)"
   ]
  },
  {
   "cell_type": "code",
   "execution_count": null,
   "metadata": {},
   "outputs": [],
   "source": [
    "9. From the given lists keys and values, write a python program using dictionary comprehension \n",
    "        to combining these two lists to print a new dictionary which has the key from keys list and values from the values list.\n",
    "    Data:\n",
    "        keys = ['name', 'age', 'job']\n",
    "        values = ['Suresh', 27, 'Dev']\n",
    "    Expected Output:\n",
    "        {'name': 'Suresh', 'age': 27, 'job': 'Dev'}\n",
    "        \n",
    "        \n",
    "        \n",
    "        "
   ]
  },
  {
   "cell_type": "code",
   "execution_count": 16,
   "metadata": {},
   "outputs": [
    {
     "name": "stdout",
     "output_type": "stream",
     "text": [
      "{'name': 'Suresh', 'age': 27, 'job': 'Dev'}\n"
     ]
    }
   ],
   "source": [
    "keys = ['name', 'age', 'job']\n",
    "values = ['Suresh', 27, 'Dev']\n",
    "d={k:v for (k,v) in zip(keys,values)}\n",
    "print(d)"
   ]
  },
  {
   "cell_type": "code",
   "execution_count": null,
   "metadata": {},
   "outputs": [],
   "source": [
    "10. Write a python program to print a dictionary only when the values are even numbers. \n",
    "        The dictionary should have the key as x and values as x**x for the range(6). \n",
    "    Data:\n",
    "        range(6)\n",
    "        x%2==0\n",
    "    Expected Output:\n",
    "        {0: 0, 2: 4, 4: 16}\n",
    "        \n",
    "        \n",
    "        \n",
    "        "
   ]
  },
  {
   "cell_type": "code",
   "execution_count": 18,
   "metadata": {},
   "outputs": [
    {
     "name": "stdout",
     "output_type": "stream",
     "text": [
      "{0: 0, 2: 4, 4: 16}\n"
     ]
    }
   ],
   "source": [
    "n=range(6)\n",
    "d={x:x*x for x in n if x%2==0}\n",
    "print(d)"
   ]
  },
  {
   "cell_type": "code",
   "execution_count": null,
   "metadata": {},
   "outputs": [],
   "source": [
    "11. Write a Python program to sort a list alphabetically present in a dictionary using dictionary comprehension.\n",
    "    Data:\n",
    "        d = {'n1': [2, 3, 1], 'n2': [5, 1, 2], 'n3': [3, 2, 4]}\n",
    "    Expected Output:\n",
    "        {'n1': [1, 2, 3], 'n2': [1, 2, 5], 'n3': [2, 3, 4]}\n",
    "        \n",
    "        \n",
    "        \n",
    "        "
   ]
  },
  {
   "cell_type": "code",
   "execution_count": 20,
   "metadata": {},
   "outputs": [
    {
     "name": "stdout",
     "output_type": "stream",
     "text": [
      "{'n1': [1, 2, 3], 'n2': [1, 2, 5], 'n3': [2, 3, 4]}\n"
     ]
    }
   ],
   "source": [
    "d = {'n1': [2, 3, 1], 'n2': [5, 1, 2], 'n3': [3, 2, 4]}\n",
    "newd={k:sorted(d[k]) for k in sorted(d)}\n",
    "print(newd)"
   ]
  }
 ],
 "metadata": {
  "kernelspec": {
   "display_name": "Python 3 (ipykernel)",
   "language": "python",
   "name": "python3"
  },
  "language_info": {
   "codemirror_mode": {
    "name": "ipython",
    "version": 3
   },
   "file_extension": ".py",
   "mimetype": "text/x-python",
   "name": "python",
   "nbconvert_exporter": "python",
   "pygments_lexer": "ipython3",
   "version": "3.9.13"
  }
 },
 "nbformat": 4,
 "nbformat_minor": 4
}
