{
 "cells": [
  {
   "cell_type": "code",
   "execution_count": 1,
   "metadata": {},
   "outputs": [
    {
     "name": "stdout",
     "output_type": "stream",
     "text": [
      "15\n",
      "5\n",
      "2\n",
      "0\n"
     ]
    }
   ],
   "source": [
    "# 1 .Question | Write a program to print 15,5,2 and 0 ,use the approriate operator\n",
    "\n",
    "a = 10\n",
    "b = 5\n",
    "\n",
    "# Your Answer\n",
    "\n",
    "print(a+b)\n",
    "print(a-b)\n",
    "print(a//b)\n",
    "print(a%b)\n"
   ]
  },
  {
   "cell_type": "code",
   "execution_count": 2,
   "metadata": {},
   "outputs": [
    {
     "name": "stdout",
     "output_type": "stream",
     "text": [
      "15\n",
      "5\n",
      "2\n",
      "0\n"
     ]
    }
   ],
   "source": [
    "a=10\n",
    "b=5\n",
    "\n",
    "print(a+b)\n",
    "print(a-b)\n",
    "print(a//b)\n",
    "print(a%b)"
   ]
  },
  {
   "cell_type": "code",
   "execution_count": 12,
   "metadata": {},
   "outputs": [
    {
     "name": "stdout",
     "output_type": "stream",
     "text": [
      "2.2\n"
     ]
    }
   ],
   "source": [
    "a=11\n",
    "b=5\n",
    "print(a/b)"
   ]
  },
  {
   "cell_type": "code",
   "execution_count": 4,
   "metadata": {},
   "outputs": [
    {
     "name": "stdout",
     "output_type": "stream",
     "text": [
      "9\n"
     ]
    }
   ],
   "source": [
    "# 2 .Question | write a code to print 9 , use the approriate operator\n",
    "a = 3\n",
    "b = 2\n",
    "\n",
    "# Your Answer\n",
    "\n",
    "print(a*b+a)"
   ]
  },
  {
   "cell_type": "code",
   "execution_count": 14,
   "metadata": {},
   "outputs": [
    {
     "name": "stdout",
     "output_type": "stream",
     "text": [
      "9\n",
      "27\n"
     ]
    }
   ],
   "source": [
    "a=3\n",
    "b=2\n",
    "\n",
    "print(a*b+a)\n",
    "print(a**3)"
   ]
  },
  {
   "cell_type": "code",
   "execution_count": 7,
   "metadata": {},
   "outputs": [
    {
     "name": "stdout",
     "output_type": "stream",
     "text": [
      "2\n",
      "2.25\n",
      "1\n"
     ]
    }
   ],
   "source": [
    "# 4 .Question | # write a code to print 2 , 2.25 and 1 , use the approriate operator\n",
    "\n",
    "x = 9\n",
    "y = 4\n",
    "\n",
    "# Your Answer\n",
    "\n",
    "print(x//y)\n",
    "print(x/y)\n",
    "print(x%y)\n",
    "\n",
    "\n"
   ]
  },
  {
   "cell_type": "code",
   "execution_count": 5,
   "metadata": {},
   "outputs": [
    {
     "name": "stdout",
     "output_type": "stream",
     "text": [
      "2.25\n",
      "2\n",
      "1\n"
     ]
    }
   ],
   "source": [
    "x = 9\n",
    "y = 4\n",
    "\n",
    "print(x/y)\n",
    "print(x//y)\n",
    "print(x%y)"
   ]
  },
  {
   "cell_type": "code",
   "execution_count": 9,
   "metadata": {},
   "outputs": [
    {
     "name": "stdout",
     "output_type": "stream",
     "text": [
      "true\n"
     ]
    }
   ],
   "source": [
    "# 5 .Question |  # write a code print True ,use the approriate operator\n",
    "\n",
    "a = 10\n",
    "b = 5\n",
    "\n",
    "# Your Answer\n",
    "\n",
    "#a is greaterthan b\n",
    "if a>b:\n",
    "    print('true')\n",
    "\n"
   ]
  },
  {
   "cell_type": "code",
   "execution_count": 6,
   "metadata": {},
   "outputs": [
    {
     "name": "stdout",
     "output_type": "stream",
     "text": [
      "True\n"
     ]
    }
   ],
   "source": [
    "a = 10\n",
    "b = 20\n",
    "\n",
    "if(a<b):\n",
    "    print('True')"
   ]
  },
  {
   "cell_type": "code",
   "execution_count": 13,
   "metadata": {},
   "outputs": [
    {
     "name": "stdout",
     "output_type": "stream",
     "text": [
      "false\n"
     ]
    }
   ],
   "source": [
    "# 5 .Question | # # write a code print Fale\n",
    "\n",
    "a = 15\n",
    "b = 15 \n",
    "\n",
    "# Your Answer\n",
    "\n",
    "\n",
    "if a==b:\n",
    "    print('false')\n",
    "\n"
   ]
  },
  {
   "cell_type": "code",
   "execution_count": 12,
   "metadata": {},
   "outputs": [
    {
     "name": "stdout",
     "output_type": "stream",
     "text": [
      "False\n"
     ]
    }
   ],
   "source": [
    "a = 10\n",
    "b = 15\n",
    "\n",
    "if(a<b):\n",
    "    print('False')"
   ]
  },
  {
   "cell_type": "code",
   "execution_count": 11,
   "metadata": {},
   "outputs": [
    {
     "name": "stdout",
     "output_type": "stream",
     "text": [
      "true\n"
     ]
    }
   ],
   "source": [
    "# 6 .Question | # # write a code print True\n",
    "\n",
    "a = 24\n",
    "b = 24\n",
    "\n",
    "# Your Answer\n",
    "\n",
    "\n",
    "if a==b:\n",
    "    print('true')\n",
    "\n"
   ]
  },
  {
   "cell_type": "code",
   "execution_count": 14,
   "metadata": {},
   "outputs": [
    {
     "name": "stdout",
     "output_type": "stream",
     "text": [
      "True\n"
     ]
    }
   ],
   "source": [
    "a =25\n",
    "b =27\n",
    "\n",
    "if(a!=b):\n",
    "    print('True')"
   ]
  },
  {
   "cell_type": "code",
   "execution_count": 15,
   "metadata": {},
   "outputs": [
    {
     "name": "stdout",
     "output_type": "stream",
     "text": [
      "True\n"
     ]
    }
   ],
   "source": [
    "# 7 .Question | # # write a code print True\n",
    "\n",
    "a = \"python\"\n",
    "b = \"python\"\n",
    "\n",
    "# Your Answer\n",
    "\n",
    "if(a==b):\n",
    "    print('True')\n",
    "\n",
    "\n"
   ]
  },
  {
   "cell_type": "code",
   "execution_count": 7,
   "metadata": {},
   "outputs": [
    {
     "name": "stdout",
     "output_type": "stream",
     "text": [
      "False\n"
     ]
    }
   ],
   "source": [
    "# 8 .Question | #  write a code print false using and operator\n",
    "\n",
    "a = 10 \n",
    "b = 20\n",
    "\n",
    "# Your Answer\n",
    "\n",
    "if(a>5 and b<30):\n",
    "    print(\"False\")\n",
    "\n",
    "\n",
    "\n"
   ]
  },
  {
   "cell_type": "code",
   "execution_count": 11,
   "metadata": {},
   "outputs": [
    {
     "name": "stdout",
     "output_type": "stream",
     "text": [
      "True\n"
     ]
    }
   ],
   "source": [
    "# 9 .Question | #  write a code print True using or operator\n",
    "\n",
    "a = 20\n",
    "b = 10 \n",
    "\n",
    "# Your Answer\n",
    "\n",
    "if(a<10 or b<20): \n",
    "    print(\"True\")\n",
    "\n",
    "\n",
    "\n",
    "\n"
   ]
  },
  {
   "cell_type": "code",
   "execution_count": 23,
   "metadata": {},
   "outputs": [
    {
     "name": "stdout",
     "output_type": "stream",
     "text": [
      "True\n"
     ]
    }
   ],
   "source": [
    "# 10 .Question | #  write a code print True using Not operator\n",
    "\n",
    "a = 20\n",
    "b = 10 \n",
    "\n",
    "# Your Answer\n",
    "\n",
    "if(not(a>20 and b<5)):\n",
    "    print(\"True\")\n",
    "if(not(a>=20 or b==5)):\n",
    "    print(\"True\")\n",
    "\n",
    "\n",
    "\n"
   ]
  }
 ],
 "metadata": {
  "kernelspec": {
   "display_name": "Python 3 (ipykernel)",
   "language": "python",
   "name": "python3"
  },
  "language_info": {
   "codemirror_mode": {
    "name": "ipython",
    "version": 3
   },
   "file_extension": ".py",
   "mimetype": "text/x-python",
   "name": "python",
   "nbconvert_exporter": "python",
   "pygments_lexer": "ipython3",
   "version": "3.9.13"
  }
 },
 "nbformat": 4,
 "nbformat_minor": 2
}
