{
 "cells": [
  {
   "cell_type": "code",
   "execution_count": 1,
   "id": "1517178e",
   "metadata": {},
   "outputs": [],
   "source": [
    "from pywebio.input import *\n",
    "from pywebio.output import *"
   ]
  },
  {
   "cell_type": "code",
   "execution_count": 2,
   "id": "7d60b9d9",
   "metadata": {},
   "outputs": [
    {
     "name": "stdout",
     "output_type": "stream",
     "text": [
      "User Details: {'username': 'rnivithraa1999@gmail.com', 'password': 'Nissi@7', 'phoneno': 7397439134}\n",
      "Gender: Female\n",
      "1. Ordered, Indexed, Immutable and Allows duplicate values\n",
      "2. yield\n",
      "3. True\n",
      "4. l = [1,2,4,4,6,2,9]\n",
      "print(list(set(l)))\n",
      "5. None of the above\n",
      "6.  l = [90,-7,5,44] \n",
      "l.sort()\n",
      "print(l[0])\n",
      "\n",
      "7. continue\n",
      "8. filter\n",
      "9. Incorrect\n",
      "10. ['only 2&3']\n"
     ]
    }
   ],
   "source": [
    "user_dets = input_group('User Details',[input('Username',name='username',type=TEXT,required=True),\n",
    "                                        input('Password',name='password',type=PASSWORD,required=True),\n",
    "                                       input('Phone number',name='phoneno',type=NUMBER,required=True)])\n",
    "gen = radio('Gender:', options=['Male','Female'])\n",
    "popup('Test your knowledge in Python!','Test starts')\n",
    "q1 = textarea('1.What are the characteristics of a tuple?',rows=3 )\n",
    "q2 = input('2.Function---->return : Generator---->_____',type=\"text\")\n",
    "q3=radio(\"3.Select True\\False: T1=(1,2)  T2=(3)  print(T1+T2)  Output:(1,2,3)\",options=['True','False'])\n",
    "q4=textarea(\"4.Write a program code that uses the simplest way to remove duplicates from list=[1,2,4,4,6,2,9]\", rows=4)\n",
    "q5=select(\"5.What will be the output of :  s1={22,45,56,99,31}  print(s[3]) \", options=['99','56','None of the above'])\n",
    "q6=textarea(\"6.Write a short python code to find the smallest element in l=[90,-7,5,44] without using minimum function\",rows=3)\n",
    "q7=select(\"7.Choose the correct answer to get the desired output:  for val in \\\"string\\\":  if  val==\\\"i\\\":______   print(val,end=\\'\\') Output:strng\",options=['break','continue'])\n",
    "q8=radio(\"8.Which function will produce the foll. output?: letters = [\\'b\\', \\'i\\', \\'o\\', \\'s\\', \\'p\\', \\'h\\', \\'e\\', \\'r\\', \\'e\\'] Ouput:Vowels present in \\\"biosphere\\\" are i o e e\",options=['zip','map','filter'])\n",
    "q9=radio(\"9.Is the foll. code correct?   x=lambda a,b,c : a+b,a+c   print(x(5,6,7))\",options=['Correct','Incorrect'])\n",
    "q10=checkbox(\"10.What are the possible reasons that cause an infinite while loop?\",options=['1.Missing \\\":\\\"','2.While condtion never turning False','3.Not updating the loop control variable','only 1&2','only 2&3','None of the above'])\n",
    "popup('Test Submitted','Thank you')\n",
    "print('User Details:',user_dets)\n",
    "print('Gender:',gen)\n",
    "print(\"1.\",q1)\n",
    "print(\"2.\",q2)\n",
    "print(\"3.\",q3)\n",
    "print(\"4.\",q4)\n",
    "print(\"5.\",q5)\n",
    "print(\"6.\",q6)\n",
    "print(\"7.\",q7)\n",
    "print(\"8.\",q8)\n",
    "print(\"9.\",q9)\n",
    "print(\"10.\",q10)"
   ]
  }
 ],
 "metadata": {
  "kernelspec": {
   "display_name": "Python 3 (ipykernel)",
   "language": "python",
   "name": "python3"
  },
  "language_info": {
   "codemirror_mode": {
    "name": "ipython",
    "version": 3
   },
   "file_extension": ".py",
   "mimetype": "text/x-python",
   "name": "python",
   "nbconvert_exporter": "python",
   "pygments_lexer": "ipython3",
   "version": "3.9.13"
  }
 },
 "nbformat": 4,
 "nbformat_minor": 5
}
