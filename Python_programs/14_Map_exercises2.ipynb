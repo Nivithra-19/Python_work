{
 "cells": [
  {
   "cell_type": "code",
   "execution_count": null,
   "metadata": {},
   "outputs": [],
   "source": [
    "1. Write a Python program to triple all the numbers of a given list of integers using map().\n",
    "    Data:\n",
    "        Original list:  (1, 2, 3, 4, 5, 6, 7)\n",
    "    Expected Output:\n",
    "        Triple of said list numbers:\n",
    "        <map object at 0x0000014EA83550D0>\n",
    "        [3, 6, 9, 12, 15, 18, 21]\n",
    "            \n",
    "            \n",
    "            \n",
    "            "
   ]
  },
  {
   "cell_type": "code",
   "execution_count": 5,
   "metadata": {},
   "outputs": [
    {
     "name": "stdout",
     "output_type": "stream",
     "text": [
      "[3, 6, 9, 12, 15, 18, 21]\n"
     ]
    }
   ],
   "source": [
    "l=[1,2,3,4,5,6,7]\n",
    "x=list(map(lambda a:a*3,l))\n",
    "print(x)"
   ]
  },
  {
   "cell_type": "code",
   "execution_count": null,
   "metadata": {},
   "outputs": [],
   "source": [
    "2. Write a Python program to add three given lists using map and lambda functions.\n",
    "    Data:\n",
    "        x = [1, 2, 3] \n",
    "        y = [4, 5, 6] \n",
    "        z = [7, 8, 9]\n",
    "    Expected Output:\n",
    "        New list after adding above three lists:\n",
    "        <map object at 0x0000014EA8396580>\n",
    "        [12, 15, 18]\n",
    "            \n",
    "            \n",
    "            \n",
    "            "
   ]
  },
  {
   "cell_type": "code",
   "execution_count": 6,
   "metadata": {},
   "outputs": [
    {
     "name": "stdout",
     "output_type": "stream",
     "text": [
      "[12, 15, 18]\n"
     ]
    }
   ],
   "source": [
    "x = [1, 2, 3] \n",
    "y = [4, 5, 6] \n",
    "z = [7, 8, 9]\n",
    "l=list(map(lambda a,b,c:a+b+c ,x,y,z))\n",
    "print(l)"
   ]
  },
  {
   "cell_type": "code",
   "execution_count": null,
   "metadata": {},
   "outputs": [],
   "source": [
    "3. Write a Python program to print the given strings individually from the list using map().\n",
    "    Data:\n",
    "        Original list: ['Boss', 'Suresh', 'Siva', 'Balu', 'Dinesh']\n",
    "    Expected Output:\n",
    "        Original list: \n",
    "            ['Boss', 'Suresh', 'Siva', 'Balu', 'Dinesh']\n",
    "        Listing of strings individually : \n",
    "            <map object at 0x000002175B15CD60>\n",
    "            [['B', 'o', 's', 's'], ['S', 'u', 'r', 'e', 's', 'h'], ['S', 'i', 'v', 'a'], \n",
    "             ['B', 'a', 'l', 'u'], ['D', 'i', 'n', 'e', 's', 'h']]\n",
    "        \n",
    "        \n",
    "        \n",
    "        "
   ]
  },
  {
   "cell_type": "code",
   "execution_count": 40,
   "metadata": {},
   "outputs": [
    {
     "name": "stdout",
     "output_type": "stream",
     "text": [
      "Original list: ['Boss', 'Suresh', 'Siva', 'Balu', 'Dinesh']\n",
      "Listing of strings individually:\n",
      "[['B', 'o', 's', 's'], ['S', 'u', 'r', 'e', 's', 'h'], ['S', 'i', 'v', 'a'], ['B', 'a', 'l', 'u'], ['D', 'i', 'n', 'e', 's', 'h']]\n"
     ]
    }
   ],
   "source": [
    "l=['Boss', 'Suresh', 'Siva', 'Balu', 'Dinesh']\n",
    "print(\"Original list:\",l)\n",
    "los=list(map(list,l))\n",
    "print(\"Listing of strings individually:\")\n",
    "print(los)"
   ]
  },
  {
   "cell_type": "code",
   "execution_count": null,
   "metadata": {},
   "outputs": [],
   "source": [
    "4. Write a Python program to create a list, containing the power of numbers in the given list [num] and \n",
    "            bases raised to the corresponding number from the list [index] using map().\n",
    "    Data:\n",
    "        num = [10, 20, 30, 40, 50, 60, 70, 80, 90, 100]\n",
    "        index = [1, 2, 3, 4, 5, 6, 7, 8, 9, 10]\n",
    "    Expected Output:\n",
    "        Power of said number in bases raised to the corresponding number in the index:\n",
    "        <map object at 0x0000014EA833C9A0>\n",
    "        [10, 400, 27000, 2560000, 312500000, 46656000000, 8235430000000, 1677721600000000, 387420489000000000, \n",
    "         100000000000000000000]\n",
    "        \n",
    "        \n",
    "        \n",
    "        "
   ]
  },
  {
   "cell_type": "code",
   "execution_count": 37,
   "metadata": {},
   "outputs": [
    {
     "name": "stdout",
     "output_type": "stream",
     "text": [
      "[10, 400, 27000, 2560000, 312500000, 46656000000, 8235430000000, 1677721600000000, 387420489000000000, 100000000000000000000]\n"
     ]
    }
   ],
   "source": [
    "#to compute the power of  numbers in the list num raised to the corresponding powers in the list index\n",
    "# ex: 10**1 , 20**2 , 30**3\n",
    "num = [10, 20, 30, 40, 50, 60, 70, 80, 90, 100]\n",
    "index = [1, 2, 3, 4, 5, 6, 7, 8, 9, 10]\n",
    "li=list(map(lambda x,y:x**y,num,index))\n",
    "print(li)\n"
   ]
  },
  {
   "cell_type": "code",
   "execution_count": null,
   "metadata": {},
   "outputs": [],
   "source": [
    "5. Write a Python program to square the elements of a list using map() function.\n",
    "    Data:\n",
    "        Original List:  [4, 5, 6, 7]\n",
    "    Expected Output:\n",
    "        Square the elements of the said list using map():\n",
    "        [16, 25, 36, 49]\n",
    "        \n",
    "        \n",
    "        \n",
    "        "
   ]
  },
  {
   "cell_type": "code",
   "execution_count": 7,
   "metadata": {},
   "outputs": [
    {
     "data": {
      "text/plain": [
       "[16, 25, 36, 49]"
      ]
     },
     "execution_count": 7,
     "metadata": {},
     "output_type": "execute_result"
    }
   ],
   "source": [
    "l=[4,5,6,7]\n",
    "l1=list(map(lambda x:x**2,l))\n",
    "l1"
   ]
  },
  {
   "cell_type": "code",
   "execution_count": null,
   "metadata": {},
   "outputs": [],
   "source": [
    "6. Write a Python program to convert all the characters in uppercase and lowercase and \n",
    "            eliminate duplicate letters from a given sequence. Use map() function.\n",
    "    Data:\n",
    "        Original Characters: {'U', 'f', 'c', 'i', 'E', 'a', 'b', 'o'}\n",
    "    Expected Output:\n",
    "        After converting above characters in upper and lower casesand eliminating duplicate letters:\n",
    "        {('C', 'c'), ('I', 'i'), ('A', 'a'), ('F', 'f'), ('B', 'b'), ('O', 'o'), ('E', 'e'), ('U', 'u')}\n",
    "        \n",
    "        \n",
    "        \n",
    "        "
   ]
  },
  {
   "cell_type": "code",
   "execution_count": 2,
   "metadata": {},
   "outputs": [
    {
     "name": "stdout",
     "output_type": "stream",
     "text": [
      "Original List:\n",
      "['U', 'f', 'c', 'i', 'E', 'a', 'b', 'o', 'o', 'e']\n",
      "After converting cases and removing duplicate elements:\n",
      "{('F', 'f'), ('I', 'i'), ('E', 'e'), ('O', 'o'), ('C', 'c'), ('A', 'a'), ('B', 'b'), ('U', 'u')}\n"
     ]
    }
   ],
   "source": [
    "li=['U', 'f', 'c', 'i', 'E', 'a', 'b', 'o','o','e']\n",
    "print(\"Original List:\")\n",
    "print(li)\n",
    "L=set(zip(map(lambda x:x.upper(),li),map(lambda x:x.lower(),li)))\n",
    "print(\"After converting cases and removing duplicate elements:\")\n",
    "print(L)\n",
    "\n",
    "\n",
    "\n"
   ]
  },
  {
   "cell_type": "code",
   "execution_count": null,
   "metadata": {},
   "outputs": [],
   "source": [
    "7. Write a Python program to add two given lists and find the difference between lists.\n",
    "        Print the results in another list using map() function.\n",
    "    Data:\n",
    "        nums1 = [4, 5, 6, 7]\n",
    "        nums2 = [0, 1, 2, 3]\n",
    "    Expected Output:\n",
    "        [(4, 4), (6, 4), (8, 4), (10, 4)]\n",
    "        \n",
    "        \n",
    "        \n",
    "        "
   ]
  },
  {
   "cell_type": "code",
   "execution_count": 9,
   "metadata": {},
   "outputs": [
    {
     "name": "stdout",
     "output_type": "stream",
     "text": [
      "[(4, 4), (6, 4), (8, 4), (10, 4)]\n"
     ]
    }
   ],
   "source": [
    "num1 = [4, 5, 6, 7]\n",
    "num2 = [0, 1, 2, 3]\n",
    "l=list(zip(map(lambda a,b:a+b,num1,num2),map(lambda x,y:x-y,num1,num2)))\n",
    "print(l)\n"
   ]
  },
  {
   "cell_type": "code",
   "execution_count": null,
   "metadata": {},
   "outputs": [],
   "source": [
    "8. Write a Python program to convert a given list of integers and a given tuple of integers into lists of strings.\n",
    "    Data:\n",
    "        lists = [1,2,3,4]\n",
    "        tuples = (0, 1, 2, 3) \n",
    "    Expected Output:\n",
    "        List of strings: ['1', '2', '3', '4']\n",
    "        Tuple of strings: ('0', '1', '2', '3')\n",
    "            \n",
    "            \n",
    "            \n",
    "            "
   ]
  },
  {
   "cell_type": "code",
   "execution_count": 2,
   "metadata": {},
   "outputs": [
    {
     "name": "stdout",
     "output_type": "stream",
     "text": [
      "['1', '2', '3', '4']\n",
      "('0', '1', '2', '3')\n"
     ]
    }
   ],
   "source": [
    "lists = [1,2,3,4]\n",
    "tuples = (0, 1, 2, 3) \n",
    "l1=list(map(lambda x:str(x),lists))\n",
    "t1=tuple(map(lambda x:str(x),tuples))\n",
    "print(l1)\n",
    "print(t1)"
   ]
  },
  {
   "cell_type": "code",
   "execution_count": null,
   "metadata": {},
   "outputs": [],
   "source": [
    "9. Write a Python program to create a new list by taking the weights of each student from a given tuple and \n",
    "            convert the string value into an integer using map().\n",
    "    Data:\n",
    "        student = [('Baskar','15/05/2002','35kg'), ('Suresh','17/05/2002','37kg'), ('Siva','16/02/1999', '39kg'), \n",
    "                 ('Dinesh','25/09/1998', '35kg')]\n",
    "    Expected Output:\n",
    "        Student weight: [35, 37, 39, 35]\n",
    "            \n",
    "            \n",
    "            \n",
    "            "
   ]
  },
  {
   "cell_type": "code",
   "execution_count": 1,
   "metadata": {},
   "outputs": [
    {
     "name": "stdout",
     "output_type": "stream",
     "text": [
      "Student details:\n",
      "[('Baskar', '15/05/2002', '35kg'), ('Suresh', '17/05/2002', '37kg'), ('Siva', '16/02/1999', '39kg'), ('Dinesh', '25/09/1998', '35kg')]\n",
      "Student Weight: [35, 37, 39, 35]\n"
     ]
    }
   ],
   "source": [
    "student = [('Baskar','15/05/2002','35kg'),('Suresh','17/05/2002','37kg'),\n",
    "           ('Siva','16/02/1999', '39kg'),('Dinesh','25/09/1998', '35kg')]\n",
    "print(\"Student details:\")\n",
    "print(student)\n",
    "weight=list(map(lambda x:int(x[2][:2]),student))\n",
    "print(\"Student Weight:\",weight)\n",
    "\n",
    "\n",
    "\n",
    "    "
   ]
  },
  {
   "cell_type": "code",
   "execution_count": null,
   "metadata": {},
   "outputs": [],
   "source": [
    "10. Write a Python program to print the first 10 fibonacci series and map() the squares of each numbers in a series into a list.\n",
    "    Expected Output:\n",
    "        First 10 Fibonacci numbers: [0, 1, 1, 2, 3, 5, 8, 13, 21, 34]\n",
    "        After squaring said numbers of the list: [0, 1, 1, 4, 9, 25, 64, 169, 441, 1156]\n",
    "            \n",
    "            \n",
    "            \n",
    "            "
   ]
  },
  {
   "cell_type": "code",
   "execution_count": 4,
   "metadata": {},
   "outputs": [
    {
     "name": "stdout",
     "output_type": "stream",
     "text": [
      "First 10 Fibonacci numbers: [0, 1, 1, 2, 3, 5, 8, 13, 21, 34]\n",
      "After squaring said numbers of the list: [0, 1, 1, 4, 9, 25, 64, 169, 441, 1156]\n"
     ]
    }
   ],
   "source": [
    "num=10\n",
    "fibl=[0,1]\n",
    "n1=0\n",
    "n2=1\n",
    "for i in range(2,num):\n",
    "        fibl.append(n1+n2)\n",
    "        n1,n2 = n2,n1+n2\n",
    "        \n",
    "print(\"First 10 Fibonacci numbers:\",fibl)\n",
    "\n",
    "fibsq=list(map(lambda x:x**2,fibl))\n",
    "print(\"After squaring said numbers of the list:\",fibsq)\n",
    "    \n",
    "    \n",
    "\n"
   ]
  }
 ],
 "metadata": {
  "kernelspec": {
   "display_name": "Python 3 (ipykernel)",
   "language": "python",
   "name": "python3"
  },
  "language_info": {
   "codemirror_mode": {
    "name": "ipython",
    "version": 3
   },
   "file_extension": ".py",
   "mimetype": "text/x-python",
   "name": "python",
   "nbconvert_exporter": "python",
   "pygments_lexer": "ipython3",
   "version": "3.9.13"
  }
 },
 "nbformat": 4,
 "nbformat_minor": 4
}
