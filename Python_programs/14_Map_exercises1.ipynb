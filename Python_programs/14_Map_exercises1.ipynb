{
 "cells": [
  {
   "cell_type": "code",
   "execution_count": null,
   "metadata": {},
   "outputs": [],
   "source": [
    "1. Write a python program to map the squares of the numbers present in a list.\n",
    "    Data:\n",
    "        m = [1,2,3,4,5,6,7,8,9]\n",
    "    Expected Output:\n",
    "        <map object at 0x00000232B9256790>\n",
    "        [1, 4, 9, 16, 25, 36, 49, 64, 81]\n",
    "        \n",
    "        "
   ]
  },
  {
   "cell_type": "code",
   "execution_count": 1,
   "metadata": {},
   "outputs": [
    {
     "name": "stdout",
     "output_type": "stream",
     "text": [
      "[1, 4, 9, 16, 25, 36, 49, 64, 81]\n"
     ]
    }
   ],
   "source": [
    "m = [1,2,3,4,5,6,7,8,9]\n",
    "def sq(x):\n",
    "     return x**2\n",
    "n=list(map(sq,m))\n",
    "print(n)"
   ]
  },
  {
   "cell_type": "code",
   "execution_count": null,
   "metadata": {},
   "outputs": [],
   "source": [
    "2. Write a python program to round off the values in a given list using map().\n",
    "    Data:\n",
    "        m = [2.6743,3.63526,4.2325,5.9687967,6.3265,7.6988,8.232,9.6907]\n",
    "    Expected Output:\n",
    "        <map object at 0x00000232B9256E50>\n",
    "        [3, 4, 4, 6, 6, 8, 8, 10]\n",
    "        \n",
    "        \n",
    "        \n",
    "        "
   ]
  },
  {
   "cell_type": "code",
   "execution_count": 1,
   "metadata": {},
   "outputs": [
    {
     "name": "stdout",
     "output_type": "stream",
     "text": [
      "[3, 4, 4, 6, 6, 8, 8, 10]\n"
     ]
    }
   ],
   "source": [
    "m = [2.6743,3.63526,4.2325,5.9687967,6.3265,7.6988,8.232,9.6907]\n",
    "\n",
    "n=list(map(lambda x:round(x),m))\n",
    "print(n)"
   ]
  },
  {
   "cell_type": "code",
   "execution_count": null,
   "metadata": {},
   "outputs": [],
   "source": [
    "3. Write a python program to print the given string by iterating it using for loop and map().\n",
    "    Data:\n",
    "        m = \"welcome to Aidinasaur!\"\n",
    "    Expected Output:\n",
    "        <map object at 0x00000232B92568B0>\n",
    "        welcome to Aidinasaur!\n",
    "        \n",
    "        \n",
    "        "
   ]
  },
  {
   "cell_type": "code",
   "execution_count": 39,
   "metadata": {},
   "outputs": [
    {
     "name": "stdout",
     "output_type": "stream",
     "text": [
      "<map object at 0x0000023AFE72E880>\n",
      "welcome to Aidinasaur!"
     ]
    }
   ],
   "source": [
    "m = \"welcome to Aidinasaur!\"\n",
    "def dis(x):\n",
    "    return x\n",
    "l=map(dis,m)\n",
    "print(l)\n",
    "for i in l:\n",
    "    print(i,end='')\n",
    "\n",
    "    "
   ]
  },
  {
   "cell_type": "code",
   "execution_count": 40,
   "metadata": {},
   "outputs": [
    {
     "name": "stdout",
     "output_type": "stream",
     "text": [
      "<map object at 0x0000023AFE543E80>\n",
      "welcome to Aidinasaur!"
     ]
    }
   ],
   "source": [
    "m = \"welcome to Aidinasaur!\"\n",
    "n=map(lambda x:x,m)\n",
    "print(n)\n",
    "for i in n:\n",
    "    print(i,end='')"
   ]
  },
  {
   "cell_type": "code",
   "execution_count": null,
   "metadata": {},
   "outputs": [],
   "source": [
    "4. Write a python program to print the given list of numbers using map().\n",
    "    Data:\n",
    "        [2,3,4,5,6,7,8,9]\n",
    "    Expected Output:\n",
    "        <map object at 0x00000232B9256970>\n",
    "        [2, 3, 4, 5, 6, 7, 8, 9]\n",
    "        \n",
    "        \n",
    "        \n",
    "        "
   ]
  },
  {
   "cell_type": "code",
   "execution_count": 25,
   "metadata": {},
   "outputs": [
    {
     "name": "stdout",
     "output_type": "stream",
     "text": [
      "[2, 3, 4, 5, 6, 7, 8, 9]\n"
     ]
    }
   ],
   "source": [
    "m = [2,3,4,5,6,7,8,9]\n",
    "\n",
    "n=list(map(lambda x:x,m))\n",
    "print(n)\n"
   ]
  },
  {
   "cell_type": "code",
   "execution_count": 26,
   "metadata": {},
   "outputs": [
    {
     "data": {
      "text/plain": [
       "[2, 3, 4, 5, 6, 7, 8, 9]"
      ]
     },
     "execution_count": 26,
     "metadata": {},
     "output_type": "execute_result"
    }
   ],
   "source": [
    "m = [2,3,4,5,6,7,8,9]\n",
    "def dis(x):\n",
    "    return x\n",
    "n=list(map(dis,m))\n",
    "n"
   ]
  },
  {
   "cell_type": "code",
   "execution_count": null,
   "metadata": {},
   "outputs": [],
   "source": [
    "5. Write a python program to print the given tuple of strings using map().\n",
    "    Data:\n",
    "        tuples = ('php','java','python','c++','c')\n",
    "    Expected Output:\n",
    "        <map object at 0x00000232B9292850>\n",
    "        ('php', 'java', 'python', 'c++', 'c')\n",
    "        \n",
    "        \n",
    "        \n",
    "        "
   ]
  },
  {
   "cell_type": "code",
   "execution_count": 24,
   "metadata": {},
   "outputs": [
    {
     "name": "stdout",
     "output_type": "stream",
     "text": [
      "('php', 'java', 'python', 'c++', 'c')\n"
     ]
    }
   ],
   "source": [
    "tuples = ('php','java','python','c++','c')\n",
    "n=tuple(map(lambda x:x,tuples))\n",
    "print(n)\n"
   ]
  },
  {
   "cell_type": "code",
   "execution_count": null,
   "metadata": {},
   "outputs": [],
   "source": [
    "6. Write a python program to print given dictionary of elements using map().\n",
    "    Data:\n",
    "        m = {1,2,3,4,5,6,7,8,9}\n",
    "    Expected Output:\n",
    "        <map object at 0x00000232B9292DC0>\n",
    "        [1,2, 3, 4, 5, 6, 7, 8, 9]\n",
    "        \n",
    "        \n",
    "        \n",
    "        "
   ]
  },
  {
   "cell_type": "code",
   "execution_count": 2,
   "metadata": {},
   "outputs": [
    {
     "name": "stdout",
     "output_type": "stream",
     "text": [
      "[1, 2, 3, 4, 5, 6, 7, 8, 9]\n"
     ]
    }
   ],
   "source": [
    "m = {1,2,3,4,5,6,7,8,9}\n",
    "def dis(x):\n",
    "    return x\n",
    "n=list(map(dis,m))\n",
    "print(n)"
   ]
  },
  {
   "cell_type": "code",
   "execution_count": null,
   "metadata": {},
   "outputs": [],
   "source": [
    "7. Write a python program to print the elements of a list using lambda function and map().\n",
    "    Data:\n",
    "        m= [1,2,3,4,5,6,7,8,9]\n",
    "    Expected Output:\n",
    "        <map object at 0x00000232B9292280>\n",
    "        [1, 2, 3, 4, 5, 6, 7, 8, 9]\n",
    "        \n",
    "        \n",
    "        \n",
    "        "
   ]
  },
  {
   "cell_type": "code",
   "execution_count": 23,
   "metadata": {},
   "outputs": [
    {
     "name": "stdout",
     "output_type": "stream",
     "text": [
      "[1, 2, 3, 4, 5, 6, 7, 8, 9]\n"
     ]
    }
   ],
   "source": [
    "m= [1,2,3,4,5,6,7,8,9]\n",
    "n=list(map(lambda x:x,m ))\n",
    "print(n)"
   ]
  },
  {
   "cell_type": "code",
   "execution_count": null,
   "metadata": {},
   "outputs": [],
   "source": [
    "8. Write a python program to add each elements of m1 with each corresponding elements in m2 using map().\n",
    "    Data:\n",
    "        m1 = [2,3,4,5,6,7,8,9]\n",
    "        m2 = [4,8,12,16,20,24,28]\n",
    "    Expected Output:\n",
    "        <map object at 0x00000232B9256970>\n",
    "        [6, 11, 16, 21, 26, 31, 36]\n",
    "        \n",
    "        \n",
    "        \n",
    "        "
   ]
  },
  {
   "cell_type": "code",
   "execution_count": 3,
   "metadata": {},
   "outputs": [
    {
     "name": "stdout",
     "output_type": "stream",
     "text": [
      "[6, 11, 16, 21, 26, 31, 36]\n"
     ]
    }
   ],
   "source": [
    "m1 = [2,3,4,5,6,7,8,9]\n",
    "m2 = [4,8,12,16,20,24,28]\n",
    "\n",
    "l=list(map(lambda x,y:x+y,m1,m2))\n",
    "print(l)"
   ]
  },
  {
   "cell_type": "code",
   "execution_count": null,
   "metadata": {},
   "outputs": [],
   "source": [
    "9. Write a python program to create a dictionary with keys from list and values from tuple from the given data using map().\n",
    "    Data:\n",
    "        lists = ['a','b', 'c', 'd', 'e']\n",
    "        tuples = ('PHP','Java','Python','C++','C')\n",
    "    Expected Output:\n",
    "        <map object at 0x00000232B92928B0>\n",
    "        ['a:PHP', 'b:Java', 'c:Python', 'd:C++', 'e:C\n",
    "         \n",
    "         \n",
    "         \n",
    "         "
   ]
  },
  {
   "cell_type": "code",
   "execution_count": 46,
   "metadata": {},
   "outputs": [
    {
     "name": "stdout",
     "output_type": "stream",
     "text": [
      "{'a': 'PHP', 'b': 'Java', 'c': 'Python', 'd': 'C++', 'e': 'C'}\n"
     ]
    }
   ],
   "source": [
    "lists = ['a','b', 'c', 'd', 'e']\n",
    "tuples = ('PHP','Java','Python','C++','C')\n",
    "def assign(x):\n",
    "    return x\n",
    "d=dict(zip(map(assign,lists),map(assign,tuples)))\n",
    "print(d)\n",
    "\n",
    "\n"
   ]
  },
  {
   "cell_type": "code",
   "execution_count": null,
   "metadata": {},
   "outputs": [],
   "source": [
    "10. Write a python program to multiply each elements in a set with 10 and print the result in a list using map(). \n",
    "    Data:\n",
    "        sets = {1,2,3,4,5,6,7,8,9}\n",
    "    Expected Output:\n",
    "        <map object at 0x00000232B9292580>\n",
    "        [10, 20, 30, 40, 50, 60, 70, 80, 90]\n",
    "        \n",
    "        \n",
    "        \n",
    "        "
   ]
  },
  {
   "cell_type": "code",
   "execution_count": 4,
   "metadata": {},
   "outputs": [
    {
     "name": "stdout",
     "output_type": "stream",
     "text": [
      "[10, 20, 30, 40, 50, 60, 70, 80, 90]\n"
     ]
    }
   ],
   "source": [
    "sets = {1,2,3,4,5,6,7,8,9}\n",
    "\n",
    "l=list(map(lambda x:x*10,sets))\n",
    "print(l)\n"
   ]
  }
 ],
 "metadata": {
  "kernelspec": {
   "display_name": "Python 3 (ipykernel)",
   "language": "python",
   "name": "python3"
  },
  "language_info": {
   "codemirror_mode": {
    "name": "ipython",
    "version": 3
   },
   "file_extension": ".py",
   "mimetype": "text/x-python",
   "name": "python",
   "nbconvert_exporter": "python",
   "pygments_lexer": "ipython3",
   "version": "3.9.13"
  }
 },
 "nbformat": 4,
 "nbformat_minor": 4
}
