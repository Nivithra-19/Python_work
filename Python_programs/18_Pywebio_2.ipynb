{
 "cells": [
  {
   "cell_type": "code",
   "execution_count": 1,
   "id": "0680552b",
   "metadata": {},
   "outputs": [
    {
     "name": "stdout",
     "output_type": "stream",
     "text": [
      "Defaulting to user installation because normal site-packages is not writeable\n",
      "Requirement already satisfied: pywebio in c:\\users\\dell\\appdata\\roaming\\python\\python39\\site-packages (1.8.3)\n",
      "Requirement already satisfied: user-agents in c:\\users\\dell\\appdata\\roaming\\python\\python39\\site-packages (from pywebio) (2.2.0)\n",
      "Requirement already satisfied: tornado>=5.0 in c:\\programdata\\anaconda3\\lib\\site-packages (from pywebio) (6.1)\n",
      "Requirement already satisfied: ua-parser>=0.10.0 in c:\\users\\dell\\appdata\\roaming\\python\\python39\\site-packages (from user-agents->pywebio) (0.18.0)\n"
     ]
    }
   ],
   "source": [
    "!pip install pywebio"
   ]
  },
  {
   "cell_type": "code",
   "execution_count": 2,
   "id": "aa350cca",
   "metadata": {},
   "outputs": [],
   "source": [
    "from pywebio.input import *\n",
    "from pywebio.output import *"
   ]
  },
  {
   "cell_type": "code",
   "execution_count": 3,
   "id": "168b947f",
   "metadata": {},
   "outputs": [
    {
     "name": "stdout",
     "output_type": "stream",
     "text": [
      "User Details: {'username': 'niteshdgreedy@gmail.com', 'password': 'pass', 'ph': 8056136596}\n",
      "Gender: Male\n",
      "1. children\n",
      "2. Future continuous tense\n",
      "3. ['b)\"I saw that movie yesterday.\"', 'd)\"I have seen that movie before.\"']\n",
      "4. ['2.Better']\n",
      "5. Child's\n",
      "6. Her\n",
      "7. ['The team plays well together.']\n",
      "8. He went to the store and bought some apples, but he forgot to bring his wallet so he couldnt pay for them.\n",
      "9. Adverb\n",
      "10. ['been', 'gone']\n"
     ]
    }
   ],
   "source": [
    "user_dets = input_group('User Details',[input('Username',name='username',type=TEXT,required=True),\n",
    "                                        input('Password',name='password',type=PASSWORD,required=True),\n",
    "                                       input('Phone number',name='ph',type=NUMBER,required=True)])\n",
    "gen = radio('Gender',options=['Male','Female'])\n",
    "popup('Test your English!','Quiz starts')\n",
    "q1 = input('What is the correct plural form of the word \\\"child\\\"?',type=TEXT)\n",
    "q2 = radio('Identify the verb tense in the sentence: \\\"She will be studying for her exam.\\\"',\n",
    "           options=['Future tense','Future continuous tense','Present continuous tense'])\n",
    "q3 = select('Choose the correct sentences?',\n",
    "            options=['a)\\\"I seen that movie yesterday.\\\"','b)\\\"I saw that movie yesterday.\\\"',\n",
    "                     'c)\\\"I have saw that movie before.\\\"','d)\\\"I have seen that movie before.\\\"'],multiple=True)\n",
    "q4 = checkbox('What is the comparative form of the adjective \"good\"?',\n",
    "              options=['1.Good','2.Better','3.None of the above'])\n",
    "q5 = input('What is the correct way to form the possessive form of the noun \\\"child\\\"?',type=TEXT)\n",
    "q6 = radio(' Which word in the sentence \\\"He gave her a book.\\\" is the indirect object?',options=['He','Her','Book'])\n",
    "q7 = checkbox('Which sentence demonstrates correct subject-verb agreement?',options=['The team plays well together.',\n",
    "                                                                                      'The team play well together.',\n",
    "                                                                                      'The team is play well together.'])\n",
    "q8 = textarea('Correct the mistake in the following sentence:\\nHe goed to the store and buyed some apples,but he forget to bring her wallet so he couldn\\'t paid for them',rows=3)\n",
    "q9 = radio('Identify the part of speech of the word \\\"quickly\\\" in the sentence: \\\"She ran quickly to catch the bus.\\\"',\n",
    "          options=['Verb','Adverb']) \n",
    "q10 = checkbox('Choose the correct word to complete the sentence:\\\"I have ___ to Paris twice.\\\"',options=['been','gone','went','go'])\n",
    "popup('Test Submitted','Thank you for taking the quiz!')\n",
    "print('User Details:',user_dets)\n",
    "print('Gender:',gen)\n",
    "print(\"1.\",q1)\n",
    "print(\"2.\",q2)\n",
    "print(\"3.\",q3)\n",
    "print(\"4.\",q4)\n",
    "print(\"5.\",q5)\n",
    "print(\"6.\",q6)\n",
    "print(\"7.\",q7)\n",
    "print(\"8.\",q8)\n",
    "print(\"9.\",q9)\n",
    "print(\"10.\",q10)"
   ]
  }
 ],
 "metadata": {
  "kernelspec": {
   "display_name": "Python 3 (ipykernel)",
   "language": "python",
   "name": "python3"
  },
  "language_info": {
   "codemirror_mode": {
    "name": "ipython",
    "version": 3
   },
   "file_extension": ".py",
   "mimetype": "text/x-python",
   "name": "python",
   "nbconvert_exporter": "python",
   "pygments_lexer": "ipython3",
   "version": "3.9.13"
  }
 },
 "nbformat": 4,
 "nbformat_minor": 5
}
