{
 "cells": [
  {
   "cell_type": "code",
   "execution_count": 1,
   "metadata": {},
   "outputs": [
    {
     "name": "stdout",
     "output_type": "stream",
     "text": [
      "Enter hours: 3\n",
      "3 Hours equals to 180 Minutes\n"
     ]
    }
   ],
   "source": [
    "# Write a function to hours to minutes , user should able to give hours as input\n",
    "\n",
    "\n",
    "def hrstomincalc(x):\n",
    "    y=x*60\n",
    "    print(x,\"Hours equals to\",y,\"Minutes\")\n",
    "\n",
    "x=int(input(\"Enter hours: \"))\n",
    "\n",
    "    \n",
    "hrstomincalc(x)"
   ]
  },
  {
   "cell_type": "code",
   "execution_count": 2,
   "metadata": {},
   "outputs": [
    {
     "name": "stdout",
     "output_type": "stream",
     "text": [
      "Enter centimeters value:500\n",
      "500 centimeters equals to 5.0 meters\n"
     ]
    }
   ],
   "source": [
    "# Write a function to convert centimeter to meter , user shoulb be able to give centimeter as input\n",
    "\n",
    "\n",
    "x=int(input(\"Enter centimeters value:\"))\n",
    "def cmstoms(x):\n",
    "    y=x/100\n",
    "    print(x,\"centimeters equals to\",y,\"meters\")\n",
    "    \n",
    "cmstoms(x)\n"
   ]
  },
  {
   "cell_type": "code",
   "execution_count": 3,
   "metadata": {},
   "outputs": [
    {
     "name": "stdout",
     "output_type": "stream",
     "text": [
      "Enter miles value:5\n",
      "5 miles is equal to 8.0 kilometers\n"
     ]
    }
   ],
   "source": [
    "# Write a function to convert miles to Kilometer , user shoulb be able to give miles as input\n",
    "\n",
    "\n",
    "x=int(input(\"Enter miles value:\"))\n",
    "def milestokms(x):\n",
    "    y=x*1.6\n",
    "    print(x,\"miles is equal to\",y,\"kilometers\")\n",
    "    \n",
    "milestokms(x)\n"
   ]
  },
  {
   "cell_type": "code",
   "execution_count": 4,
   "metadata": {},
   "outputs": [
    {
     "name": "stdout",
     "output_type": "stream",
     "text": [
      "Enter pounds value:7\n",
      "7 pounds is equal to 3.178 kilograms\n"
     ]
    }
   ],
   "source": [
    "# Write a function to convert pounds to Kilogram , user shoulb be able to give pounds as input\n",
    "\n",
    "\n",
    "x=int(input(\"Enter pounds value:\"))\n",
    "\n",
    "def pndtokgs(x):\n",
    "    y=x*0.454\n",
    "    print(x,\"pounds is equal to\",y,\"kilograms\")\n",
    "    \n",
    "pndtokgs(x)\n"
   ]
  },
  {
   "cell_type": "code",
   "execution_count": 5,
   "metadata": {},
   "outputs": [
    {
     "name": "stdout",
     "output_type": "stream",
     "text": [
      "Simple Interest Calculator\n",
      "Enter principal amount in Rs:10000\n",
      "Enter no of years:2\n",
      "Enter rate of interest:1.5\n",
      "Simple Interest:Rs 300.0\n"
     ]
    }
   ],
   "source": [
    "# Write a function to calculate simple interest # all input should be given by the user\n",
    "\n",
    "\n",
    "print(\"Simple Interest Calculator\")\n",
    "\n",
    "x=int(input(\"Enter principal amount in Rs:\"))\n",
    "y=int(input(\"Enter no of years:\"))\n",
    "z=float(input(\"Enter rate of interest:\"))\n",
    "\n",
    "def sicalc(x,y,z):\n",
    "    si=(x*y*z)/100\n",
    "    print(\"Simple Interest:Rs\",si)\n",
    "    \n",
    "sicalc(x,y,z)\n"
   ]
  },
  {
   "cell_type": "code",
   "execution_count": 6,
   "metadata": {},
   "outputs": [
    {
     "name": "stdout",
     "output_type": "stream",
     "text": [
      "Enter radius value in cms:5\n",
      "Area of circle: 78.5 sq.cms\n"
     ]
    }
   ],
   "source": [
    "# Write a function to calculate area of circle\n",
    "\n",
    "\n",
    "r=float(input(\"Enter radius value in cms:\"))\n",
    "\n",
    "def arofcir(r):\n",
    "    area=3.14*r*r\n",
    "    return area\n",
    "\n",
    "ar=arofcir(r)\n",
    "print(\"Area of circle:\",ar,\"sq.cms\")\n",
    "\n"
   ]
  },
  {
   "cell_type": "code",
   "execution_count": 7,
   "metadata": {},
   "outputs": [
    {
     "name": "stdout",
     "output_type": "stream",
     "text": [
      "Enter radius value in cms:6\n",
      "Circumference of circle: 37.68 cms\n"
     ]
    }
   ],
   "source": [
    "# Write a function to calculate circumference of circle\n",
    "\n",
    "\n",
    "r=float(input(\"Enter radius value in cms:\"))\n",
    "\n",
    "def circumference(r):\n",
    "    circ=2*3.14*r\n",
    "    return circ\n",
    "\n",
    "cr=circumference(r)\n",
    "print(\"Circumference of circle:\",cr,\"cms\")\n",
    "\n"
   ]
  },
  {
   "cell_type": "code",
   "execution_count": 8,
   "metadata": {},
   "outputs": [
    {
     "name": "stdout",
     "output_type": "stream",
     "text": [
      "Enter side length of square in cms:5\n",
      "Perimeter of Square: 20 cms\n"
     ]
    }
   ],
   "source": [
    "# Write a function to calculate perimeter of square\n",
    "\n",
    "\n",
    "s=int(input(\"Enter side length of square in cms:\"))\n",
    "\n",
    "def peri(s):\n",
    "    pr=4*s\n",
    "    return pr\n",
    "\n",
    "pr=peri(s)\n",
    "print(\"Perimeter of Square:\",pr,\"cms\")\n",
    "\n"
   ]
  },
  {
   "cell_type": "code",
   "execution_count": 9,
   "metadata": {},
   "outputs": [
    {
     "name": "stdout",
     "output_type": "stream",
     "text": [
      "Enter side length of square in cms:5\n",
      "Area of Square: 25 sq.cms\n"
     ]
    }
   ],
   "source": [
    "# Write a fucntion to calculate area of square\n",
    "\n",
    "\n",
    "s=int(input(\"Enter side length of square in cms:\"))\n",
    "\n",
    "def area(s):\n",
    "    return s*s\n",
    "\n",
    "a=area(s)\n",
    "print(\"Area of Square:\",a,\"sq.cms\")\n",
    "\n"
   ]
  },
  {
   "cell_type": "code",
   "execution_count": 10,
   "metadata": {},
   "outputs": [
    {
     "name": "stdout",
     "output_type": "stream",
     "text": [
      "Enter height value of Triangle in cms:5\n",
      "Enter base value of Triangle in cms:4\n",
      "Area of Triangle: 10.0 sq.cms\n"
     ]
    }
   ],
   "source": [
    "# Write a function to area of traingle\n",
    "\n",
    "h=float(input(\"Enter height value of Triangle in cms:\"))\n",
    "b=float(input(\"Enter base value of Triangle in cms:\"))\n",
    "\n",
    "def triangle(h,b):\n",
    "    area=0.5*b*h\n",
    "    print(\"Area of Triangle:\",area,\"sq.cms\")\n",
    "    \n",
    "triangle(h,b)\n",
    "\n"
   ]
  }
 ],
 "metadata": {
  "kernelspec": {
   "display_name": "Python 3 (ipykernel)",
   "language": "python",
   "name": "python3"
  },
  "language_info": {
   "codemirror_mode": {
    "name": "ipython",
    "version": 3
   },
   "file_extension": ".py",
   "mimetype": "text/x-python",
   "name": "python",
   "nbconvert_exporter": "python",
   "pygments_lexer": "ipython3",
   "version": "3.9.13"
  }
 },
 "nbformat": 4,
 "nbformat_minor": 2
}
