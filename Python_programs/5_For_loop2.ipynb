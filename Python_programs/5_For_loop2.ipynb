{
 "cells": [
  {
   "cell_type": "code",
   "execution_count": null,
   "metadata": {},
   "outputs": [],
   "source": [
    "''' 1. Write a Python function to count the no. of occurances of 4 from the data given below.\n",
    "    Data:\n",
    "        [1, 4, 6, 7, 4]\n",
    "        [1, 4, 6, 4, 7, 4]\n",
    "    Expected Output:\n",
    "        2\n",
    "        3 '''\n",
    "\n"
   ]
  },
  {
   "cell_type": "code",
   "execution_count": 1,
   "metadata": {},
   "outputs": [
    {
     "name": "stdout",
     "output_type": "stream",
     "text": [
      "list1: [1, 4, 6, 7, 4]\n",
      "list2: [1, 4, 6, 4, 7, 4]\n",
      "Occurances of 4 in list1: 2\n",
      "Occurances of 4 in list2: 3\n"
     ]
    }
   ],
   "source": [
    "x=[1,4,6,7,4]\n",
    "y=[1,4,6,4,7,4]\n",
    "c1=0\n",
    "c2=0\n",
    "for i in x:\n",
    "    if i==4:\n",
    "        c1+=1\n",
    "for j in y:\n",
    "    if j==4:\n",
    "        c2+=1\n",
    "print(\"list1:\",x)\n",
    "print(\"list2:\",y)\n",
    "print(\"Occurances of 4 in list1:\",c1)\n",
    "print(\"Occurances of 4 in list2:\",c2)"
   ]
  },
  {
   "cell_type": "code",
   "execution_count": null,
   "metadata": {},
   "outputs": [],
   "source": [
    "''' 2. Write a Python function to check whether the specified value is present in the list. Return True if present, false if not.\n",
    "        Data :\n",
    "            3 -> [1, 5, 8, 3]    \n",
    "           -1 -> [1, 5, 8, 3] \n",
    "        Expected Output:\n",
    "            True\n",
    "            False '''\n",
    "        \n",
    "    "
   ]
  },
  {
   "cell_type": "code",
   "execution_count": 2,
   "metadata": {},
   "outputs": [
    {
     "name": "stdout",
     "output_type": "stream",
     "text": [
      "The list: [1, 5, 8, 3]\n",
      "Enter no to check:3\n",
      "False\n",
      "False\n",
      "False\n",
      "True\n"
     ]
    }
   ],
   "source": [
    "x=[1,5,8,3]\n",
    "print(\"The list:\",x)\n",
    "n=int(input(\"Enter no to check:\"))\n",
    "for i in x:\n",
    "    if i==n:\n",
    "        print(True)\n",
    "    else:\n",
    "        print(False)"
   ]
  },
  {
   "cell_type": "code",
   "execution_count": null,
   "metadata": {},
   "outputs": [],
   "source": [
    "''' 3. Write a Python function to create a histogram using the given data.\n",
    "        Data:\n",
    "            [2, 3, 12, 5]\n",
    "        Expected Output:\n",
    "            **\n",
    "            ***\n",
    "            ************\n",
    "            ***** '''\n",
    "   "
   ]
  },
  {
   "cell_type": "code",
   "execution_count": 3,
   "metadata": {},
   "outputs": [
    {
     "name": "stdout",
     "output_type": "stream",
     "text": [
      "**\n",
      "***\n",
      "************\n",
      "*****\n"
     ]
    }
   ],
   "source": [
    "def histogram(x):\n",
    "    for i in x:\n",
    "        op = ''\n",
    "        n = i\n",
    "        while( n > 0 ):\n",
    "            op += '*'\n",
    "            n-= 1\n",
    "        print(op)\n",
    "\n",
    "histogram([2, 3, 12, 5])"
   ]
  },
  {
   "cell_type": "code",
   "execution_count": 3,
   "metadata": {},
   "outputs": [
    {
     "name": "stdout",
     "output_type": "stream",
     "text": [
      "**\n",
      "***\n",
      "************\n",
      "*****\n"
     ]
    }
   ],
   "source": [
    "def histogram(x):\n",
    "    for i in x:\n",
    "        op = ''\n",
    "        for j in range(i):\n",
    "            op += '*'\n",
    "        print(op)\n",
    "\n",
    "histogram([2, 3, 12, 5])"
   ]
  },
  {
   "cell_type": "code",
   "execution_count": null,
   "metadata": {},
   "outputs": [],
   "source": [
    "''' 4. Write a Python function to concatenate all elements in a list into a string and return it. \n",
    "        Data:\n",
    "            [1, 5, 12, 2]\n",
    "        Expected Output:\n",
    "            15122 '''\n",
    " "
   ]
  },
  {
   "cell_type": "code",
   "execution_count": 3,
   "metadata": {},
   "outputs": [
    {
     "name": "stdout",
     "output_type": "stream",
     "text": [
      "[1, 5, 12, 2]\n",
      "15122\n"
     ]
    }
   ],
   "source": [
    "x=[1,5,12,2]\n",
    "print(x)\n",
    "st=\"\"\n",
    "for i in x:\n",
    "    st+=str(i)\n",
    "print(st)\n",
    "    "
   ]
  },
  {
   "cell_type": "code",
   "execution_count": null,
   "metadata": {},
   "outputs": [],
   "source": [
    "''' 5. Write a Python program to print * without newline or space using for loop and range().\n",
    "        Expected Output:\n",
    "            ********** '''\n",
    "\n"
   ]
  },
  {
   "cell_type": "code",
   "execution_count": 5,
   "metadata": {},
   "outputs": [
    {
     "name": "stdout",
     "output_type": "stream",
     "text": [
      "**********"
     ]
    }
   ],
   "source": [
    "for i in range(10):\n",
    "    print(\"*\",end='')"
   ]
  },
  {
   "cell_type": "code",
   "execution_count": null,
   "metadata": {},
   "outputs": [],
   "source": [
    "''' 6. Write a python function to print the sum of digits for the given data and print the execution time (in seconds).\n",
    "        Data:\n",
    "            n = 5\n",
    "        Expected Output:\n",
    "            Time to sum of 1 to 5 and required time to calculate is : (15, 0.0) '''\n",
    "            \n"
   ]
  },
  {
   "cell_type": "code",
   "execution_count": 6,
   "metadata": {},
   "outputs": [
    {
     "name": "stdout",
     "output_type": "stream",
     "text": [
      "Time to sum of 1 to 5 and required time to calculate is : (15, 0.0)\n"
     ]
    }
   ],
   "source": [
    "import time\n",
    "def numsum(n):\n",
    "    t0=time.time()\n",
    "    s=0\n",
    "    for i in range(n+1):\n",
    "        s+=i\n",
    "    t1=time.time()\n",
    "    return s,t1-t0\n",
    "n=5\n",
    "print(\"Time to sum of 1 to 5 and required time to calculate is :\",numsum(n))"
   ]
  },
  {
   "cell_type": "code",
   "execution_count": null,
   "metadata": {},
   "outputs": [],
   "source": [
    "''' 7. Write a Python program to hash a word.\n",
    "        Data:\n",
    "            x = [0,1,2,3,0,1,2,0,0,2,2,4,5,5,0,1,2,6,2,3,0,1,0,2,0,2]\n",
    "            word = Input the word be hashed: rfdf\n",
    "        Expected Output:\n",
    "            Enter the word to be hashed: culture\n",
    "            The coded word is: C210220 '''\n",
    "\n"
   ]
  },
  {
   "cell_type": "code",
   "execution_count": 4,
   "metadata": {},
   "outputs": [
    {
     "name": "stdout",
     "output_type": "stream",
     "text": [
      "Enter the word to be hashed: culture\n",
      "The coded word is: C210220\n"
     ]
    }
   ],
   "source": [
    "x = [0,1,2,3,0,1,2,0,0,2,2,4,5,5,0,1,2,6,2,3,0,1,0,2,0,2]\n",
    "word = input(\"Enter the word to be hashed: \")\n",
    "word = word.upper()\n",
    "coded = word[0]\n",
    "for a in word[1: len(word)]:\n",
    "    i = 65 - ord(a)\n",
    "    coded = coded + str(x[i])\n",
    "print(\"The coded word is: \" + coded)"
   ]
  },
  {
   "cell_type": "code",
   "execution_count": null,
   "metadata": {},
   "outputs": [],
   "source": [
    "''' 8. Write a Python program to create a bytearray from the given list.\n",
    "        Data:\n",
    "            x = [10, 20, 56, 35, 17, 99]\n",
    "        Expected Output:\n",
    "            10\n",
    "            20\n",
    "            56\n",
    "            35\n",
    "            17\n",
    "            99 '''\n"
   ]
  },
  {
   "cell_type": "code",
   "execution_count": 2,
   "metadata": {},
   "outputs": [
    {
     "name": "stdout",
     "output_type": "stream",
     "text": [
      "10\n",
      "20\n",
      "56\n",
      "35\n",
      "17\n",
      "99\n"
     ]
    }
   ],
   "source": [
    "x = [10, 20, 56, 35, 17, 99]\n",
    "value = bytearray(x)\n",
    "for i in value:\n",
    "    print(i)"
   ]
  },
  {
   "cell_type": "code",
   "execution_count": null,
   "metadata": {},
   "outputs": [],
   "source": [
    "''' 9. Write a Python program to calculate the time runs (difference between start and current time) of a program.\n",
    "        Data:\n",
    "            times(5)\n",
    "            times(4)\n",
    "        Expected Output:\n",
    "            0\n",
    "            1\n",
    "            2\n",
    "            3\n",
    "            4\n",
    "            0.003652000000101907\n",
    "            0\n",
    "            1\n",
    "            2\n",
    "            3\n",
    "            0.0070380999998178595 '''"
   ]
  },
  {
   "cell_type": "code",
   "execution_count": 15,
   "metadata": {},
   "outputs": [
    {
     "name": "stdout",
     "output_type": "stream",
     "text": [
      "0\n",
      "1\n",
      "2\n",
      "3\n",
      "4\n",
      "0.0006282999997893057\n",
      "0\n",
      "1\n",
      "2\n",
      "3\n",
      "3.950000018448918e-05\n"
     ]
    }
   ],
   "source": [
    "from timeit import default_timer\n",
    "\n",
    "def timesnew(n):\n",
    "    start=default_timer()\n",
    "    for i in range(n):\n",
    "        print(i)\n",
    "    print(default_timer()-start)\n",
    "timesnew(5)\n",
    "timesnew(4)"
   ]
  },
  {
   "cell_type": "code",
   "execution_count": null,
   "metadata": {},
   "outputs": [],
   "source": [
    "''' 10. Write a Python function to find the maximum and minimum numbers from the given list.\n",
    "        Data:\n",
    "            seq = [0, 10, 15, 40, -5, 42, 17, 28, 75]\n",
    "        Expected Output:\n",
    "            (75, -5) '''\n"
   ]
  },
  {
   "cell_type": "code",
   "execution_count": 6,
   "metadata": {},
   "outputs": [
    {
     "name": "stdout",
     "output_type": "stream",
     "text": [
      "The list: [0, 10, 15, 40, -5, 42, 17, 28, 75]\n",
      "Minimum value in the list: -5\n",
      "Maximum value in the list: 75\n"
     ]
    }
   ],
   "source": [
    "seq = [0, 10, 15, 40, -5, 42, 17, 28, 75]\n",
    "print(\"The list:\",seq)\n",
    "for i in seq:\n",
    "    if i==max(seq):\n",
    "        print(\"Maximum value in the list:\",i)\n",
    "    if i==min(seq):\n",
    "        print(\"Minimum value in the list:\",i)"
   ]
  },
  {
   "cell_type": "code",
   "execution_count": null,
   "metadata": {},
   "outputs": [],
   "source": [
    "''' 11. Write a Python function to find a distinct pair of numbers whose product is odd from the given data. Print True if pair found, none if not.\n",
    "        Data:\n",
    "            x = [2, 4, 6, 8]\n",
    "            y = [1, 6, 4, 7, 8]\n",
    "        Expected Output:\n",
    "            None\n",
    "            True '''\n"
   ]
  },
  {
   "cell_type": "code",
   "execution_count": 12,
   "metadata": {},
   "outputs": [
    {
     "name": "stdout",
     "output_type": "stream",
     "text": [
      "The lists:\n",
      " [3, 4, 6, 8] \n",
      " [1, 6, 4, 7, 8]\n",
      "True\n"
     ]
    }
   ],
   "source": [
    "x = [3, 4, 6, 8]\n",
    "y = [1, 6, 4, 7, 8]\n",
    "print(\"The lists:\\n\",x,\"\\n\",y)\n",
    "res=None\n",
    "for i in x:\n",
    "    for j in y:\n",
    "        if (i*j)%2!=0:\n",
    "            res = True\n",
    "        else:\n",
    "            pass\n",
    "            \n",
    "print(res)"
   ]
  },
  {
   "cell_type": "code",
   "execution_count": 13,
   "metadata": {},
   "outputs": [
    {
     "name": "stdout",
     "output_type": "stream",
     "text": [
      "The lists:\n",
      " [3, 4, 6, 8] \n",
      " [1, 6, 4, 7, 8]\n",
      "True\n"
     ]
    }
   ],
   "source": [
    "x = [3, 4, 6, 8]\n",
    "y = [1, 6, 4, 7, 8]\n",
    "print(\"The lists:\\n\",x,\"\\n\",y)\n",
    "res=None\n",
    "for i,j in zip(x,y):\n",
    "    if (i*j)%2!=0:\n",
    "         res = True\n",
    "    else:\n",
    "        pass\n",
    "            \n",
    "print(res)"
   ]
  },
  {
   "cell_type": "code",
   "execution_count": 9,
   "metadata": {},
   "outputs": [
    {
     "name": "stdout",
     "output_type": "stream",
     "text": [
      "The lists:\n",
      " [1, 2, 4, 6] \n",
      " [6, 4, 7, 8]\n",
      "None\n",
      "None\n",
      "True 1 , 7\n",
      "None\n",
      "None\n",
      "None\n",
      "None\n",
      "None\n",
      "None\n",
      "None\n",
      "None\n",
      "None\n",
      "None\n",
      "None\n",
      "None\n",
      "None\n"
     ]
    }
   ],
   "source": [
    "x=[1,2,4,6]\n",
    "y=[6,4,7,8]\n",
    "print(\"The lists:\\n\",x,\"\\n\",y)\n",
    "for i in x:\n",
    "    for j in y:\n",
    "        if (i*j)%2!=0:\n",
    "            print(\"True\",i,\",\",j)\n",
    "        else:\n",
    "            print(\"None\")"
   ]
  },
  {
   "cell_type": "code",
   "execution_count": null,
   "metadata": {},
   "outputs": [],
   "source": [
    "''' 12. Write a Python program to create the combinations of 3 digit combo.\n",
    "        Expected Output:\n",
    "            999 '''\n"
   ]
  },
  {
   "cell_type": "code",
   "execution_count": 6,
   "metadata": {},
   "outputs": [
    {
     "name": "stdout",
     "output_type": "stream",
     "text": [
      "0999\n",
      "['0999']\n"
     ]
    }
   ],
   "source": [
    "num = []\n",
    "for x in range(1000):# x will have values from 0 to 999(1000-1)\n",
    "    x=str(x).zfill(4) # final value of x after the last run will be 999\n",
    "\n",
    "print(x)\n",
    "num.append(x)\n",
    "print(num)"
   ]
  },
  {
   "cell_type": "code",
   "execution_count": null,
   "metadata": {},
   "outputs": [],
   "source": [
    "''' 13. Write a Python program to create all possible permutations from a given collection of distinct numbers.\n",
    "        Data:\n",
    "            Collection:  [1, 2, 3]\n",
    "        Expected Output:\n",
    "            Collection of distinct numbers: [[3, 2, 1], [2, 3, 1], [2, 1, 3], [3, 1, 2], [1, 3, 2], [1, 2, 3]] '''\n"
   ]
  },
  {
   "cell_type": "code",
   "execution_count": 6,
   "metadata": {},
   "outputs": [
    {
     "name": "stdout",
     "output_type": "stream",
     "text": [
      "Collection:  [1, 2, 3]\n",
      "Collection of distinct numbers: [[3, 2, 1], [2, 3, 1], [2, 1, 3], [3, 1, 2], [1, 3, 2], [1, 2, 3]]\n"
     ]
    }
   ],
   "source": [
    "def permute(x):\n",
    "    result= [[]]\n",
    "    for n in x:\n",
    "        new = []\n",
    "        for perm in result:\n",
    "            for i in range(len(perm)+1):\n",
    "                new.append(perm[:i] + [n] + perm[i:])\n",
    "                result = new\n",
    "    return result\n",
    "\n",
    "x = [1,2,3]\n",
    "print(\"Collection: \",x)\n",
    "print(\"Collection of distinct numbers:\",permute(x))"
   ]
  },
  {
   "cell_type": "code",
   "execution_count": null,
   "metadata": {},
   "outputs": [],
   "source": [
    "''' 14. Write a Python program to find the number of notes (Sample of notes: 10, 20, 50, 100, 200 and 500).\n",
    "        Data:\n",
    "            880\n",
    "            1000\n",
    "        Expected Output:\n",
    "            6\n",
    "            2 '''\n"
   ]
  },
  {
   "cell_type": "code",
   "execution_count": 22,
   "metadata": {},
   "outputs": [
    {
     "name": "stdout",
     "output_type": "stream",
     "text": [
      "6\n",
      "2\n"
     ]
    }
   ],
   "source": [
    "def notes(a):\n",
    "    y = [500, 200, 100, 50, 20, 10]\n",
    "    x = 0\n",
    "    for i in range(6):\n",
    "        q = y[i]\n",
    "        x += int(a / q)\n",
    "        a = int(a % q)\n",
    "    if a > 0:\n",
    "        x = -1\n",
    "    return x\n",
    "print(notes(880))\n",
    "print(notes(1000))"
   ]
  },
  {
   "cell_type": "code",
   "execution_count": null,
   "metadata": {},
   "outputs": [],
   "source": [
    "''' 15. Write a Python function to find the number of divisors of a given integer is even or odd.\n",
    "        Data:\n",
    "            x = 15, x = 12, x = 9, x = 6, x = 3\n",
    "        Expected Output:\n",
    "            4\n",
    "            6\n",
    "            3\n",
    "            4\n",
    "            2 '''\n"
   ]
  },
  {
   "cell_type": "code",
   "execution_count": 20,
   "metadata": {},
   "outputs": [
    {
     "name": "stdout",
     "output_type": "stream",
     "text": [
      "4\n",
      "6\n",
      "3\n",
      "4\n",
      "2\n"
     ]
    }
   ],
   "source": [
    "def noofdiv(n):\n",
    "    x=len([i for i in range(1,n+1) if not n%i])\n",
    "    print(x)\n",
    "    \n",
    "noofdiv(15)\n",
    "noofdiv(12)\n",
    "noofdiv(9)\n",
    "noofdiv(6)\n",
    "noofdiv(3)"
   ]
  },
  {
   "cell_type": "code",
   "execution_count": null,
   "metadata": {},
   "outputs": [],
   "source": [
    "''' 16. Write a Python function to get the smallest number from a list.\n",
    "        Data:\n",
    "            smallest([1, 2, -8, 0])\n",
    "        Expected Output:\n",
    "            -8 '''\n"
   ]
  },
  {
   "cell_type": "code",
   "execution_count": 10,
   "metadata": {},
   "outputs": [
    {
     "name": "stdout",
     "output_type": "stream",
     "text": [
      "smallest no in list [1, 2, -8, 0] is -8\n"
     ]
    }
   ],
   "source": [
    "x=[1,2,-8,0]\n",
    "def small(x):\n",
    "    for i in x:\n",
    "        if i==min(x):\n",
    "            print(\"smallest no in list\",x,\"is\",i)\n",
    "            \n",
    "small(x)"
   ]
  },
  {
   "cell_type": "code",
   "execution_count": null,
   "metadata": {},
   "outputs": [],
   "source": [
    "''' 17. Write a Python function to get the largest number from a list.\n",
    "        Data:\n",
    "            largest([1,2,-8,0])\n",
    "        Expected Output:\n",
    "            2 '''\n",
    "     "
   ]
  },
  {
   "cell_type": "code",
   "execution_count": 11,
   "metadata": {},
   "outputs": [
    {
     "name": "stdout",
     "output_type": "stream",
     "text": [
      "largest no in list [1, 2, -8, 0] is 2\n"
     ]
    }
   ],
   "source": [
    "x=[1,2,-8,0]\n",
    "def large(x):\n",
    "    for i in x:\n",
    "        if i==max(x):\n",
    "            print(\"largest no in list\",x,\"is\",i)\n",
    "            \n",
    "large(x)"
   ]
  },
  {
   "cell_type": "code",
   "execution_count": null,
   "metadata": {},
   "outputs": [],
   "source": [
    "''' 18. Write a Python function to multiply all the items in a list.\n",
    "        Data:\n",
    "            list = [1, 2, -8]\n",
    "        Expected Output:\n",
    "            -16 '''\n"
   ]
  },
  {
   "cell_type": "code",
   "execution_count": 12,
   "metadata": {},
   "outputs": [
    {
     "name": "stdout",
     "output_type": "stream",
     "text": [
      "Product of elements of list [1, 2, -8] is: -16\n"
     ]
    }
   ],
   "source": [
    "x=[1,2,-8]\n",
    "\n",
    "def pro(x):\n",
    "    p=1\n",
    "    for i in x:\n",
    "        p*=i\n",
    "    print(\"Product of elements of list\",x,\"is:\",p)\n",
    "    \n",
    "pro(x)"
   ]
  },
  {
   "cell_type": "code",
   "execution_count": null,
   "metadata": {},
   "outputs": [],
   "source": [
    "''' 19. Write a Python function to sum all the items in a list.\n",
    "        Data:\n",
    "            lists([1,2,-8])\n",
    "        Expected Output:\n",
    "            -5 '''\n",
    "  "
   ]
  },
  {
   "cell_type": "code",
   "execution_count": 13,
   "metadata": {},
   "outputs": [
    {
     "name": "stdout",
     "output_type": "stream",
     "text": [
      "Sum of elements of list [1, 2, -8] is: -5\n"
     ]
    }
   ],
   "source": [
    "x=[1,2,-8]\n",
    "\n",
    "def add(x):\n",
    "    s=0\n",
    "    for i in x:\n",
    "        s+=i\n",
    "    print(\"Sum of elements of list\",x,\"is:\",s)\n",
    "    \n",
    "add(x)"
   ]
  },
  {
   "cell_type": "code",
   "execution_count": null,
   "metadata": {},
   "outputs": [],
   "source": [
    "''' 20. Write a Python program to remove duplicates from the data given below.\n",
    "        Data:\n",
    "            a = [10,20,30,20,10,50,60,40,80,50,40]\n",
    "        Expected Output:\n",
    "            [10, 20, 30, 50, 60, 40, 80] '''"
   ]
  },
  {
   "cell_type": "code",
   "execution_count": 14,
   "metadata": {},
   "outputs": [
    {
     "name": "stdout",
     "output_type": "stream",
     "text": [
      "Original list: [10, 20, 30, 20, 10, 50, 60, 40, 80, 50, 40]\n",
      "After removing Duplicates, the list: [30, 20, 10, 60, 80, 50, 40]\n"
     ]
    }
   ],
   "source": [
    "x = [10,20,30,20,10,50,60,40,80,50,40]\n",
    "print(\"Original list:\",x)\n",
    "for i in x:\n",
    "    if x.count(i)>=2:\n",
    "        x.remove(i)\n",
    "        \n",
    "print(\"After removing Duplicates, the list:\",x)"
   ]
  }
 ],
 "metadata": {
  "kernelspec": {
   "display_name": "Python 3 (ipykernel)",
   "language": "python",
   "name": "python3"
  },
  "language_info": {
   "codemirror_mode": {
    "name": "ipython",
    "version": 3
   },
   "file_extension": ".py",
   "mimetype": "text/x-python",
   "name": "python",
   "nbconvert_exporter": "python",
   "pygments_lexer": "ipython3",
   "version": "3.9.13"
  }
 },
 "nbformat": 4,
 "nbformat_minor": 4
}
