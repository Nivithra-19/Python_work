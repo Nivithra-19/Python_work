{
 "cells": [
  {
   "cell_type": "code",
   "execution_count": null,
   "metadata": {},
   "outputs": [],
   "source": [
    "1. Write a Python program to sort a dictionary in both ascending and descending order by value.\n",
    "    Data:\n",
    "        d = {1:2,3:4,4:3,2:1,0:0}\n",
    "    Expected Output:\n",
    "        Dictionary in ascending order in value: {0: 0, 2: 1, 1: 2, 4: 3, 3: 4}\n",
    "        Dictionary in descending order in value: {3: 4, 4: 3, 1: 2, 2: 1, 0: 0}\n",
    "            \n",
    "            \n",
    "            \n",
    "            "
   ]
  },
  {
   "cell_type": "code",
   "execution_count": 1,
   "metadata": {},
   "outputs": [
    {
     "name": "stdout",
     "output_type": "stream",
     "text": [
      "Dictionary: {1: 2, 3: 4, 4: 3, 2: 1, 0: 0}\n",
      "Dictionary in ascending order in value: {0: 0, 2: 1, 1: 2, 4: 3, 3: 4}\n",
      "Dictionary in descending order in value: {3: 4, 4: 3, 1: 2, 2: 1, 0: 0}\n"
     ]
    }
   ],
   "source": [
    "d = {1:2,3:4,4:3,2:1,0:0}\n",
    "print(\"Dictionary:\",d)\n",
    "sorted_l= sorted(d.items(),key=lambda x:x[1])\n",
    "sortedrev_l=sorted(d.items(),key=lambda x:x[1],reverse=True)\n",
    "ascd=dict(sorted_l)\n",
    "decd=dict(sortedrev_l)\n",
    "print(\"Dictionary in ascending order in value:\",ascd)\n",
    "print(\"Dictionary in descending order in value:\",decd)\n"
   ]
  },
  {
   "cell_type": "code",
   "execution_count": null,
   "metadata": {},
   "outputs": [],
   "source": [
    "2. Write a Python program to check whether a given key is already exists in a dictionary.\n",
    "    Data:\n",
    "        d = {1: 10, 2: 20, 3: 30, 4: 40, 5: 50, 6: 60}\n",
    "    Expected Output:\n",
    "        key 5 is present in the Dictionary\n",
    "        \n",
    "        \n",
    "        \n",
    "        "
   ]
  },
  {
   "cell_type": "code",
   "execution_count": 1,
   "metadata": {},
   "outputs": [
    {
     "name": "stdout",
     "output_type": "stream",
     "text": [
      "The dictionary:\n",
      " {1: 10, 2: 20, 3: 30, 4: 40, 5: 50, 6: 60}\n",
      "Enter key to check:5\n",
      "Key 5 is present in the dictionary\n"
     ]
    }
   ],
   "source": [
    "d = {1: 10, 2: 20, 3: 30, 4: 40, 5: 50, 6: 60}\n",
    "print(\"The dictionary:\\n\",d)\n",
    "k=int(input(\"Enter key to check:\"))\n",
    "if k in d.keys():\n",
    "    print(\"Key\",k,\"is present in the dictionary\")\n",
    "else:\n",
    "    print(\"key\",k,\"is not present in the dictionary\")\n"
   ]
  },
  {
   "cell_type": "code",
   "execution_count": null,
   "metadata": {},
   "outputs": [],
   "source": [
    "''' 3. Write a Python program to get a dictionary from an object's fields.\n",
    "    Data:\n",
    "        self.x = 'boss'\n",
    "        self.y = 'siva'\n",
    "        self.z = 'suresh'\n",
    "    Expected Output:\n",
    "        {'x': 'boss', 'y': 'siva', 'z': 'suresh'} '''\n",
    "        \n",
    "        "
   ]
  },
  {
   "cell_type": "code",
   "execution_count": 3,
   "metadata": {},
   "outputs": [
    {
     "name": "stdout",
     "output_type": "stream",
     "text": [
      "{'x': 'boss', 'y': 'siva', 'z': 'suresh'}\n"
     ]
    }
   ],
   "source": [
    "class dictObj():\n",
    "    def __init__(self):\n",
    "        self.x = 'boss'\n",
    "        self.y = 'siva'\n",
    "        self.z = 'suresh'\n",
    "    def do_nothing(self):\n",
    "         pass\n",
    "test = dictObj()\n",
    "print(test.__dict__)\n"
   ]
  },
  {
   "cell_type": "code",
   "execution_count": null,
   "metadata": {},
   "outputs": [],
   "source": [
    "4. Write a Python program to print all unique values in a dictionary.\n",
    "    Data:\n",
    "        D = [{\"V\":\"S001\"}, {\"V\": \"S002\"}, {\"VI\": \"S001\"}, {\"VI\": \"S005\"}, {\"VII\":\"S005\"}, {\"V\":\"S009\"},{\"VIII\":\"S007\"}]\n",
    "    Expected Output:\n",
    "        {'S002', 'S009', 'S007', 'S001', 'S005'}\n",
    "        \n",
    "        \n",
    "        \n",
    "        "
   ]
  },
  {
   "cell_type": "code",
   "execution_count": 8,
   "metadata": {},
   "outputs": [
    {
     "name": "stdout",
     "output_type": "stream",
     "text": [
      "Original Dictionary:\n",
      " [{'V': 'S001'}, {'V': 'S002'}, {'VI': 'S001'}, {'VI': 'S005'}, {'VII': 'S005'}, {'V': 'S009'}, {'VIII': 'S007'}]\n",
      "{'S005', 'S009', 'S002', 'S007', 'S001'}\n"
     ]
    }
   ],
   "source": [
    "D = [{\"V\":\"S001\"}, {\"V\": \"S002\"}, {\"VI\": \"S001\"}, {\"VI\": \"S005\"}, {\"VII\":\"S005\"}, {\"V\":\"S009\"},{\"VIII\":\"S007\"}]\n",
    "print(\"Original Dictionary:\\n\",D)\n",
    "value=set( val for dic in D for val in dic.values() )\n",
    "print(value)"
   ]
  },
  {
   "cell_type": "code",
   "execution_count": null,
   "metadata": {},
   "outputs": [],
   "source": [
    "5. Write a Python program to combine values from the list of dictionaries using counter().\n",
    "    Data:\n",
    "        l = [{'subject': 'chemistry', 'mark': 97}, {'subject': 'social', 'mark': 89}, {'subject': 'chemistry', 'mark': 73}]\n",
    "    Expected Output:\n",
    "        Counter({'chemistry': 170, 'social': 89}) \n",
    "               \n",
    "        \n",
    "        "
   ]
  },
  {
   "cell_type": "code",
   "execution_count": 5,
   "metadata": {},
   "outputs": [
    {
     "name": "stdout",
     "output_type": "stream",
     "text": [
      "Counter({'chemistry': 170, 'social': 89})\n"
     ]
    }
   ],
   "source": [
    "from collections import Counter\n",
    "l = [{'subject': 'chemistry', 'mark': 97}, {'subject': 'social', 'mark': 89}, {'subject': 'chemistry', 'mark': 73}]\n",
    "result=Counter()\n",
    "for d in l:\n",
    "    result[d['subject']] +=d['mark']\n",
    "print(result)\n"
   ]
  },
  {
   "cell_type": "code",
   "execution_count": null,
   "metadata": {},
   "outputs": [],
   "source": [
    "6. Write a Python program to create a dictionary from a string.\n",
    "    Data:\n",
    "        \"Kaziranga\"\n",
    "    Expected Output:\n",
    "        {'K': 1, 'a': 3, 'z': 1, 'i': 1, 'r': 1, 'n': 1, 'g': 1}\n",
    "        \n",
    "        \n",
    "        \n",
    "        "
   ]
  },
  {
   "cell_type": "code",
   "execution_count": 6,
   "metadata": {},
   "outputs": [
    {
     "name": "stdout",
     "output_type": "stream",
     "text": [
      "{'K': 1, 'a': 3, 'z': 1, 'i': 1, 'r': 1, 'n': 1, 'g': 1}\n"
     ]
    }
   ],
   "source": [
    "st=\"Kaziranga\"\n",
    "d={}\n",
    "for a in st:\n",
    "    d[a]=d.get(a,0)+1\n",
    "print(d)"
   ]
  },
  {
   "cell_type": "code",
   "execution_count": null,
   "metadata": {},
   "outputs": [],
   "source": [
    "7. Write a python program to add the values associated with specified key in a dictionary.\n",
    "    Data:\n",
    "        student = [{'id': 7, 'success': True, 'name': 'Rahman'},\n",
    "                   {'id': 8, 'success': False, 'name': 'Harris'},\n",
    "                   {'id': 4, 'success': True, 'name': 'Aniruth'}]\n",
    "    Expected Output:\n",
    "        Sum of id: 19\n",
    "        Sum of success: 2\n",
    "        \n",
    "        \n",
    "        \n",
    "        "
   ]
  },
  {
   "cell_type": "code",
   "execution_count": 7,
   "metadata": {},
   "outputs": [
    {
     "name": "stdout",
     "output_type": "stream",
     "text": [
      "Original Dictionary:\n",
      " [{'id': 7, 'success': True, 'name': 'Rahman'}, {'id': 8, 'success': False, 'name': 'Harris'}, {'id': 4, 'success': True, 'name': 'Aniruth'}]\n",
      "Sum of id: 19\n",
      "Sum of success: 2\n"
     ]
    }
   ],
   "source": [
    "student = [{'id': 7, 'success': True, 'name': 'Rahman'},\n",
    "                   {'id': 8, 'success': False, 'name': 'Harris'},\n",
    "                   {'id': 4, 'success': True, 'name': 'Aniruth'}]\n",
    "print(\"Original Dictionary:\\n\",student)\n",
    "print(\"Sum of id:\",sum(d['id'] for d in student))\n",
    "print(\"Sum of success:\",sum(d['success'] for d in student))"
   ]
  },
  {
   "cell_type": "code",
   "execution_count": null,
   "metadata": {},
   "outputs": [],
   "source": [
    "8. Write a Python program to remove spaces from the keys in a dictionary.\n",
    "    Data:\n",
    "        student = {'S  001': ['Math', 'Science'], 'S    002': ['Math', 'English']}\n",
    "    Expected Output:   \n",
    "        {'S001': ['Math', 'Science'], 'S002': ['Math', 'English']}\n",
    "        \n",
    "        \n",
    "        \n",
    "        "
   ]
  },
  {
   "cell_type": "code",
   "execution_count": 8,
   "metadata": {},
   "outputs": [
    {
     "name": "stdout",
     "output_type": "stream",
     "text": [
      "Original dictionary:  {'S  001': ['Math', 'Science'], 'S    002': ['Math', 'English']}\n",
      "New dictionary:  {'S001': ['Math', 'Science'], 'S002': ['Math', 'English']}\n"
     ]
    }
   ],
   "source": [
    "student = {'S  001': ['Math', 'Science'], 'S    002': ['Math', 'English']}\n",
    "print(\"Original dictionary: \",student)\n",
    "students = {x.translate({32: None}): y for x, y in student.items()}\n",
    "print(\"New dictionary: \",students)"
   ]
  },
  {
   "cell_type": "code",
   "execution_count": null,
   "metadata": {},
   "outputs": [],
   "source": [
    "9. Write a Python program to get the top three priced items in a shop.\n",
    "    Data:\n",
    "        items = {'Wallet': 45.50, 'Keychain':35, 'Perfume': 41.30, 'Sanitizer':55, 'Knife': 24}\n",
    "    Expected Output:\n",
    "        Sanitizer 55\n",
    "        Wallet 45.5\n",
    "        Perfume 41.3\n",
    "        \n",
    "        \n",
    "        \n",
    "        "
   ]
  },
  {
   "cell_type": "code",
   "execution_count": 9,
   "metadata": {},
   "outputs": [
    {
     "name": "stdout",
     "output_type": "stream",
     "text": [
      "Sanitizer 55\n",
      "Wallet 45.5\n",
      "Perfume 41.3\n"
     ]
    }
   ],
   "source": [
    "from heapq import nlargest\n",
    "from operator import itemgetter\n",
    "items = {'Wallet': 45.50, 'Keychain':35, 'Perfume': 41.30, 'Sanitizer':55, 'Knife': 24}\n",
    "for name, value in nlargest(3, items.items(), key=itemgetter(1)):\n",
    "    print(name, value)"
   ]
  },
  {
   "cell_type": "code",
   "execution_count": null,
   "metadata": {},
   "outputs": [],
   "source": [
    "10. Write a Python program to get the key, value and item in a dictionary.\n",
    "    Data:\n",
    "        d = {1:10,2:20,3:30,4:40,5:50,6:60}\n",
    "    Expected Output:\n",
    "        key  value  count\n",
    "        1     10     1\n",
    "        2     20     2\n",
    "        3     30     3\n",
    "        4     40     4\n",
    "        5     50     5\n",
    "        6     60     6\n",
    "        \n",
    "        \n",
    "        \n",
    "        "
   ]
  },
  {
   "cell_type": "code",
   "execution_count": 10,
   "metadata": {},
   "outputs": [
    {
     "name": "stdout",
     "output_type": "stream",
     "text": [
      "The dictionary:\n",
      " {1: 10, 2: 20, 3: 30, 4: 40, 5: 50, 6: 60} \n",
      "\n",
      "Key\t Value\t Count\n",
      "1 \t 10 \t 1\n",
      "2 \t 20 \t 2\n",
      "3 \t 30 \t 3\n",
      "4 \t 40 \t 4\n",
      "5 \t 50 \t 5\n",
      "6 \t 60 \t 6\n"
     ]
    }
   ],
   "source": [
    "d = {1:10,2:20,3:30,4:40,5:50,6:60}\n",
    "print(\"The dictionary:\\n\",d,\"\\n\")\n",
    "print(\"Key\\t Value\\t Count\")\n",
    "for i in d.keys():\n",
    "    print(i,\"\\t\",d[i],\"\\t\",i)"
   ]
  },
  {
   "cell_type": "code",
   "execution_count": null,
   "metadata": {},
   "outputs": [],
   "source": [
    "11. Write a Python program to print a dictionary line by line.\n",
    "    Data:\n",
    "        students = {\"Arun\":{\"class\":\"A\", \"roll_no\":2},\n",
    "                    \"Tharun\": {\"class\":\"A\", \"roll_no\":1}\n",
    "                      \"Varun\":{\"class\":\"B\", \"roll_no\":3}}\n",
    "    Expected Output:\n",
    "        Arun\n",
    "        class : A\n",
    "        roll_no : 2\n",
    "        ***********\n",
    "        Tharun\n",
    "        class : A\n",
    "        roll_no : 1\n",
    "        ***********\n",
    "        Varun\n",
    "        class : B\n",
    "        roll_no : 3\n",
    "        ***********\n",
    "\n",
    "            \n",
    "            \n",
    "            \n",
    "            "
   ]
  },
  {
   "cell_type": "code",
   "execution_count": 11,
   "metadata": {},
   "outputs": [
    {
     "name": "stdout",
     "output_type": "stream",
     "text": [
      "Arun\n",
      "class : A\n",
      "roll_no : 2\n",
      "*****************\n",
      "Tharun\n",
      "class : A\n",
      "roll_no : 1\n",
      "*****************\n",
      "Varun\n",
      "class : B\n",
      "roll_no : 3\n",
      "*****************\n"
     ]
    }
   ],
   "source": [
    "students = {\"Arun\":{\"class\":\"A\", \"roll_no\":2},\n",
    "            \"Tharun\": {\"class\":\"A\", \"roll_no\":1},\n",
    "            \"Varun\":{\"class\":\"B\", \"roll_no\":3}}\n",
    "for keys in students:\n",
    "    print(keys)\n",
    "    for ink in students[keys]:\n",
    "        print(ink,\":\",students[keys][ink])\n",
    "    print(\"*****************\")"
   ]
  },
  {
   "cell_type": "code",
   "execution_count": null,
   "metadata": {},
   "outputs": [],
   "source": [
    "''' 12. Write a Python program to check existence of multiple keys in a dictionary.\n",
    "    Data:\n",
    "        student = {\n",
    "            'name': 'Boss',\n",
    "              'class': 'V',\n",
    "             'roll id': '2'}\n",
    "    Expected Output:\n",
    "        True\n",
    "        False\n",
    "        True '''\n",
    "        \n",
    "        \n",
    "\n",
    "        "
   ]
  },
  {
   "cell_type": "code",
   "execution_count": 13,
   "metadata": {},
   "outputs": [
    {
     "name": "stdout",
     "output_type": "stream",
     "text": [
      "True\n",
      "False\n",
      "True\n"
     ]
    }
   ],
   "source": [
    "student = {\n",
    "  'name': 'Boss',\n",
    "  'class': 'A',\n",
    "  'roll id': '7'\n",
    "}\n",
    "print(student.keys() == {'class', 'name','roll id'})\n",
    "print(student.keys() >= {'name', 'Boss'})\n",
    "print(student.keys() >= {'roll id', 'name'})"
   ]
  },
  {
   "cell_type": "code",
   "execution_count": null,
   "metadata": {},
   "outputs": [],
   "source": [
    "13. Write a python program to count number of items in a dictionary whose values are in a list.\n",
    "    Data:\n",
    "        d =  {'Boss': ['subj1', 'subj2', 'subj3'], 'Siva': ['subj1', 'subj2']}\n",
    "    Expected Output:\n",
    "        5\n",
    "        \n",
    "        \n",
    "        \n",
    "        "
   ]
  },
  {
   "cell_type": "code",
   "execution_count": 13,
   "metadata": {},
   "outputs": [
    {
     "name": "stdout",
     "output_type": "stream",
     "text": [
      "5\n"
     ]
    }
   ],
   "source": [
    "d =  {'Boss': ['subj1', 'subj2', 'subj3'], 'Siva': ['subj1', 'subj2']}\n",
    "count = sum(map(len,d.values()))\n",
    "print(count)"
   ]
  },
  {
   "cell_type": "code",
   "execution_count": null,
   "metadata": {},
   "outputs": [],
   "source": [
    "14. Write a Python program to sort a dictionary items by value using counter().\n",
    "    Data:\n",
    "        {'Math':91, 'Physics':93, 'Chemistry':97}\n",
    "    Expected Output:\n",
    "        [('Chemistry', 97), ('Physics', 93), ('Math', 91)]\n",
    "        \n",
    "        \n",
    "        \n",
    "        "
   ]
  },
  {
   "cell_type": "code",
   "execution_count": 14,
   "metadata": {},
   "outputs": [
    {
     "name": "stdout",
     "output_type": "stream",
     "text": [
      "[('Chemistry', 97), ('Physics', 93), ('Math', 91)]\n"
     ]
    }
   ],
   "source": [
    "from collections import Counter\n",
    "Data = {'Math':91, 'Physics':93, 'Chemistry':97}\n",
    "x = Counter(Data)\n",
    "print(x.most_common())"
   ]
  },
  {
   "cell_type": "code",
   "execution_count": null,
   "metadata": {},
   "outputs": [],
   "source": [
    "15. Write a Python program to find a specified value is present in two different dictionaries. \n",
    "    Data:\n",
    "        x = {\"key1\":1, \"key2\":3, \"key3\":2}\n",
    "        y = {\"key1\":1, \"key2\":2}\n",
    "    Expected Output:\n",
    "        key1: 1 is present in both x and y \n",
    "            \n",
    "            \n",
    "            \n",
    "            "
   ]
  },
  {
   "cell_type": "code",
   "execution_count": 15,
   "metadata": {},
   "outputs": [
    {
     "name": "stdout",
     "output_type": "stream",
     "text": [
      "The Dictionaries:\n",
      " {'key1': 1, 'key2': 3, 'key3': 2} \n",
      " {'key1': 1, 'key2': 2}\n",
      "Enter value to check:1\n",
      "key1 : 1 is present in both dictionaries\n"
     ]
    }
   ],
   "source": [
    "x = {\"key1\":1, \"key2\":3, \"key3\":2}\n",
    "y = {\"key1\":1, \"key2\":2}\n",
    "print(\"The Dictionaries:\\n\",x,\"\\n\",y)\n",
    "res1=False\n",
    "res2=False\n",
    "st1=\"\"\n",
    "st2=\"\"\n",
    "n=int(input(\"Enter value to check:\"))\n",
    "for i in x:\n",
    "    if x[i]==n:\n",
    "        res1=True\n",
    "        st1+=i\n",
    "for j in y:\n",
    "    if y[j]==n:\n",
    "        res2=True\n",
    "        st2+=j\n",
    "        \n",
    "if res1==True and res2==True and st1==st2:\n",
    "    print(st1,\":\",n,'is present in both dictionaries')"
   ]
  },
  {
   "cell_type": "code",
   "execution_count": null,
   "metadata": {},
   "outputs": [],
   "source": [
    "16. Write a Python program to drop empty items from a dictionary.\n",
    "    Data:\n",
    "        d = {'c1': 'Red', 'c2': 'Green', 'c3': None}\n",
    "    Expected Output:\n",
    "        {'c1': 'Red', 'c2': 'Green'}\n",
    "        \n",
    "        \n",
    "        \n",
    "        "
   ]
  },
  {
   "cell_type": "code",
   "execution_count": 16,
   "metadata": {},
   "outputs": [
    {
     "name": "stdout",
     "output_type": "stream",
     "text": [
      "Dictionary: {'c1': 'Red', 'c2': 'Green', 'c3': None}\n",
      "After removing empty items: {'c1': 'Red', 'c2': 'Green'}\n"
     ]
    }
   ],
   "source": [
    "d = {'c1': 'Red', 'c2': 'Green', 'c3': None}\n",
    "print(\"Dictionary:\",d)\n",
    "for i in d:\n",
    "    if d[i]==None:\n",
    "        st=i\n",
    "        \n",
    "d.pop(st)\n",
    "        \n",
    "print(\"After removing empty items:\",d)"
   ]
  },
  {
   "cell_type": "code",
   "execution_count": null,
   "metadata": {},
   "outputs": [],
   "source": [
    "17. Write a Python program to filter a dictionary based on values that are greater than 170.\n",
    "    Data:\n",
    "        marks = {'Cierra Vega': 175, 'Alden Cantrell': 180, 'Kierra Gentry': 165, 'Pierre Cox': 190}\n",
    "    Expected Output:\n",
    "        {'Cierra Vega': 175, 'Alden Cantrell': 180, 'Pierre Cox': 190}\n",
    "        \n",
    "        \n",
    "        \n",
    "        "
   ]
  },
  {
   "cell_type": "code",
   "execution_count": 17,
   "metadata": {},
   "outputs": [
    {
     "name": "stdout",
     "output_type": "stream",
     "text": [
      "Dictionary: {'Cierra Vega': 175, 'Alden Cantrell': 180, 'Kierra Gentry': 165, 'Pierre Cox': 190}\n",
      "Filtered Dictionary: {'Cierra Vega': 175, 'Alden Cantrell': 180, 'Pierre Cox': 190}\n"
     ]
    }
   ],
   "source": [
    "marks = {'Cierra Vega': 175, 'Alden Cantrell': 180, 'Kierra Gentry': 165, 'Pierre Cox': 190}\n",
    "print(\"Dictionary:\",marks)\n",
    "for i in marks:\n",
    "    if marks[i]<170:\n",
    "        st=i\n",
    "        \n",
    "marks.pop(st)\n",
    "print(\"Filtered Dictionary:\",marks)"
   ]
  },
  {
   "cell_type": "code",
   "execution_count": null,
   "metadata": {},
   "outputs": [],
   "source": [
    "18. Write a python program to create a dictionary from a list of tuple, \n",
    "        by grouping a sequence of key-value pairs into a dictionary whose values are in tuple format.\n",
    "    Data:\n",
    "        name = [('boss', 1), ('bala', 2), ('siva', 3), ('karthi', 4), ('suresh', 1)]\n",
    "    Expected Output:\n",
    "        {'boss': [1], 'bala': [2], 'siva': [3], 'karthi': [4], 'suresh': [1]}\n",
    "        \n",
    "        \n",
    "        \n",
    "        "
   ]
  },
  {
   "cell_type": "code",
   "execution_count": 18,
   "metadata": {},
   "outputs": [
    {
     "name": "stdout",
     "output_type": "stream",
     "text": [
      "Original list:\n",
      "[('boss', 1), ('bala', 2), ('siva', 3), ('karthi', 4), ('suresh', 1)]\n",
      "After grouping sequence of key-value pairs into a dictionary from the list:\n",
      "{'boss': [1], 'bala': [2], 'siva': [3], 'karthi': [4], 'suresh': [1]}\n"
     ]
    }
   ],
   "source": [
    "def Group_dict(l):\n",
    "    d = {}\n",
    "    for k,v in l:\n",
    "        d.setdefault(k,[]).append(v)\n",
    "    return d\n",
    "\n",
    "name = [('boss', 1), ('bala', 2), ('siva', 3), ('karthi', 4), ('suresh', 1)]\n",
    "print(\"Original list:\")\n",
    "print(name)\n",
    "print(\"After grouping sequence of key-value pairs into a dictionary from the list:\")\n",
    "print(Group_dict(name))"
   ]
  },
  {
   "cell_type": "code",
   "execution_count": null,
   "metadata": {},
   "outputs": [],
   "source": [
    "19. Write a python program to clear a list of values from the given dictionary.\n",
    "    Data:\n",
    "        {'D1': [10, 20, 30], 'D2': [20, 30, 40], 'D3': [12, 34]}\n",
    "    Expected Output:\n",
    "        {'D1': [], 'D2': [], 'D3': []}\n",
    "        \n",
    "        \n",
    "        \n",
    "        "
   ]
  },
  {
   "cell_type": "code",
   "execution_count": 19,
   "metadata": {},
   "outputs": [
    {
     "name": "stdout",
     "output_type": "stream",
     "text": [
      "Original dictionary:\n",
      "{'D1': [10, 20, 30], 'D2': [20, 30, 40], 'D3': [12, 34]}\n",
      "After clearing the list of values:\n",
      "{'D1': [], 'D2': [], 'D3': []}\n"
     ]
    }
   ],
   "source": [
    "def cleardict(dat):\n",
    "    for key in dat:\n",
    "        dat[key].clear()\n",
    "    return dat\n",
    "data = {'D1': [10, 20, 30], 'D2': [20, 30, 40], 'D3': [12, 34]}\n",
    "print(\"Original dictionary:\")\n",
    "print(data)\n",
    "print(\"After clearing the list of values:\")\n",
    "print(cleardict(data))\n"
   ]
  },
  {
   "cell_type": "code",
   "execution_count": null,
   "metadata": {},
   "outputs": [],
   "source": [
    "20. Write a python program to update the marks which is specified in a list of values whose key is 'Maths'.\n",
    "    Data:\n",
    "        {'Maths': [88, 89, 90], 'Physics': [92, 94, 89], 'Chemistry': [90, 87, 93]}\n",
    "    Expected Output:\n",
    "        {'Maths': [89, 90, 91], 'Physics': [92, 94, 89], 'Chemistry': [90, 87, 93]}\n",
    "        \n",
    "        \n",
    "        \n",
    "        "
   ]
  },
  {
   "cell_type": "code",
   "execution_count": 20,
   "metadata": {},
   "outputs": [
    {
     "name": "stdout",
     "output_type": "stream",
     "text": [
      "Original Dictionary:\n",
      "{'Maths': [88, 89, 90], 'Physics': [92, 94, 89], 'Chemistry': [90, 87, 93]}\n",
      "After updating values of key 'Maths':\n",
      "{'Maths': [89, 90, 91], 'Physics': [92, 94, 89], 'Chemistry': [90, 87, 93]}\n"
     ]
    }
   ],
   "source": [
    "def updatedic(d):\n",
    "    d[\"Maths\"]= [x+1 for x in d[\"Maths\"]]\n",
    "    return d\n",
    "Data = {'Maths': [88, 89, 90], 'Physics': [92, 94, 89], 'Chemistry': [90, 87, 93]}\n",
    "print(\"Original Dictionary:\")\n",
    "print(Data)\n",
    "print(\"After updating values of key \\'Maths\\':\")\n",
    "print(updatedic(Data))"
   ]
  }
 ],
 "metadata": {
  "kernelspec": {
   "display_name": "Python 3 (ipykernel)",
   "language": "python",
   "name": "python3"
  },
  "language_info": {
   "codemirror_mode": {
    "name": "ipython",
    "version": 3
   },
   "file_extension": ".py",
   "mimetype": "text/x-python",
   "name": "python",
   "nbconvert_exporter": "python",
   "pygments_lexer": "ipython3",
   "version": "3.9.13"
  }
 },
 "nbformat": 4,
 "nbformat_minor": 4
}
