{
 "cells": [
  {
   "cell_type": "code",
   "execution_count": 1,
   "metadata": {},
   "outputs": [],
   "source": [
    "1. Write a Python program to unzip a list of tuples into individual lists.\n",
    "    Data:\n",
    "        x = [(1,2), (3,4), (8,9)]\n",
    "    Expected Output:\n",
    "        [(1, 3, 8), (2, 4, 9)]\n",
    "        \n",
    "        "
   ]
  },
  {
   "cell_type": "code",
   "execution_count": 1,
   "metadata": {},
   "outputs": [
    {
     "name": "stdout",
     "output_type": "stream",
     "text": [
      "The Tuple: [(1, 2), (3, 4), (8, 9)]\n",
      "Formed List: [(1, 3, 8), (2, 4, 9)]\n"
     ]
    }
   ],
   "source": [
    "x = [(1,2), (3,4), (8,9)]\n",
    "print(\"The Tuple:\",x)\n",
    "print(\"Formed List:\",list(zip(*x)))\n"
   ]
  },
  {
   "cell_type": "code",
   "execution_count": 2,
   "metadata": {},
   "outputs": [],
   "source": [
    "2. Write a Python program to print a tuple with string formatting.\n",
    "    Data:\n",
    "        x = (10, 20, 30)\n",
    "    Expected Output:\n",
    "        This is a tuple (10, 20, 30)\n",
    "        \n",
    "        "
   ]
  },
  {
   "cell_type": "code",
   "execution_count": 2,
   "metadata": {},
   "outputs": [
    {
     "name": "stdout",
     "output_type": "stream",
     "text": [
      "This is a tuple (10, 20, 30)\n"
     ]
    }
   ],
   "source": [
    "x = (10 , 20 , 30)\n",
    "print(\"This is a tuple\",str(x))"
   ]
  },
  {
   "cell_type": "code",
   "execution_count": 3,
   "metadata": {},
   "outputs": [],
   "source": [
    "3. Write a Python program to replace last values of tuples in a list.\n",
    "    Data:\n",
    "        x= [(80, 60, 40), (40, 90, 60), (20, 40, 90)]\n",
    "    Expected Output:\n",
    "        [(80, 60, 100), (40, 90, 100), (20, 40, 100)]\n",
    "        \n",
    "        "
   ]
  },
  {
   "cell_type": "code",
   "execution_count": 3,
   "metadata": {},
   "outputs": [
    {
     "name": "stdout",
     "output_type": "stream",
     "text": [
      "The List of tuples: [(80, 60, 40), (40, 90, 60), (20, 40, 90)]\n",
      "After replacing: [(80, 60, 100), (40, 90, 100), (20, 40, 100)]\n"
     ]
    }
   ],
   "source": [
    "x= [(80, 60, 40), (40, 90, 60), (20, 40, 90)]\n",
    "print(\"The List of tuples:\",x)\n",
    "y=[t[:-1]+(100,) for t in x]\n",
    "print(\"After replacing:\",y)"
   ]
  },
  {
   "cell_type": "code",
   "execution_count": 4,
   "metadata": {},
   "outputs": [],
   "source": [
    "4. Write a Python program to remove an empty tuple(s) from a list of tuples.\n",
    "    Data:\n",
    "        X = [(), (), ('',), ('a', 'b'), ('c', 'd', 'e'), ('f')] \n",
    "    Expected Output:\n",
    "        [('',), ('a', 'b'), ('c', 'd', 'e'), 'f']        \n",
    "        \n",
    "        "
   ]
  },
  {
   "cell_type": "code",
   "execution_count": 4,
   "metadata": {},
   "outputs": [
    {
     "name": "stdout",
     "output_type": "stream",
     "text": [
      "Original Tuple: [(), (), ('',), ('a', 'b'), ('c', 'd', 'e'), 'f']\n",
      "After removing empty tuples: [('',), ('a', 'b'), ('c', 'd', 'e'), 'f']\n"
     ]
    }
   ],
   "source": [
    "X = [(), (), ('',), ('a', 'b'), ('c', 'd', 'e'), ('f')] \n",
    "Y = [t for t in X if t]\n",
    "print(\"Original Tuple:\",X)\n",
    "print(\"After removing empty tuples:\",Y)"
   ]
  },
  {
   "cell_type": "code",
   "execution_count": 5,
   "metadata": {},
   "outputs": [],
   "source": [
    "5. Write a Python program to sort a tuple by its element specified in float.\n",
    "    Data:\n",
    "        x = [('item1', '29.20'), ('item2', '49.10'), ('item3', '33.5')]\n",
    "    Expected Output:\n",
    "        [('item2', '49.10'), ('item3', '33.5'), ('item1', '29.20')]\n",
    "        \n",
    "        "
   ]
  },
  {
   "cell_type": "code",
   "execution_count": 5,
   "metadata": {},
   "outputs": [
    {
     "name": "stdout",
     "output_type": "stream",
     "text": [
      "Original list of tuples: [('item1', '29.20'), ('item2', '49.10'), ('item3', '33.5')]\n",
      "After sorting: [('item2', '49.10'), ('item3', '33.5'), ('item1', '29.20')]\n"
     ]
    }
   ],
   "source": [
    "x = [('item1', '29.20'), ('item2', '49.10'), ('item3', '33.5')]\n",
    "print(\"Original list of tuples:\",x)\n",
    "y = sorted(x ,key=lambda x: float(x[1]),reverse=True)\n",
    "print(\"After sorting:\",y)"
   ]
  },
  {
   "cell_type": "code",
   "execution_count": 2,
   "metadata": {},
   "outputs": [],
   "source": [
    "6. Write a Python program to count the elements in a list until an element is a tuple.\n",
    "    Data:\n",
    "        x = [10,20,30,(10,20),40]\n",
    "        y = 0\n",
    "    Expected Output:\n",
    "        3\n",
    "        \n",
    "        "
   ]
  },
  {
   "cell_type": "code",
   "execution_count": 6,
   "metadata": {},
   "outputs": [
    {
     "name": "stdout",
     "output_type": "stream",
     "text": [
      "[10, 20, 30, (10, 20), 40]\n",
      "3\n"
     ]
    }
   ],
   "source": [
    "x = [10,20,30,(10,20),40]\n",
    "count = 0\n",
    "print(x)\n",
    "for i in x:\n",
    "    if isinstance(i,tuple):\n",
    "        break\n",
    "    count +=1\n",
    "    \n",
    "print(count)"
   ]
  },
  {
   "cell_type": "code",
   "execution_count": 3,
   "metadata": {},
   "outputs": [],
   "source": [
    "7. Write a Python program to Sort a tuple of tuples by 2nd item.\n",
    "    Data:\n",
    "        x = (('a', 23),('b', 37),('c', 11), ('d',29))\n",
    "    Expected Output:\n",
    "        (('c', 11), ('a', 23), ('d', 29), ('b', 37))\n",
    "        \n",
    "        "
   ]
  },
  {
   "cell_type": "code",
   "execution_count": 7,
   "metadata": {},
   "outputs": [
    {
     "name": "stdout",
     "output_type": "stream",
     "text": [
      "Original Tuple: (('a', 23), ('b', 37), ('c', 11), ('d', 29))\n",
      "Sorted Tuple: (('c', 11), ('a', 23), ('d', 29), ('b', 37))\n"
     ]
    }
   ],
   "source": [
    "x = (('a', 23),('b', 37),('c', 11), ('d',29))\n",
    "print(\"Original Tuple:\",x)\n",
    "y = tuple(sorted(x, key=lambda x:x[1]))\n",
    "print(\"Sorted Tuple:\",y)"
   ]
  },
  {
   "cell_type": "code",
   "execution_count": 4,
   "metadata": {},
   "outputs": [],
   "source": [
    "8. Write a Python program to Check whether all items in a tuple are the same.\n",
    "    Data:\n",
    "        y = (45, 45, 45, 45)\n",
    "    Expected Output:\n",
    "        True\n",
    "        \n",
    "        "
   ]
  },
  {
   "cell_type": "code",
   "execution_count": 8,
   "metadata": {},
   "outputs": [
    {
     "name": "stdout",
     "output_type": "stream",
     "text": [
      "True\n"
     ]
    }
   ],
   "source": [
    "y = (45,45,45,45)\n",
    "print(all(i==y[0] for i in y))"
   ]
  },
  {
   "cell_type": "code",
   "execution_count": 5,
   "metadata": {},
   "outputs": [],
   "source": [
    "9. Write a Python program to calculate the area of a circle by sending the value of radius in a tuple.\n",
    "    Data:\n",
    "        a = (5)\n",
    "    Expected Output:\n",
    "        78.57142857142857\n",
    "        \n",
    "        "
   ]
  },
  {
   "cell_type": "code",
   "execution_count": 9,
   "metadata": {},
   "outputs": [
    {
     "name": "stdout",
     "output_type": "stream",
     "text": [
      "Area: 78.57142857142857\n"
     ]
    }
   ],
   "source": [
    "a=(5,)\n",
    "area=float((22/7)*(a[0]*a[0]))\n",
    "print(\"Area:\",area)"
   ]
  },
  {
   "cell_type": "code",
   "execution_count": 6,
   "metadata": {},
   "outputs": [],
   "source": [
    "10. Write a Python program to calculate the circumference of a circle by sending the value of radius in a tuple.\n",
    "    Data:\n",
    "        a = (2)\n",
    "    Expected Output:\n",
    "        12.571428571428571        \n",
    "        \n",
    "        "
   ]
  },
  {
   "cell_type": "code",
   "execution_count": 10,
   "metadata": {},
   "outputs": [
    {
     "name": "stdout",
     "output_type": "stream",
     "text": [
      "Circumference: 12.571428571428571\n"
     ]
    }
   ],
   "source": [
    "a=(2,)\n",
    "c=float((22/7)*(2*a[0]))\n",
    "print(\"Circumference:\",c)"
   ]
  },
  {
   "cell_type": "code",
   "execution_count": 7,
   "metadata": {},
   "outputs": [],
   "source": [
    "11. Write a Python program to calculate the perimeter of a square by sending the value of side in a tuple.\n",
    "    Data:\n",
    "        a = (3)\n",
    "    Expected Output:\n",
    "        12\n",
    "        \n",
    "        "
   ]
  },
  {
   "cell_type": "code",
   "execution_count": 11,
   "metadata": {},
   "outputs": [
    {
     "name": "stdout",
     "output_type": "stream",
     "text": [
      "Perimeter of square: 12\n"
     ]
    }
   ],
   "source": [
    "a=(3,)\n",
    "p=4*a[0]\n",
    "print(\"Perimeter of square:\",p)"
   ]
  },
  {
   "cell_type": "code",
   "execution_count": 8,
   "metadata": {},
   "outputs": [],
   "source": [
    "12. Write a Python program to calculate the area of a traingle by sending the value of height and base in a tuple.\n",
    "    Data:\n",
    "        h = (23)\n",
    "        b = (34)\n",
    "    Expected Output:\n",
    "        391.0\n",
    "        \n",
    "        "
   ]
  },
  {
   "cell_type": "code",
   "execution_count": 12,
   "metadata": {},
   "outputs": [
    {
     "name": "stdout",
     "output_type": "stream",
     "text": [
      "Area of triangle: 391.0\n"
     ]
    }
   ],
   "source": [
    "h = (23,)\n",
    "b = (34,)\n",
    "at=0.5*h[0]*b[0]\n",
    "print(\"Area of triangle:\",at)"
   ]
  },
  {
   "cell_type": "code",
   "execution_count": 9,
   "metadata": {},
   "outputs": [],
   "source": [
    "13. Write a Python program to create a tuple with elements of different data types.\n",
    "    Expected Output:\n",
    "        ()\n",
    "        (1, 2, 3)\n",
    "        (1, 'Hello', 3.4)\n",
    "        ('HI', [8, 4, 6], (1, 2, 3))\n",
    "        \n",
    "        "
   ]
  },
  {
   "cell_type": "code",
   "execution_count": 13,
   "metadata": {},
   "outputs": [
    {
     "name": "stdout",
     "output_type": "stream",
     "text": [
      " () \n",
      " (1, 2, 3) \n",
      " (1, 'Hello', 3.4) \n",
      " ('HI', [8, 4, 6], (1, 2, 3))\n"
     ]
    }
   ],
   "source": [
    "t1=()\n",
    "t2=(1,2,3)\n",
    "t3=(1,'Hello',3.4)\n",
    "t4=('HI',[8,4,6],(1,2,3))\n",
    "print(\"\",t1,\"\\n\",t2,\"\\n\",t3,\"\\n\",t4)"
   ]
  },
  {
   "cell_type": "code",
   "execution_count": 10,
   "metadata": {},
   "outputs": [],
   "source": [
    "14. Write a Python program to unpack a tuple in several variables.\n",
    "    Data:\n",
    "        x = 3, 4.6, \"dog\"\n",
    "    Expected Output:\n",
    "        (3, 4.6, 'dog')\n",
    "        3\n",
    "        4.6\n",
    "        dog\n",
    "        \n",
    "        "
   ]
  },
  {
   "cell_type": "code",
   "execution_count": 14,
   "metadata": {},
   "outputs": [
    {
     "name": "stdout",
     "output_type": "stream",
     "text": [
      "(3, 4.6, 'dog')\n",
      "3\n",
      "4.6\n",
      "dog\n"
     ]
    }
   ],
   "source": [
    "x=(3,4.6,\"dog\")\n",
    "print(x)\n",
    "var1,var2,var3=x\n",
    "print(var1)\n",
    "print(var2)\n",
    "print(var3)"
   ]
  },
  {
   "cell_type": "code",
   "execution_count": 1,
   "metadata": {},
   "outputs": [],
   "source": [
    "15. Write a Python program to update the value \"6\" to \"9\" which is present in a tuple using index. \n",
    "    Data:\n",
    "        x = (4, 2, 3, [6, 5])\n",
    "    Expected Output:\n",
    "        (4, 2, 3, [9, 5])\n",
    "        \n",
    "        "
   ]
  },
  {
   "cell_type": "code",
   "execution_count": 15,
   "metadata": {},
   "outputs": [
    {
     "name": "stdout",
     "output_type": "stream",
     "text": [
      "The tuple: (4, 2, 3, [6, 5])\n",
      "After updation: (4, 2, 3, [9, 5])\n"
     ]
    }
   ],
   "source": [
    "x = (4, 2, 3, [6, 5])\n",
    "print(\"The tuple:\",x)\n",
    "x[3][0]=9\n",
    "print(\"After updation:\",x)"
   ]
  },
  {
   "cell_type": "code",
   "execution_count": 2,
   "metadata": {},
   "outputs": [],
   "source": [
    "16. Write a Python program to check whether an element is present in a given tuple using the keyword in. Print the elements of a tuple one by one.\n",
    "    Data:\n",
    "        x = (\"Bihar\", \"Odisha\", \"Assam\") \n",
    "    Expected Output:\n",
    "        yes Bihar is present in the given tuple\n",
    "\n",
    "        Bihar\n",
    "        Odisha\n",
    "        Assam\n",
    "        \n",
    "        "
   ]
  },
  {
   "cell_type": "code",
   "execution_count": 3,
   "metadata": {},
   "outputs": [
    {
     "name": "stdout",
     "output_type": "stream",
     "text": [
      "The tuple: ('Bihar', 'Odisha', 'Assam')\n",
      "yes Bihar is present in the given tuple\n",
      "\n",
      "Bihar\n",
      "Odisha\n",
      "Assam\n"
     ]
    }
   ],
   "source": [
    "x = (\"Bihar\", \"Odisha\", \"Assam\") \n",
    "print(\"The tuple:\",x)\n",
    "if \"Bihar\" in x:\n",
    "    print(\"yes Bihar is present in the given tuple\\n\")\n",
    "    \n",
    "for i in x:\n",
    "    print(i)\n"
   ]
  },
  {
   "cell_type": "code",
   "execution_count": 3,
   "metadata": {},
   "outputs": [],
   "source": [
    "17. Write a Python program to check whether an element is not present in a given tuple using the keyword not in. Print the elements of a tuple one by one.\n",
    "    Data:\n",
    "        x = (\"Bihar\", \"Odisha\", \"Assam\")\n",
    "    Expected Output:\n",
    "        False\n",
    "        True        \n",
    "        \n",
    "        "
   ]
  },
  {
   "cell_type": "code",
   "execution_count": 2,
   "metadata": {},
   "outputs": [
    {
     "name": "stdout",
     "output_type": "stream",
     "text": [
      "The tuple: ('Bihar', 'Odisha', 'Assam')\n",
      "True\n",
      "False\n"
     ]
    }
   ],
   "source": [
    "x = (\"Bihar\", \"Odisha\", \"Assam\") \n",
    "print(\"The tuple:\",x)\n",
    "print(\"Kerala\" not in x)\n",
    "print(\"Assam\" not in x)"
   ]
  },
  {
   "cell_type": "code",
   "execution_count": 4,
   "metadata": {},
   "outputs": [],
   "source": [
    "''' 18. Write a Python program to print the following output from given tuple (5 > 3 and 5 < 10 )and (5 > 3 or 5 > 10) is True or False.\n",
    "    Expected Output:\n",
    "        Both statements are True\n",
    "        Any one statement is True '''\n",
    "\n",
    "      \n",
    "        "
   ]
  },
  {
   "cell_type": "code",
   "execution_count": 18,
   "metadata": {},
   "outputs": [
    {
     "name": "stdout",
     "output_type": "stream",
     "text": [
      "Both statements are True\n",
      "Any one statement is True\n"
     ]
    }
   ],
   "source": [
    "t = (5,3,10)\n",
    "if t[0] > t[1] and t[0] < t[2]:\n",
    "    print(\"Both statements are True\")\n",
    "else:\n",
    "    print(\"Any one statement is False\")\n",
    "    \n",
    "if t[0] > t[1] or t[0]> t[2]:\n",
    "    print(\"Any one statement is True\")\n",
    "else:\n",
    "    print(\"Both statements are False\")"
   ]
  },
  {
   "cell_type": "code",
   "execution_count": 5,
   "metadata": {},
   "outputs": [],
   "source": [
    "19. Write a Python program to print an element from a given tuple using index and negative index.\n",
    "    Data:\n",
    "        x = (\"boss\", \"bala\", \"suresh\")\n",
    "    Expected Output:\n",
    "        bala\n",
    "        suresh\n",
    "        \n",
    "        "
   ]
  },
  {
   "cell_type": "code",
   "execution_count": 19,
   "metadata": {},
   "outputs": [
    {
     "name": "stdout",
     "output_type": "stream",
     "text": [
      "The tuple: ('boss', 'bala', 'suresh')\n",
      "boss\n",
      "suresh\n",
      "bala\n"
     ]
    }
   ],
   "source": [
    "x = (\"boss\", \"bala\", \"suresh\")\n",
    "print(\"The tuple:\",x)\n",
    "print(x[0])\n",
    "print(x[-1])\n",
    "print(x[-2])"
   ]
  },
  {
   "cell_type": "code",
   "execution_count": null,
   "metadata": {},
   "outputs": [],
   "source": [
    "20. Write a Python program to print the elements of a given tuple using range of indices and range of negative indices.\n",
    "    Data:\n",
    "        x = (\"Magnum\", \"Pistah\", \"Strawberry\", \"Vennila\", \"Chocobar\", \"Blackberry\", \"Salad\")\n",
    "    Range of Indexes,Range of Negative Indexes.\n",
    "    Expected Output:\n",
    "        ('Strawberry', 'Vennila', 'Chocobar', 'Blackberry', 'Salad')\n",
    "        ('Vennila', 'Chocobar', 'Blackberry')        \n",
    "        \n",
    "        "
   ]
  },
  {
   "cell_type": "code",
   "execution_count": 20,
   "metadata": {},
   "outputs": [
    {
     "name": "stdout",
     "output_type": "stream",
     "text": [
      "('Strawberry', 'Vennila', 'Chocobar', 'Blackberry', 'Salad')\n",
      "('Vennila', 'Chocobar', 'Blackberry')\n"
     ]
    }
   ],
   "source": [
    "x = (\"Magnum\", \"Pistah\", \"Strawberry\", \"Vennila\", \"Chocobar\", \"Blackberry\", \"Salad\")\n",
    "print(x[2:])\n",
    "print(x[-4:-1])"
   ]
  }
 ],
 "metadata": {
  "kernelspec": {
   "display_name": "Python 3 (ipykernel)",
   "language": "python",
   "name": "python3"
  },
  "language_info": {
   "codemirror_mode": {
    "name": "ipython",
    "version": 3
   },
   "file_extension": ".py",
   "mimetype": "text/x-python",
   "name": "python",
   "nbconvert_exporter": "python",
   "pygments_lexer": "ipython3",
   "version": "3.9.13"
  }
 },
 "nbformat": 4,
 "nbformat_minor": 4
}
