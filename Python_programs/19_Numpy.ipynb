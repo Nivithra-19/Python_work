{
 "cells": [
  {
   "cell_type": "code",
   "execution_count": 1,
   "id": "2a984c0d",
   "metadata": {},
   "outputs": [
    {
     "name": "stdout",
     "output_type": "stream",
     "text": [
      "1\n",
      "3\n",
      "(3,)\n",
      "[1 2 3]\n",
      "[[1]\n",
      " [2]\n",
      " [3]]\n",
      "int32\n"
     ]
    }
   ],
   "source": [
    "import numpy as np\n",
    "\n",
    "a = np.array([1,2,3])\n",
    "print(a.ndim)# ndim represents the no of nested lists in the numpy array\n",
    "print(a.size)\n",
    "print(a.shape)\n",
    "reshaped_a = a.reshape(3, 1)\n",
    "print(a)\n",
    "print(reshaped_a)\n",
    "print(a.dtype)"
   ]
  },
  {
   "cell_type": "code",
   "execution_count": 2,
   "id": "20a19559",
   "metadata": {},
   "outputs": [
    {
     "name": "stdout",
     "output_type": "stream",
     "text": [
      "[0. 0. 0.]\n",
      "float64\n",
      "<class 'numpy.float64'>\n"
     ]
    }
   ],
   "source": [
    "b=np.zeros(3)\n",
    "print(b)\n",
    "print(b.dtype)\n",
    "print(type(b[0]))"
   ]
  },
  {
   "cell_type": "code",
   "execution_count": 3,
   "id": "b3ceb40f",
   "metadata": {},
   "outputs": [
    {
     "name": "stdout",
     "output_type": "stream",
     "text": [
      "[ 4  6  7  9 10 11  1]\n",
      "1\n",
      "11\n",
      "48\n"
     ]
    }
   ],
   "source": [
    "n = np.array([4,6,7,9,10,11,1])\n",
    "print(n)\n",
    "print(n.min())\n",
    "print(n.max())\n",
    "print(n.sum())"
   ]
  },
  {
   "cell_type": "code",
   "execution_count": 4,
   "id": "17820cff",
   "metadata": {},
   "outputs": [
    {
     "name": "stdout",
     "output_type": "stream",
     "text": [
      "Vector1: [0 1]\n",
      "Vector2: [2 3]\n",
      "Vector Addition: [2 4]\n",
      "Vector Subtraction: [-2 -2]\n",
      "Hadamard Product: [0 3]\n",
      "Dot Product: 3\n",
      "[0 2 4 6]\n",
      "[1 2 3 4]\n",
      "1.5\n"
     ]
    }
   ],
   "source": [
    "p = np.array([0,1])\n",
    "q = np.array([2,3])\n",
    "print(\"Vector1:\",p)\n",
    "print(\"Vector2:\",q)\n",
    "print(\"Vector Addition:\",p+q)\n",
    "print(\"Vector Subtraction:\",p-q)\n",
    "print(\"Hadamard Product:\",p*q) #element wise product\n",
    "print(\"Dot Product:\",np.dot(p,q)) #matrix multiplication\n",
    "r = np.array([0,1,2,3])\n",
    "print(r*2)\n",
    "print(r+1)\n",
    "print(r.mean())"
   ]
  },
  {
   "cell_type": "code",
   "execution_count": 5,
   "id": "045cb402",
   "metadata": {},
   "outputs": [
    {
     "name": "stdout",
     "output_type": "stream",
     "text": [
      "2\n",
      "6\n",
      "(2, 3)\n",
      "[[1 2 3]\n",
      " [4 5 6]]\n",
      "[[1 2]\n",
      " [3 4]\n",
      " [5 6]]\n"
     ]
    }
   ],
   "source": [
    "x=np.array([(1,2,3),(4,5,6)])\n",
    "print(x.ndim)\n",
    "print(x.size)\n",
    "print(x.shape)\n",
    "print(x)\n",
    "print(x.reshape(3,2))\n",
    "#print(y)"
   ]
  },
  {
   "cell_type": "code",
   "execution_count": 6,
   "id": "94b7ac97",
   "metadata": {},
   "outputs": [
    {
     "name": "stdout",
     "output_type": "stream",
     "text": [
      "[[1 2 3]\n",
      " [3 4 5]\n",
      " [6 7 8]]\n",
      "2\n",
      "9\n",
      "(3, 3)\n",
      "1\n",
      "8\n",
      "39\n",
      "[ 6 12 21]\n",
      "[10 13 16]\n",
      "[[1 3 6]\n",
      " [2 4 7]\n",
      " [3 5 8]]\n"
     ]
    }
   ],
   "source": [
    "ar = np.array([[1,2,3],[3,4,5],[6,7,8]])\n",
    "print(ar)\n",
    "print(ar.ndim)\n",
    "print(ar.size)\n",
    "print(ar.shape)\n",
    "print(ar.min())\n",
    "print(ar.max())\n",
    "print(ar.sum())\n",
    "print(ar.sum(axis=1))\n",
    "print(ar.sum(axis=0))\n",
    "print(ar.T)"
   ]
  },
  {
   "cell_type": "code",
   "execution_count": 7,
   "id": "5382482f",
   "metadata": {},
   "outputs": [
    {
     "name": "stdout",
     "output_type": "stream",
     "text": [
      "[[ 2  4  6]\n",
      " [ 8 10 12]]\n",
      "[[0 0 0]\n",
      " [0 0 0]]\n",
      "[[ 1  4  9]\n",
      " [16 25 36]]\n",
      "[[1 2 3]\n",
      " [4 5 6]\n",
      " [1 2 3]\n",
      " [4 5 6]]\n",
      "[[1 2 3 1 2 3]\n",
      " [4 5 6 4 5 6]]\n",
      "[1 2 3 4 5 6]\n"
     ]
    }
   ],
   "source": [
    "a1 = np.array([[1,2,3],[4,5,6]])\n",
    "a2 = np.array([[1,2,3],[4,5,6]])\n",
    "print(a1+a2)\n",
    "print(a1-a2)\n",
    "print(a1*a2)\n",
    "\n",
    "\"\"\"vstack is short for \"vertical stack\". It is used to vertically stack arrays on top of each other. \n",
    "This function takes a sequence of arrays and stacks them vertically to create a single array. \n",
    "All arrays must have the same number of columns\"\"\"\n",
    "\n",
    "print(np.vstack((a1,a2)))\n",
    "\n",
    "\n",
    "\"\"\"hstack is short for \"horizontal stack\". It is used to horizontally stack arrays side by side. \n",
    "This function takes a sequence of arrays and stacks them horizontally to create a single array.\n",
    "All arrays must have the same number of rows.\"\"\"\n",
    "\n",
    "\n",
    "horstack = np.hstack((a1,a2))\n",
    "print(horstack)\n",
    "\n",
    "\n",
    "\"\"\"ravel is used to flatten multi-dimensional arrays into a one-dimensional array.\n",
    "It returns a contiguous flattened array containing all the elements of the input array. \"\"\"\n",
    "print(np.ravel(a1))"
   ]
  },
  {
   "cell_type": "code",
   "execution_count": 8,
   "id": "c130de5f",
   "metadata": {},
   "outputs": [
    {
     "name": "stdout",
     "output_type": "stream",
     "text": [
      "2\n",
      "9\n",
      "(3, 3)\n",
      "int32\n",
      "1\n",
      "9\n",
      "45\n",
      "[ 6 15 24]\n",
      "[12 15 18]\n",
      "\n",
      "\n",
      "[[1 2 3]\n",
      " [4 5 6]\n",
      " [7 8 9]]\n",
      "\n",
      "\n",
      "[1 2 3]\n",
      "[4 5 6]\n",
      "[7 8 9]\n",
      "\n",
      "\n",
      "[1 4 7]\n",
      "[2 5 8]\n",
      "[3 6 9]\n",
      "\n",
      "\n",
      "[[1 3]\n",
      " [7 9]]\n",
      "\n",
      "\n",
      "[1 3]\n",
      "[4 6]\n",
      "[7 9]\n",
      "\n",
      "\n",
      "[1 7]\n",
      "[2 8]\n",
      "[3 9]\n",
      "\n",
      "\n",
      "1\n",
      "2\n",
      "3\n",
      "4\n",
      "5\n",
      "6\n",
      "7\n",
      "8\n",
      "9\n",
      "\n",
      "\n",
      "[[1 4 7]\n",
      " [2 5 8]\n",
      " [3 6 9]]\n"
     ]
    }
   ],
   "source": [
    "nd = np.array([[1,2,3],[4,5,6],[7,8,9]])\n",
    "print(nd.ndim)\n",
    "print(nd.size)\n",
    "print(nd.shape)\n",
    "print(nd.dtype)\n",
    "print(nd.min())\n",
    "print(nd.max())\n",
    "print(nd.sum())\n",
    "print(nd.sum(axis=1))\n",
    "print(nd.sum(axis=0))\n",
    "print(\"\\n\")\n",
    "print(nd)\n",
    "print(\"\\n\")\n",
    "print(nd[0,:])#all elements of row0\n",
    "print(nd[1,:])#all elements of row1 \n",
    "print(nd[2,:])#all elements of row2\n",
    "print(\"\\n\")\n",
    "print(nd[:,0])#all elements of col0\n",
    "print(nd[:,1])#all elements of col1 \n",
    "print(nd[:,2])#all elements of col2\n",
    "print(\"\\n\")\n",
    "print(nd[::2,::2])#corner elements\n",
    "print(\"\\n\")\n",
    "print(nd[0,::2])#corner elements of row0\n",
    "print(nd[1,::2])#corner elements of row1 \n",
    "print(nd[2,::2])#corner elements of row2\n",
    "print(\"\\n\")\n",
    "print(nd[::2,0])#corner elements of col0\n",
    "print(nd[::2,1])#corner elements of col1\n",
    "print(nd[::2,2])#corner elements of col2\n",
    "print(\"\\n\")\n",
    "#elements at each index\n",
    "print(nd[0,0])\n",
    "print(nd[0,1])\n",
    "print(nd[0,2])\n",
    "print(nd[1,0])\n",
    "print(nd[1,1])\n",
    "print(nd[1,2])\n",
    "print(nd[2,0])\n",
    "print(nd[2,1])\n",
    "print(nd[2,2])\n",
    "print(\"\\n\")\n",
    "print(nd.T)"
   ]
  }
 ],
 "metadata": {
  "kernelspec": {
   "display_name": "Python 3 (ipykernel)",
   "language": "python",
   "name": "python3"
  },
  "language_info": {
   "codemirror_mode": {
    "name": "ipython",
    "version": 3
   },
   "file_extension": ".py",
   "mimetype": "text/x-python",
   "name": "python",
   "nbconvert_exporter": "python",
   "pygments_lexer": "ipython3",
   "version": "3.9.13"
  }
 },
 "nbformat": 4,
 "nbformat_minor": 5
}
