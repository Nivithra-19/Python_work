{
 "cells": [
  {
   "cell_type": "code",
   "execution_count": 1,
   "metadata": {},
   "outputs": [],
   "source": [
    "# write a program to add two  integers 10 , 20"
   ]
  },
  {
   "cell_type": "code",
   "execution_count": 1,
   "metadata": {},
   "outputs": [
    {
     "name": "stdout",
     "output_type": "stream",
     "text": [
      "10 + 20 = 30\n"
     ]
    }
   ],
   "source": [
    "a=10\n",
    "b=20\n",
    "c=a+b\n",
    "print(a,\"+\",b,\"=\",c)"
   ]
  },
  {
   "cell_type": "code",
   "execution_count": 2,
   "metadata": {},
   "outputs": [],
   "source": [
    "# Write a program to find the type of a, b ,c where a=2, b=2.8,c=\"John\""
   ]
  },
  {
   "cell_type": "code",
   "execution_count": 2,
   "metadata": {},
   "outputs": [
    {
     "name": "stdout",
     "output_type": "stream",
     "text": [
      "<class 'int'>\n",
      "<class 'float'>\n",
      "<class 'str'>\n"
     ]
    }
   ],
   "source": [
    "a=2\n",
    "b=2.8\n",
    "c=\"John\"\n",
    "print(type(a))\n",
    "print(type(b))\n",
    "print(type(c))"
   ]
  },
  {
   "cell_type": "code",
   "execution_count": 3,
   "metadata": {},
   "outputs": [],
   "source": [
    "# Write a program to swap the two numbers , where a=2 ,b=4 the program should print a= 4 ,b=2"
   ]
  },
  {
   "cell_type": "code",
   "execution_count": 13,
   "metadata": {},
   "outputs": [
    {
     "name": "stdout",
     "output_type": "stream",
     "text": [
      "Before swap: a= 2 & b= 4\n",
      "After swap: a= 4 & b= 2\n"
     ]
    }
   ],
   "source": [
    "a=2\n",
    "b=4\n",
    "print(\"Before swap: a=\",a,\"& b=\",b)\n",
    "a,b = b,a\n",
    "print(\"After swap: a=\",a,\"& b=\",b)"
   ]
  },
  {
   "cell_type": "code",
   "execution_count": 4,
   "metadata": {},
   "outputs": [],
   "source": [
    "# Write a program to swap the two numbers , using 3 variables"
   ]
  },
  {
   "cell_type": "code",
   "execution_count": 4,
   "metadata": {},
   "outputs": [
    {
     "name": "stdout",
     "output_type": "stream",
     "text": [
      "Before swap: a= 2 & b= 4\n",
      "After swap: a= 4 & b= 2\n"
     ]
    }
   ],
   "source": [
    "a=2\n",
    "b=4\n",
    "print(\"Before swap: a=\",a,\"& b=\",b)\n",
    "temp=a\n",
    "a=b\n",
    "b=temp\n",
    "print(\"After swap: a=\",a,\"& b=\",b)"
   ]
  },
  {
   "cell_type": "code",
   "execution_count": 5,
   "metadata": {},
   "outputs": [],
   "source": [
    "# Write a program to print the numerator and denominator , quotient and remainder"
   ]
  },
  {
   "cell_type": "code",
   "execution_count": 5,
   "metadata": {},
   "outputs": [
    {
     "name": "stdout",
     "output_type": "stream",
     "text": [
      "45 / 2 = 22\n",
      "45 % 2 = 1\n"
     ]
    }
   ],
   "source": [
    "a=45\n",
    "b=2\n",
    "c=a//b\n",
    "d=a%b\n",
    "print(a,\"/\",b,\"=\",c)\n",
    "print(a,\"%\",b,\"=\",d)\n"
   ]
  },
  {
   "cell_type": "code",
   "execution_count": 6,
   "metadata": {},
   "outputs": [],
   "source": [
    "# Write a program to calculate simple interst , si =p*n*r/100"
   ]
  },
  {
   "cell_type": "code",
   "execution_count": 6,
   "metadata": {},
   "outputs": [
    {
     "name": "stdout",
     "output_type": "stream",
     "text": [
      "Principal amount= Rs 1000\n",
      "No of years= 2\n",
      "Rate of interest= 1.5\n",
      "Simple Interest= Rs 30.0\n"
     ]
    }
   ],
   "source": [
    "p=1000\n",
    "n=2\n",
    "r=1.5\n",
    "si=(p*n*r)/100\n",
    "print(\"Principal amount= Rs\",p)\n",
    "print(\"No of years=\",n)\n",
    "print(\"Rate of interest=\",r)\n",
    "print(\"Simple Interest= Rs\",si)"
   ]
  },
  {
   "cell_type": "code",
   "execution_count": 7,
   "metadata": {},
   "outputs": [],
   "source": [
    "# Write a program to calculate the area and circumference of a circle ,area=3.14*radius*radius , circumference=2*3.14*r"
   ]
  },
  {
   "cell_type": "code",
   "execution_count": 7,
   "metadata": {},
   "outputs": [
    {
     "name": "stdout",
     "output_type": "stream",
     "text": [
      "Radius= 5 cms\n",
      "Area= 78.5 sq.cms\n",
      "Circumference= 31.400000000000002 cms\n"
     ]
    }
   ],
   "source": [
    "r=5\n",
    "area=3.14*r*r\n",
    "peri=2*3.14*r\n",
    "print(\"Radius=\",r,\"cms\")\n",
    "print(\"Area=\",area,\"sq.cms\")\n",
    "print(\"Circumference=\",peri,\"cms\")"
   ]
  },
  {
   "cell_type": "code",
   "execution_count": 8,
   "metadata": {},
   "outputs": [],
   "source": [
    "# Write a program to convert Celcius to Fariehiet , fariienhiet=1.8*celcius+32"
   ]
  },
  {
   "cell_type": "code",
   "execution_count": 8,
   "metadata": {},
   "outputs": [
    {
     "name": "stdout",
     "output_type": "stream",
     "text": [
      "Enter celcius value=\n",
      "5\n",
      "Fahrenheit= 41.0\n"
     ]
    }
   ],
   "source": [
    "print(\"Enter celcius value=\")\n",
    "cel= float(input())\n",
    "far= (1.8*cel)+32\n",
    "print(\"Fahrenheit=\",far)"
   ]
  },
  {
   "cell_type": "code",
   "execution_count": 9,
   "metadata": {},
   "outputs": [],
   "source": [
    "# Write a program to find whether given number is odd or even"
   ]
  },
  {
   "cell_type": "code",
   "execution_count": 9,
   "metadata": {},
   "outputs": [
    {
     "name": "stdout",
     "output_type": "stream",
     "text": [
      "45 is odd\n"
     ]
    }
   ],
   "source": [
    "a=45\n",
    "if(a%2==0):\n",
    "    print(a,\"is even\")\n",
    "else:\n",
    "    print(a,\"is odd\")\n",
    "    "
   ]
  },
  {
   "cell_type": "code",
   "execution_count": 10,
   "metadata": {},
   "outputs": [],
   "source": [
    "# Write a program to check whether the person can vote or not"
   ]
  },
  {
   "cell_type": "code",
   "execution_count": 14,
   "metadata": {},
   "outputs": [
    {
     "name": "stdout",
     "output_type": "stream",
     "text": [
      "enter age\n",
      "23\n",
      "Person can vote\n"
     ]
    }
   ],
   "source": [
    "print(\"enter age\")\n",
    "age= int(input())\n",
    "if(age>18):\n",
    "    print(\"Person can vote\")\n",
    "else:\n",
    "    print(\"Person cannot vote\")"
   ]
  },
  {
   "cell_type": "code",
   "execution_count": 11,
   "metadata": {},
   "outputs": [],
   "source": [
    "# Write a program to find whether the given number is odd or even"
   ]
  },
  {
   "cell_type": "code",
   "execution_count": 15,
   "metadata": {},
   "outputs": [
    {
     "name": "stdout",
     "output_type": "stream",
     "text": [
      "enter number:\n",
      "23\n",
      "odd number\n"
     ]
    }
   ],
   "source": [
    "print(\"enter number:\")\n",
    "x=int(input())\n",
    "if(x%2==0):\n",
    "    print(\"even number\")\n",
    "else:\n",
    "    print(\"odd number\")"
   ]
  },
  {
   "cell_type": "code",
   "execution_count": 12,
   "metadata": {},
   "outputs": [],
   "source": [
    "# Write a program to find whether the given year is leap year or not ?"
   ]
  },
  {
   "cell_type": "code",
   "execution_count": 11,
   "metadata": {},
   "outputs": [
    {
     "name": "stdout",
     "output_type": "stream",
     "text": [
      "Enter year\n",
      "2022\n",
      "not a leap year\n"
     ]
    }
   ],
   "source": [
    "print(\"Enter year\")\n",
    "year= int(input())\n",
    "if(year%4==0):\n",
    "    print(\"leap year\")\n",
    "else:\n",
    "    print(\"not a leap year\")"
   ]
  },
  {
   "cell_type": "code",
   "execution_count": null,
   "metadata": {},
   "outputs": [],
   "source": [
    "# Write a program to find the bigeest of three numbers"
   ]
  },
  {
   "cell_type": "code",
   "execution_count": 12,
   "metadata": {},
   "outputs": [
    {
     "name": "stdout",
     "output_type": "stream",
     "text": [
      "The numbers are 20 & 15 & 35\n",
      "35 is the biggest\n"
     ]
    }
   ],
   "source": [
    "a=20\n",
    "b=15\n",
    "c=35\n",
    "print(\"The numbers are\",a,\"&\",b,\"&\",c)\n",
    "if(a>b and a>c):\n",
    "    print(a,\"is the biggest\")\n",
    "elif(b>a and b>c):\n",
    "    print(b,\"is the biggest\")\n",
    "else:\n",
    "    print(c,\"is the biggest\")"
   ]
  },
  {
   "cell_type": "code",
   "execution_count": null,
   "metadata": {},
   "outputs": [],
   "source": []
  }
 ],
 "metadata": {
  "kernelspec": {
   "display_name": "Python 3 (ipykernel)",
   "language": "python",
   "name": "python3"
  },
  "language_info": {
   "codemirror_mode": {
    "name": "ipython",
    "version": 3
   },
   "file_extension": ".py",
   "mimetype": "text/x-python",
   "name": "python",
   "nbconvert_exporter": "python",
   "pygments_lexer": "ipython3",
   "version": "3.9.13"
  }
 },
 "nbformat": 4,
 "nbformat_minor": 2
}
