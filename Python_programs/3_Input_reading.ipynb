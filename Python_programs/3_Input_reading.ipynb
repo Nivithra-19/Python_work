{
 "cells": [
  {
   "cell_type": "code",
   "execution_count": 1,
   "metadata": {},
   "outputs": [
    {
     "name": "stdout",
     "output_type": "stream",
     "text": [
      "Enter no of hours:\n",
      "2\n",
      "2 hour equals to 120 minutes\n"
     ]
    }
   ],
   "source": [
    "# Write a program to hours to minutes , user should able to give hours as input\n",
    "\n",
    "# your Answer\n",
    "\n",
    "print('Enter no of hours:')\n",
    "hrs = int(input())\n",
    "minutes = hrs*60\n",
    "print(hrs,\"hour equals to\",minutes,\"minutes\")\n"
   ]
  },
  {
   "cell_type": "code",
   "execution_count": 2,
   "metadata": {},
   "outputs": [
    {
     "name": "stdout",
     "output_type": "stream",
     "text": [
      "Enter centimeter value:\n",
      "250\n",
      "250 centimeters is equal to 2.5 meters\n"
     ]
    }
   ],
   "source": [
    "# Write a program to convert centimeter to meter , user shoulb be able to give centimeter as input\n",
    "\n",
    "# your Answer\n",
    "\n",
    "print(\"Enter centimeter value:\")\n",
    "cms = int(input())\n",
    "ms=cms/100\n",
    "print(cms,\"centimeters is equal to\",ms,\"meters\")\n"
   ]
  },
  {
   "cell_type": "code",
   "execution_count": 3,
   "metadata": {},
   "outputs": [
    {
     "name": "stdout",
     "output_type": "stream",
     "text": [
      "Enter miles value:\n",
      "10\n",
      "10.0 miles is equal to 16.0 kilometers\n"
     ]
    }
   ],
   "source": [
    "# Write a program to convert miles to Kilometer , user shoulb be able to give miles as input\n",
    "\n",
    "# your Answer\n",
    "\n",
    "print(\"Enter miles value:\")\n",
    "mil= float(input())\n",
    "kms=mil*1.6\n",
    "print(mil,\"miles is equal to\",kms,\"kilometers\")\n",
    "\n",
    "\n"
   ]
  },
  {
   "cell_type": "code",
   "execution_count": 4,
   "metadata": {},
   "outputs": [
    {
     "name": "stdout",
     "output_type": "stream",
     "text": [
      "Enter pounds value:\n",
      "5\n",
      "5.0 pounds is equal to 2.27 kilograms\n"
     ]
    }
   ],
   "source": [
    "# Write a program to convert pounds to Kilogram , user shoulb be able to give pounds as input\n",
    "\n",
    "# your Answer\n",
    "\n",
    "print(\"Enter pounds value:\")\n",
    "pds= float(input())\n",
    "kgs= pds*0.454\n",
    "print(pds,\"pounds is equal to\",kgs,\"kilograms\")\n",
    "\n",
    "\n",
    "\n",
    "\n",
    "\n"
   ]
  },
  {
   "cell_type": "code",
   "execution_count": 11,
   "metadata": {},
   "outputs": [
    {
     "name": "stdout",
     "output_type": "stream",
     "text": [
      "Simple interest calculation:\n",
      "Enter Principal amount in Rs: 2500\n",
      "Enter no of years: 2\n",
      "Enter rate of interest: 1.5\n",
      "Simple Interest=Rs 75.0\n"
     ]
    }
   ],
   "source": [
    "# Write a program to calculate simple interest # all input shoulb be given by the user\n",
    "\n",
    "# your Answer\n",
    "print(\"Simple interest calculation:\")\n",
    "p = int(input(\"Enter Principal amount in Rs: \"))\n",
    "n=int(input(\"Enter no of years: \"))\n",
    "r=float(input(\"Enter rate of interest: \"))\n",
    "si= (p*n*r)/100\n",
    "print(\"Simple Interest=Rs\",si)\n",
    "\n",
    "\n",
    "\n",
    "\n"
   ]
  },
  {
   "cell_type": "code",
   "execution_count": 1,
   "metadata": {},
   "outputs": [
    {
     "name": "stdout",
     "output_type": "stream",
     "text": [
      "enter radius\n",
      "5\n",
      "Area of circle= 78.5\n"
     ]
    }
   ],
   "source": [
    "# Write a program to calculate area of circle\n",
    "\n",
    "# your Answer\n",
    "\n",
    "print(\"enter radius\")\n",
    "r=float(input())\n",
    "area= 3.14*r*r\n",
    "print(\"Area of circle=\",area)\n",
    "\n",
    "\n",
    "\n"
   ]
  },
  {
   "cell_type": "code",
   "execution_count": 2,
   "metadata": {},
   "outputs": [
    {
     "name": "stdout",
     "output_type": "stream",
     "text": [
      "Enter radius\n",
      "5\n",
      "Circumference of circle= 31.400000000000002\n"
     ]
    }
   ],
   "source": [
    "# Write a program to calculate circumference of circle\n",
    "\n",
    "# your Answer\n",
    "\n",
    "print(\"Enter radius\")\n",
    "r=float(input())\n",
    "circf= 2*3.14*r\n",
    "print(\"Circumference of circle=\",circf)\n",
    "\n",
    "\n",
    "\n",
    "\n",
    "\n",
    "\n"
   ]
  },
  {
   "cell_type": "code",
   "execution_count": 3,
   "metadata": {},
   "outputs": [
    {
     "name": "stdout",
     "output_type": "stream",
     "text": [
      "enter side length in cms:\n",
      "4\n",
      "Perimeter of square= 16 cms\n"
     ]
    }
   ],
   "source": [
    "# Write a program to calculate perimeter of square\n",
    "\n",
    "# your Answer\n",
    "\n",
    "\n",
    "print(\"enter side length in cms:\")\n",
    "s=int(input())\n",
    "peri=4*s\n",
    "print(\"Perimeter of square=\",peri,\"cms\")\n",
    "\n",
    "\n"
   ]
  },
  {
   "cell_type": "code",
   "execution_count": 4,
   "metadata": {},
   "outputs": [
    {
     "name": "stdout",
     "output_type": "stream",
     "text": [
      "Enter side length in cms:\n",
      "4\n",
      "Area of square= 16 sq.cms\n"
     ]
    }
   ],
   "source": [
    "# Write a program to calculate area of square\n",
    "\n",
    "# your Answer\n",
    "print(\"Enter side length in cms:\")\n",
    "s=int(input())\n",
    "area= s*s\n",
    "print(\"Area of square=\",area,\"sq.cms\")\n",
    "\n",
    "\n",
    "\n"
   ]
  },
  {
   "cell_type": "code",
   "execution_count": 5,
   "metadata": {},
   "outputs": [
    {
     "name": "stdout",
     "output_type": "stream",
     "text": [
      "Enter base value\n",
      "4\n",
      "Enter height value\n",
      "5\n",
      "Area of triangle= 10.0\n"
     ]
    }
   ],
   "source": [
    "# Write a program to area of traingle\n",
    "\n",
    "# your Answer\n",
    "print(\"Enter base value\")\n",
    "b=float(input())\n",
    "print(\"Enter height value\")\n",
    "h=float(input())\n",
    "area=0.5*b*h\n",
    "print(\"Area of triangle=\",area)\n"
   ]
  },
  {
   "cell_type": "code",
   "execution_count": 13,
   "metadata": {},
   "outputs": [
    {
     "name": "stdout",
     "output_type": "stream",
     "text": [
      "Enter your name: 123\n",
      "123\n",
      "<class 'str'>\n"
     ]
    }
   ],
   "source": [
    "y = input(\"Enter your name: \")\n",
    "print(y)\n",
    "print(type(y))"
   ]
  }
 ],
 "metadata": {
  "kernelspec": {
   "display_name": "Python 3 (ipykernel)",
   "language": "python",
   "name": "python3"
  },
  "language_info": {
   "codemirror_mode": {
    "name": "ipython",
    "version": 3
   },
   "file_extension": ".py",
   "mimetype": "text/x-python",
   "name": "python",
   "nbconvert_exporter": "python",
   "pygments_lexer": "ipython3",
   "version": "3.9.13"
  }
 },
 "nbformat": 4,
 "nbformat_minor": 2
}
