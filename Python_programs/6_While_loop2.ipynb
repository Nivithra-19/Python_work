{
 "cells": [
  {
   "cell_type": "code",
   "execution_count": null,
   "id": "28feb3d7",
   "metadata": {},
   "outputs": [],
   "source": [
    "1. Write a Python program to get an integer within 5 from the user and\n",
    "            print the multiplication tables from that entered number until 5 using while loop.\n",
    "    Data:\n",
    "        Please Enter any Positive Integer less than 5 : \n",
    "    Expected output:\n",
    "        Please Enter any Positive Integer less than 5 : 2\n",
    "            Multiplication Table \n",
    "            1  *  2  =  2\n",
    "            2  *  2  =  4\n",
    "            3  *  2  =  6\n",
    "            4  *  2  =  8\n",
    "            5  *  2  =  10\n",
    "            6  *  2  =  12\n",
    "            7  *  2  =  14\n",
    "            8  *  2  =  16\n",
    "            9  *  2  =  18\n",
    "            10  *  2  =  20\n",
    "            ==============\n",
    "            1  *  3  =  3\n",
    "            2  *  3  =  6\n",
    "            3  *  3  =  9\n",
    "            4  *  3  =  12\n",
    "            5  *  3  =  15\n",
    "            6  *  3  =  18\n",
    "            7  *  3  =  21\n",
    "            8  *  3  =  24\n",
    "            9  *  3  =  27\n",
    "            10  *  3  =  30\n",
    "            ==============\n",
    "            1  *  4  =  4\n",
    "            2  *  4  =  8\n",
    "            3  *  4  =  12\n",
    "            4  *  4  =  16\n",
    "            5  *  4  =  20\n",
    "            6  *  4  =  24\n",
    "            7  *  4  =  28\n",
    "            8  *  4  =  32\n",
    "            9  *  4  =  36\n",
    "            10  *  4  =  40\n",
    "            ==============\n",
    "            1  *  5  =  5\n",
    "            2  *  5  =  10\n",
    "            3  *  5  =  15\n",
    "            4  *  5  =  20\n",
    "            5  *  5  =  25\n",
    "            6  *  5  =  30\n",
    "            7  *  5  =  35\n",
    "            8  *  5  =  40\n",
    "            9  *  5  =  45\n",
    "            10  *  5  =  50\n",
    "            ==============\n",
    "        "
   ]
  },
  {
   "cell_type": "code",
   "execution_count": 1,
   "id": "9019f23c",
   "metadata": {},
   "outputs": [
    {
     "name": "stdout",
     "output_type": "stream",
     "text": [
      "Please enter any positive integer less than 5:4\n",
      "1  *  4  =  4\n",
      "2  *  4  =  8\n",
      "3  *  4  =  12\n",
      "4  *  4  =  16\n",
      "5  *  4  =  20\n",
      "6  *  4  =  24\n",
      "7  *  4  =  28\n",
      "8  *  4  =  32\n",
      "9  *  4  =  36\n",
      "10  *  4  =  40\n",
      "=================\n",
      "1  *  5  =  5\n",
      "2  *  5  =  10\n",
      "3  *  5  =  15\n",
      "4  *  5  =  20\n",
      "5  *  5  =  25\n",
      "6  *  5  =  30\n",
      "7  *  5  =  35\n",
      "8  *  5  =  40\n",
      "9  *  5  =  45\n",
      "10  *  5  =  50\n",
      "=================\n"
     ]
    }
   ],
   "source": [
    "x=int(input(\"Please enter any positive integer less than 5:\"))\n",
    "\n",
    "while x<6:\n",
    "    i=1\n",
    "    while i<11:\n",
    "        print(i,\" * \",x,\" = \",x*i)\n",
    "        i=i+1\n",
    "    print(\"=================\")\n",
    "    x=x+1"
   ]
  },
  {
   "cell_type": "code",
   "execution_count": null,
   "id": "db12477c",
   "metadata": {},
   "outputs": [],
   "source": [
    "2. Write a python program to display the sum of a list of numbers using while loop.\n",
    "    Data:\n",
    "        x = [10,20,30,40,50]\n",
    "    Expected output:\n",
    "        10\n",
    "        20\n",
    "        30\n",
    "        40\n",
    "        50\n",
    "        Sum=  150\n",
    "        "
   ]
  },
  {
   "cell_type": "code",
   "execution_count": 2,
   "id": "8510b612",
   "metadata": {},
   "outputs": [
    {
     "name": "stdout",
     "output_type": "stream",
     "text": [
      "10\n",
      "20\n",
      "30\n",
      "40\n",
      "50\n",
      "Sum= 150\n"
     ]
    }
   ],
   "source": [
    "x = [10,20,30,40,50]\n",
    "s=0\n",
    "i=0\n",
    "while i<len(x):\n",
    "    print(x[i])\n",
    "    s+=x[i]\n",
    "    i+=1\n",
    "print(\"Sum=\",s)"
   ]
  },
  {
   "cell_type": "code",
   "execution_count": null,
   "id": "4c31df18",
   "metadata": {},
   "outputs": [],
   "source": [
    "3. Write a python program to display even numbers between minimun and maximum range.\n",
    "    Data:\n",
    "        minimum and maximum range = 21,30\n",
    "    Expected output:\n",
    "        22\n",
    "        24\n",
    "        26\n",
    "        28\n",
    "        30"
   ]
  },
  {
   "cell_type": "code",
   "execution_count": 4,
   "id": "ee7a43ac",
   "metadata": {},
   "outputs": [
    {
     "name": "stdout",
     "output_type": "stream",
     "text": [
      "Enter minimum range:21\n",
      "Enter maximum range:30\n",
      "22\n",
      "24\n",
      "26\n",
      "28\n",
      "30\n"
     ]
    }
   ],
   "source": [
    "mr=int(input(\"Enter minimum range:\"))\n",
    "mar=int(input(\"Enter maximum range:\"))\n",
    "\n",
    "while mr<=mar:\n",
    "    if mr%2==0:\n",
    "        print(mr)\n",
    "    mr+=1"
   ]
  },
  {
   "cell_type": "code",
   "execution_count": null,
   "id": "fe27e9b0",
   "metadata": {},
   "outputs": [],
   "source": [
    "4. Write a Python program that accepts a sequence of lines (blank line to terminate) as input and\n",
    "            print the lines as output all characters in upper case.\n",
    "     Data:\n",
    "        aidinasaur\n",
    "        python\n",
    "    Expected output:\n",
    "        AIDINASAUR\n",
    "        PYTHON"
   ]
  },
  {
   "cell_type": "code",
   "execution_count": 6,
   "id": "b0d1f25b",
   "metadata": {},
   "outputs": [
    {
     "name": "stdout",
     "output_type": "stream",
     "text": [
      "nivithra\n",
      "python\n",
      "\n",
      "NIVITHRA\n",
      "PYTHON\n"
     ]
    }
   ],
   "source": [
    "lines=[]\n",
    "while True:\n",
    "    l=input()\n",
    "    if l:\n",
    "        lines.append(l.upper())\n",
    "    else:\n",
    "        break\n",
    "        \n",
    "for lin in lines:\n",
    "    print(lin)"
   ]
  },
  {
   "cell_type": "code",
   "execution_count": null,
   "id": "ca6cb054",
   "metadata": {},
   "outputs": [],
   "source": [
    "5. Write a program that generates a random number (0-10). Ask the user to guess it and give 3 chances.\n",
    "    Data:\n",
    "        4, 5, 6\n",
    "    Expected output:\n",
    "        Enter your guess:4\n",
    "        Enter your guess:5\n",
    "        Enter your guess:6\n",
    "        You lose"
   ]
  },
  {
   "cell_type": "code",
   "execution_count": 5,
   "id": "5e49f442",
   "metadata": {},
   "outputs": [
    {
     "name": "stdout",
     "output_type": "stream",
     "text": [
      "Enter your guess:7\n",
      "Enter your guess:4\n",
      "Enter your guess:6\n",
      "You lose\n"
     ]
    }
   ],
   "source": [
    "from random import randint\n",
    "rand_num= randint(0,10)\n",
    "guesses=3\n",
    "while guesses>0:\n",
    "    guess=int(input(\"Enter your guess:\"))\n",
    "    if guess==rand_num:\n",
    "        print(\"You win\")\n",
    "        break\n",
    "    guesses-=1\n",
    "else:\n",
    "    print(\"You lose\")\n",
    "    "
   ]
  },
  {
   "cell_type": "code",
   "execution_count": null,
   "id": "bb849e0b",
   "metadata": {},
   "outputs": [],
   "source": [
    "6. Write a Python program to check the validity of password entered by a user.\n",
    "    Data:\n",
    "        Input your password: salem23\n",
    "    Expected output:\n",
    "        Not a Valid Password"
   ]
  },
  {
   "cell_type": "code",
   "execution_count": 6,
   "id": "b67cc9cb",
   "metadata": {},
   "outputs": [
    {
     "name": "stdout",
     "output_type": "stream",
     "text": [
      "Enter your password:nivi22\n",
      "Invalid Password\n"
     ]
    }
   ],
   "source": [
    "import re\n",
    "x=True\n",
    "p=input(\"Enter your password:\")\n",
    "while x:\n",
    "    pat=\"[A-Za-z0-9@#$&*_]{8,}\"\n",
    "    n=re.match(pat,p)\n",
    "    if n:\n",
    "        print(\"Valid Password\")\n",
    "        x=False\n",
    "        break\n",
    "    else:\n",
    "        print(\"Invalid Password\")\n",
    "        break"
   ]
  },
  {
   "cell_type": "code",
   "execution_count": null,
   "id": "6812db44",
   "metadata": {},
   "outputs": [],
   "source": [
    "7. Write a Python program to check whether the entered alphabet is a vowel or a consonant.\n",
    "    Data:\n",
    "        Input a letter of the alphabet: a\n",
    "        Input a letter of the alphabet: G\n",
    "    Expected Output: \n",
    "        a is a vowel.\n",
    "        G is a consonant.\n",
    "        "
   ]
  },
  {
   "cell_type": "code",
   "execution_count": 1,
   "id": "715bb071",
   "metadata": {},
   "outputs": [
    {
     "name": "stdout",
     "output_type": "stream",
     "text": [
      "Enter a letter of the Alphabet:h\n",
      "h is a consonant\n"
     ]
    }
   ],
   "source": [
    "al=str(input(\"Enter a letter of the Alphabet:\"))\n",
    "while al:\n",
    "    if al in ('A','a','E','e','I','i','O','o','U','u'):\n",
    "        print(al,\"is a vowel\")\n",
    "    else:\n",
    "        print(al,\"is a consonant\")\n",
    "    break"
   ]
  },
  {
   "cell_type": "code",
   "execution_count": null,
   "id": "81b44c97",
   "metadata": {},
   "outputs": [],
   "source": [
    "8. Write a Python program to calculate the sum and average of n integer numbers (input from the user). Input 0 to finish. \n",
    "    Data:\n",
    "        12,13,15,0\n",
    "    Expected output:\n",
    "        Average and Sum of the above numbers are:  13.333333333333334 40.0"
   ]
  },
  {
   "cell_type": "code",
   "execution_count": 1,
   "id": "a9ee8e4e",
   "metadata": {},
   "outputs": [
    {
     "name": "stdout",
     "output_type": "stream",
     "text": [
      "Enter some numbers to calculate their sum and average. Enter 0 to finish.\n",
      "12\n",
      "13\n",
      "15\n",
      "0\n",
      "Average and Sum of the above numbers are: 13.333333333333334 & 40.0\n"
     ]
    }
   ],
   "source": [
    "print(\"Enter some numbers to calculate their sum and average. Enter 0 to finish.\")\n",
    "c=0\n",
    "n=1\n",
    "s=0.0\n",
    "while n!=0:\n",
    "    n=int(input())\n",
    "    s=s+n\n",
    "    c=c+1\n",
    "print(\"Average and Sum of the above numbers are:\",(s/(c-1)),\"&\",s)\n"
   ]
  },
  {
   "cell_type": "code",
   "execution_count": null,
   "id": "63c3af2f",
   "metadata": {},
   "outputs": [],
   "source": [
    "9. Write a python program to display fibonacci series up to 10 terms.\n",
    "    Data:\n",
    "        terms = 7\n",
    "    Expected output:\n",
    "        Fibonacci sequence:\n",
    "        0 1 1 2 3 5 8 "
   ]
  },
  {
   "cell_type": "code",
   "execution_count": 2,
   "id": "d9532beb",
   "metadata": {},
   "outputs": [
    {
     "name": "stdout",
     "output_type": "stream",
     "text": [
      "Enter no of terms:7\n",
      "Fibonacci sequence:\n",
      "0 1 1 2 3 5 8 "
     ]
    }
   ],
   "source": [
    "n=int(input(\"Enter no of terms:\"))\n",
    "n1,n2=0,1\n",
    "c=0\n",
    "print(\"Fibonacci sequence:\")\n",
    "while c<n:\n",
    "    print(n1,end=\" \")\n",
    "    n1,n2 = n2,n1+n2\n",
    "    c+=1"
   ]
  },
  {
   "cell_type": "code",
   "execution_count": null,
   "id": "a67f0fa9",
   "metadata": {},
   "outputs": [],
   "source": [
    "10. Write a python program to print the reverse of a given integer number.\n",
    "    Data:\n",
    "        x = 987654\n",
    "    Expected output:\n",
    "        Given Number:  987654\n",
    "        Reversed Number:  456789\n",
    "            "
   ]
  },
  {
   "cell_type": "code",
   "execution_count": 10,
   "id": "8dd4ddfb",
   "metadata": {},
   "outputs": [
    {
     "name": "stdout",
     "output_type": "stream",
     "text": [
      "Original Number: 987654\n",
      "Revesed number: 456789\n"
     ]
    }
   ],
   "source": [
    "x = 987654\n",
    "print(\"Original Number:\",x)\n",
    "rev=0\n",
    "while x>0:\n",
    "    rem=x%10\n",
    "    rev=rev*10+rem\n",
    "    x=x//10\n",
    "    \n",
    "print(\"Revesed number:\",rev)"
   ]
  },
  {
   "cell_type": "code",
   "execution_count": null,
   "id": "ed8d03f3",
   "metadata": {},
   "outputs": [],
   "source": [
    "11. Write a python function(digit_sum) that takes a positive integer n as input and returns the sum of all that number's digits.\n",
    "    Data:\n",
    "        Digit_sum(892)\n",
    "    Expected output:\n",
    "        19\n",
    "        "
   ]
  },
  {
   "cell_type": "code",
   "execution_count": 11,
   "id": "933bab5f",
   "metadata": {},
   "outputs": [
    {
     "name": "stdout",
     "output_type": "stream",
     "text": [
      "Enter a positve integer:892\n",
      "sum of digits: 19\n"
     ]
    }
   ],
   "source": [
    "def digitsum(n):\n",
    "    s=0\n",
    "    while n>0:\n",
    "        rem=n%10\n",
    "        s+=rem\n",
    "        n//=10\n",
    "    return s\n",
    "\n",
    "n=int(input(\"Enter a positve integer:\"))\n",
    "print(\"sum of digits:\",digitsum(n))"
   ]
  },
  {
   "cell_type": "code",
   "execution_count": null,
   "id": "0c9ab077",
   "metadata": {},
   "outputs": [],
   "source": [
    "12. Write a program that generates 100 random numbers (in the range of 1-1000) and keeps a count of how many of those random \n",
    "    numbers are even and how many are odd.\n",
    "    Data:\n",
    "        1-1000\n",
    "    Expected output:\n",
    "        Out of 100 Random Numbers, 50 were even and 50 were odd"
   ]
  },
  {
   "cell_type": "code",
   "execution_count": 4,
   "id": "42735738",
   "metadata": {},
   "outputs": [
    {
     "name": "stdout",
     "output_type": "stream",
     "text": [
      "Out of 100 Random Numbers, 56 were even and 44 were odd\n"
     ]
    }
   ],
   "source": [
    "import random\n",
    "\n",
    "n = 0\n",
    "even = 0\n",
    "odd = 0\n",
    "\n",
    "while n < 100:\n",
    "    nums=random.randint(1,1000)\n",
    "    n = n + 1\n",
    "    if nums%2==0:\n",
    "        even = even + 1\n",
    "    else:\n",
    "        odd = odd + 1\n",
    "print(\"Out of 100 Random Numbers,\",even,\"were even and\",odd,\"were odd\")"
   ]
  },
  {
   "cell_type": "code",
   "execution_count": null,
   "id": "a09461a8",
   "metadata": {},
   "outputs": [],
   "source": [
    "13. Write a program that generates 100 random numbers (in the range of 1-1000) and \n",
    "            keeps a count of how many of those random numbers are even and how many are odd.\n",
    "    Data:\n",
    "        3 times\n",
    "    Expected output:\n",
    "        Out of 100 Random Numbers, 46 were even and 54 were Odd\n",
    "        Out of 100 Random Numbers, 46 were even and 54 were Odd\n",
    "        Out of 100 Random Numbers, 46 were even and 54 were Odd"
   ]
  },
  {
   "cell_type": "code",
   "execution_count": 14,
   "id": "24b3044f",
   "metadata": {},
   "outputs": [
    {
     "name": "stdout",
     "output_type": "stream",
     "text": [
      "Enter no of times:3\n",
      "Out of 100 Random Numbers, 49 were even and 51 were odd\n",
      "Out of 100 Random Numbers, 49 were even and 51 were odd\n",
      "Out of 100 Random Numbers, 49 were even and 51 were odd\n"
     ]
    }
   ],
   "source": [
    "import random\n",
    "times=int(input(\"Enter no of times:\"))\n",
    "n = 0\n",
    "even = 0\n",
    "odd = 0\n",
    "while times>0:\n",
    "    while n < 100:\n",
    "        random.randint(1,1000)\n",
    "        n = n + 1\n",
    "        if random.randint(1,1000)%2==0:\n",
    "            even = even + 1\n",
    "        else:\n",
    "            odd = odd + 1\n",
    "    times=times-1\n",
    "    print(\"Out of 100 Random Numbers,\",even,\"were even and\",odd,\"were odd\")"
   ]
  },
  {
   "cell_type": "code",
   "execution_count": null,
   "id": "78050c49",
   "metadata": {},
   "outputs": [],
   "source": [
    "14. Write a python program to find the factorial of any number entered by the user.\n",
    "    Data:\n",
    "        3\n",
    "    Expected output:\n",
    "        6"
   ]
  },
  {
   "cell_type": "code",
   "execution_count": 15,
   "id": "ebbbc3a2",
   "metadata": {},
   "outputs": [
    {
     "name": "stdout",
     "output_type": "stream",
     "text": [
      "enter a number:3\n",
      "Factorial of 3 : 6\n"
     ]
    }
   ],
   "source": [
    "n=int(input(\"enter a number:\"))\n",
    "fact=1\n",
    "i=1\n",
    "if n==1:\n",
    "    print(1)\n",
    "    \n",
    "while i<=n:\n",
    "    fact=fact*i\n",
    "    i+=1\n",
    "    \n",
    "print(\"Factorial of\",n,\":\",fact)"
   ]
  },
  {
   "cell_type": "code",
   "execution_count": null,
   "id": "fbd0a251",
   "metadata": {},
   "outputs": [],
   "source": [
    "15. Write a program to find (GCD) or (HCF) of two given number.\n",
    "    Data:\n",
    "        10\n",
    "        20\n",
    "    Expected output:     \n",
    "        Enter the first number:10\n",
    "        Enter the second number:20\n",
    "        10\n",
    "        "
   ]
  },
  {
   "cell_type": "code",
   "execution_count": 16,
   "id": "c5e23e62",
   "metadata": {},
   "outputs": [
    {
     "name": "stdout",
     "output_type": "stream",
     "text": [
      "Enter first number:12\n",
      "Enter second number:36\n",
      "GCD or HCF of 12 and 36 : 12\n"
     ]
    }
   ],
   "source": [
    "n1=int(input(\"Enter first number:\"))\n",
    "n2=int(input(\"Enter second number:\"))\n",
    "i=1\n",
    "while i<=n1 and i<=n2:\n",
    "    if n1%i==0 and n2%i==0:\n",
    "        gcd=i\n",
    "    i=i+1\n",
    "print(\"GCD or HCF of\",n1,\"and\",n2,\":\",gcd)"
   ]
  },
  {
   "cell_type": "code",
   "execution_count": null,
   "id": "91b176e6",
   "metadata": {},
   "outputs": [],
   "source": [
    "16. Write a python program to calcute the sum of digits of a number given by user.\n",
    "    Data:\n",
    "        Enter a number:1234\n",
    "    Expected output:\n",
    "        10"
   ]
  },
  {
   "cell_type": "code",
   "execution_count": 17,
   "id": "306577a3",
   "metadata": {},
   "outputs": [
    {
     "name": "stdout",
     "output_type": "stream",
     "text": [
      "Enter a number:1234\n",
      "sum of digits: 10\n"
     ]
    }
   ],
   "source": [
    "n=int(input(\"Enter a number:\"))\n",
    "s=0\n",
    "while n>0:\n",
    "    rem=n%10\n",
    "    s+=rem\n",
    "    n//=10\n",
    "print(\"sum of digits:\",s)"
   ]
  },
  {
   "cell_type": "code",
   "execution_count": null,
   "id": "76f399d5",
   "metadata": {},
   "outputs": [],
   "source": [
    "17. Write a python program to find prime factor of a number entered by a user.\n",
    "    Data:\n",
    "        10\n",
    "    Expected output:\n",
    "        2\n",
    "        5"
   ]
  },
  {
   "cell_type": "code",
   "execution_count": 19,
   "id": "81b5fd4c",
   "metadata": {},
   "outputs": [
    {
     "name": "stdout",
     "output_type": "stream",
     "text": [
      "Enter a number:35\n",
      "5\n",
      "7\n",
      "35\n"
     ]
    }
   ],
   "source": [
    "n=int(input(\"Enter a number:\"))\n",
    "x=2\n",
    "while x<=n:\n",
    "    y=2\n",
    "    c=0\n",
    "    if x%y==0:\n",
    "        c=c+1\n",
    "    y+=1\n",
    "    if c<=1 and n%x==0:\n",
    "        print(x)\n",
    "    x=x+1"
   ]
  },
  {
   "cell_type": "code",
   "execution_count": null,
   "id": "dcae784b",
   "metadata": {},
   "outputs": [],
   "source": [
    "18. Write a python program to print the total number of digits present in a number entered by the user.\n",
    "    Data:\n",
    "        x = 257845\n",
    "    Expected output:\n",
    "        Total digits are:  6\n",
    "            "
   ]
  },
  {
   "cell_type": "code",
   "execution_count": 20,
   "id": "1e72a87f",
   "metadata": {},
   "outputs": [
    {
     "name": "stdout",
     "output_type": "stream",
     "text": [
      "Enter a number:524371\n",
      "Total digits are: 6\n"
     ]
    }
   ],
   "source": [
    "x=int(input(\"Enter a number:\"))\n",
    "count=0\n",
    "while x>0:\n",
    "    count+=1\n",
    "    x//=10\n",
    "    \n",
    "print(\"Total digits are:\",count)"
   ]
  },
  {
   "cell_type": "code",
   "execution_count": null,
   "id": "0701d9dd",
   "metadata": {},
   "outputs": [],
   "source": [
    "''' 19. create a temporary list inside outer for/while loop which you can fill inside inner for/while loop.\n",
    "    Data:\n",
    "        count=0\n",
    "    Expected output:\n",
    "        [[0, 0, 0, 0, 0, 0, 0, 0, 0, 0], \n",
    "         [0, 0, 0, 0, 0, 0, 0, 0, 0, 0], \n",
    "         [0, 0, 0, 0, 0, 0, 0, 0, 0, 0], \n",
    "         [0, 0, 0, 0, 0, 0, 0, 0, 0, 0], \n",
    "         [0, 0, 0, 0, 0, 0, 0, 0, 0, 0]] '''"
   ]
  },
  {
   "cell_type": "code",
   "execution_count": 21,
   "id": "4f7511ab",
   "metadata": {},
   "outputs": [
    {
     "name": "stdout",
     "output_type": "stream",
     "text": [
      "[[0, 0, 0, 0, 0, 0, 0, 0, 0, 0], [0, 0, 0, 0, 0, 0, 0, 0, 0, 0], [0, 0, 0, 0, 0, 0, 0, 0, 0, 0], [0, 0, 0, 0, 0, 0, 0, 0, 0, 0], [0, 0, 0, 0, 0, 0, 0, 0, 0, 0]]\n"
     ]
    }
   ],
   "source": [
    "count=0\n",
    "array3=[]\n",
    "while count < 5:\n",
    "    temp=[]\n",
    "    count_inner=0\n",
    "    count+=1\n",
    "    while count_inner< 10:\n",
    "            temp.append(0)\n",
    "            count_inner+=1\n",
    "    array3.append(temp)\n",
    "print(array3)"
   ]
  },
  {
   "cell_type": "code",
   "execution_count": null,
   "id": "6769bbfa",
   "metadata": {},
   "outputs": [],
   "source": [
    "20. Write a Python program to create a histogram from a given list of integers.\n",
    "    Data:\n",
    "        [2, 3, 12, 5]\n",
    "    Expected output:\n",
    "        **\n",
    "        ***\n",
    "        ************\n",
    "        *****"
   ]
  },
  {
   "cell_type": "code",
   "execution_count": 22,
   "id": "cdb43deb",
   "metadata": {},
   "outputs": [
    {
     "name": "stdout",
     "output_type": "stream",
     "text": [
      "**\n",
      "***\n",
      "************\n",
      "*****\n"
     ]
    }
   ],
   "source": [
    "def histogram(x):\n",
    "    for i in x:\n",
    "        op = ''\n",
    "        n = i\n",
    "        while( n > 0 ):\n",
    "            op += '*'\n",
    "            n-= 1\n",
    "        print(op)\n",
    "\n",
    "histogram([2, 3, 12, 5])"
   ]
  },
  {
   "cell_type": "code",
   "execution_count": null,
   "id": "876f2a6d",
   "metadata": {},
   "outputs": [],
   "source": []
  }
 ],
 "metadata": {
  "kernelspec": {
   "display_name": "Python 3 (ipykernel)",
   "language": "python",
   "name": "python3"
  },
  "language_info": {
   "codemirror_mode": {
    "name": "ipython",
    "version": 3
   },
   "file_extension": ".py",
   "mimetype": "text/x-python",
   "name": "python",
   "nbconvert_exporter": "python",
   "pygments_lexer": "ipython3",
   "version": "3.9.13"
  }
 },
 "nbformat": 4,
 "nbformat_minor": 5
}
