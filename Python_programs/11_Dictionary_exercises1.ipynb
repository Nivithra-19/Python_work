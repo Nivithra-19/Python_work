{
 "cells": [
  {
   "cell_type": "code",
   "execution_count": null,
   "metadata": {},
   "outputs": [],
   "source": [
    "1. Write a Python program to add a new key to the dictionary.\n",
    "    Data:\n",
    "        x = {0: 10, 1: 20}\n",
    "        y = {2: 30}\n",
    "    Expected Output:\n",
    "        {0: 10, 1: 20, 2: 30} \n",
    "        \n",
    "        \n",
    "        \n",
    "        "
   ]
  },
  {
   "cell_type": "code",
   "execution_count": 1,
   "metadata": {},
   "outputs": [
    {
     "name": "stdout",
     "output_type": "stream",
     "text": [
      "The Dictionaries:\n",
      " {0: 10, 1: 20} \n",
      " {2: 30}\n",
      "After adding new key: {0: 10, 1: 20, 2: 30}\n"
     ]
    }
   ],
   "source": [
    "x = {0: 10, 1: 20}\n",
    "y = {2: 30}\n",
    "print(\"The Dictionaries:\\n\",x,\"\\n\",y)\n",
    "x.update(y)\n",
    "print(\"After adding new key:\",x)"
   ]
  },
  {
   "cell_type": "code",
   "execution_count": null,
   "metadata": {},
   "outputs": [],
   "source": [
    "2. Write a Python program to iterate over dictionaries using for loops.\n",
    "    Data:\n",
    "        d = {\"a\":10, \"b\":20, \"c\":30,}\n",
    "    Expected Output:\n",
    "        a -> 10\n",
    "        b -> 20\n",
    "        c -> 30\n",
    "        \n",
    "        \n",
    "        \n",
    "        "
   ]
  },
  {
   "cell_type": "code",
   "execution_count": 11,
   "metadata": {},
   "outputs": [
    {
     "name": "stdout",
     "output_type": "stream",
     "text": [
      "a -> 10\n",
      "b -> 20\n",
      "c -> 30\n"
     ]
    }
   ],
   "source": [
    "d = {\"a\":10, \"b\":20, \"c\":30,}\n",
    "for i in d:\n",
    "    print(i,\"->\",d[i])\n"
   ]
  },
  {
   "cell_type": "code",
   "execution_count": null,
   "metadata": {},
   "outputs": [],
   "source": [
    "3. Write a Python program to sum all the values in a dictionary. \n",
    "    Data:\n",
    "        d = {\"data1\":100, \"data2\":-50, \"data3\":200}\n",
    "    Expected Output:\n",
    "        250\n",
    "        \n",
    "        \n",
    "        \n",
    "        "
   ]
  },
  {
   "cell_type": "code",
   "execution_count": 3,
   "metadata": {},
   "outputs": [
    {
     "name": "stdout",
     "output_type": "stream",
     "text": [
      "The dictionary: {'data1': 100, 'data2': -50, 'data3': 200}\n",
      "250\n"
     ]
    }
   ],
   "source": [
    "d = {\"data1\":100, \"data2\":-50, \"data3\":200}\n",
    "print(\"The dictionary:\",d)\n",
    "s=0\n",
    "for i in d:\n",
    "    s+=d[i]\n",
    "    \n",
    "print(s)"
   ]
  },
  {
   "cell_type": "code",
   "execution_count": null,
   "metadata": {},
   "outputs": [],
   "source": [
    "4. Write a Python program to multiply all the values in a dictionary.\n",
    "    Data:\n",
    "        d={\"data1\":100, \"data2\":-50, \"data3\":200}\n",
    "    Expected Output:\n",
    "        -1000000\n",
    "        \n",
    "        \n",
    "        \n",
    "        "
   ]
  },
  {
   "cell_type": "code",
   "execution_count": 4,
   "metadata": {},
   "outputs": [
    {
     "name": "stdout",
     "output_type": "stream",
     "text": [
      "The dictionary: {'data1': 100, 'data2': -50, 'data3': 200}\n",
      "-1000000\n"
     ]
    }
   ],
   "source": [
    "d = {\"data1\":100, \"data2\":-50, \"data3\":200}\n",
    "print(\"The dictionary:\",d)\n",
    "m=1\n",
    "for i in d:\n",
    "    m*=d[i]\n",
    "    \n",
    "print(m)"
   ]
  },
  {
   "cell_type": "code",
   "execution_count": null,
   "metadata": {},
   "outputs": [],
   "source": [
    "5. Write a Python program to remove a key from a dictionary.\n",
    "    Data:\n",
    "        d={\"a\":1,\"b\":2,\"c\":3,\"d\":4}\n",
    "    Expected Output:\n",
    "        {'a': 1, 'b': 2, 'c': 3, 'd': 4}\n",
    "        {'b': 2, 'c': 3, 'd': 4}\n",
    "        \n",
    "        \n",
    "        \n",
    "        "
   ]
  },
  {
   "cell_type": "code",
   "execution_count": 6,
   "metadata": {},
   "outputs": [
    {
     "name": "stdout",
     "output_type": "stream",
     "text": [
      "The dictionary: {'a': 1, 'b': 2, 'c': 3, 'd': 4}\n",
      "After removing item: {'b': 2, 'c': 3, 'd': 4}\n"
     ]
    }
   ],
   "source": [
    "d={\"a\":1,\"b\":2,\"c\":3,\"d\":4}\n",
    "print(\"The dictionary:\",d)\n",
    "d.pop('a')\n",
    "print(\"After removing item:\",d)"
   ]
  },
  {
   "cell_type": "code",
   "execution_count": null,
   "metadata": {},
   "outputs": [],
   "source": [
    "6. Write a Python program to map two lists into a dictionary.\n",
    "    Data:\n",
    "        keys = [\"Chandler\", \"Monica\", \"Joey\"]\n",
    "        values = [\"Sarcasm\", \"Chef\", \"Food\"]\n",
    "    Expected Output:\n",
    "        {'Chandler': 'Sarcasm', 'Monica': 'Chef', 'Joey': 'Food'}\n",
    "        \n",
    "        \n",
    "        \n"
   ]
  },
  {
   "cell_type": "code",
   "execution_count": 6,
   "metadata": {},
   "outputs": [
    {
     "name": "stdout",
     "output_type": "stream",
     "text": [
      "The lists:\n",
      " ['Chandler', 'Monica', 'Joey'] \n",
      " ['Sarcasm', 'Chef', 'Food']\n",
      "The dictionary: {'Chandler': 'Sarcasm', 'Monica': 'Chef', 'Joey': 'Food'}\n"
     ]
    }
   ],
   "source": [
    "keys = [\"Chandler\", \"Monica\", \"Joey\"]\n",
    "values = [\"Sarcasm\", \"Chef\", \"Food\"]\n",
    "print(\"The lists:\\n\",keys,\"\\n\",values)\n",
    "d = dict(zip(keys,values))\n",
    "print(\"The dictionary:\",d)"
   ]
  },
  {
   "cell_type": "code",
   "execution_count": null,
   "metadata": {},
   "outputs": [],
   "source": [
    "7. Write a Python program to sort a dictionary by key. \n",
    "    Data:\n",
    "        dict = {'Chandler': 'Sarcasm', 'Monica': 'Chef', 'Joey': 'Food', 'Ross': 'Dinosaur', 'Rachel': 'Fashion'}\n",
    "\n",
    "    Expected Output:\n",
    "        Chandler: Sarcasm\n",
    "        Joey: Food\n",
    "        Monica: Chef\n",
    "        Rachel: Fashion\n",
    "        Ross: Dinosaur\n",
    "            \n",
    "            \n",
    "            \n"
   ]
  },
  {
   "cell_type": "code",
   "execution_count": 7,
   "metadata": {},
   "outputs": [
    {
     "name": "stdout",
     "output_type": "stream",
     "text": [
      "Chandler : Sarcasm\n",
      "Joey : Food\n",
      "Monica : Chef\n",
      "Rachel : Fashion\n",
      "Ross : Dinosaur\n"
     ]
    }
   ],
   "source": [
    "d = {'Chandler': 'Sarcasm', 'Monica': 'Chef', 'Joey': 'Food', 'Ross': 'Dinosaur', 'Rachel': 'Fashion'}\n",
    "for key in sorted(d):\n",
    "    print(key,\":\",d[key])\n"
   ]
  },
  {
   "cell_type": "code",
   "execution_count": null,
   "metadata": {},
   "outputs": [],
   "source": [
    "8. Write a Python program to check whether a dictionary is empty or not.\n",
    "    Data:\n",
    "        dict={}\n",
    "    Expected Output:\n",
    "        Dictionary is empty\n",
    "        \n",
    "        "
   ]
  },
  {
   "cell_type": "code",
   "execution_count": 8,
   "metadata": {},
   "outputs": [
    {
     "name": "stdout",
     "output_type": "stream",
     "text": [
      "Empty Dictionary\n"
     ]
    }
   ],
   "source": [
    "dict={}\n",
    "if not(dict):\n",
    "    print(\"Empty Dictionary\")\n",
    "else:\n",
    "    print(dict)"
   ]
  },
  {
   "cell_type": "code",
   "execution_count": null,
   "metadata": {},
   "outputs": [],
   "source": [
    "9. Write a Python program to print the keys by index in a dictionary.\n",
    "    Data:\n",
    "        d = {'physics': 90, 'math': 100, 'chemistry': 96}\n",
    "    Expected Output:\n",
    "        physics\n",
    "        math\n",
    "        chemistry\n",
    "        \n",
    "        \n",
    "        \n",
    "        "
   ]
  },
  {
   "cell_type": "code",
   "execution_count": 8,
   "metadata": {},
   "outputs": [
    {
     "name": "stdout",
     "output_type": "stream",
     "text": [
      "physics\n",
      "math\n",
      "chemistry\n"
     ]
    }
   ],
   "source": [
    "d = {'physics': 90, 'math': 100, 'chemistry': 96}\n",
    "print(list(d)[0])\n",
    "print(list(d)[1])\n",
    "print(list(d)[2])"
   ]
  },
  {
   "cell_type": "code",
   "execution_count": null,
   "metadata": {},
   "outputs": [],
   "source": [
    "10. Write a Python program to concatenate following dictionaries to create a new one.\n",
    "    Data:\n",
    "        d1={1:10, 2:20} \n",
    "        d2={3:30, 4:40} \n",
    "        d3={5:50, 6:60}\n",
    "    Expected Output:\n",
    "        {1: 10, 2: 20, 3: 30, 4: 40, 5: 50, 6: 60}\n",
    "        \n",
    "        \n",
    "        \n"
   ]
  },
  {
   "cell_type": "code",
   "execution_count": 10,
   "metadata": {},
   "outputs": [
    {
     "name": "stdout",
     "output_type": "stream",
     "text": [
      "The dictionaries:\n",
      " {1: 10, 2: 20} \n",
      " {3: 30, 4: 40} \n",
      " {5: 50, 6: 60}\n",
      "After concatenating: {1: 10, 2: 20, 3: 30, 4: 40, 5: 50, 6: 60}\n"
     ]
    }
   ],
   "source": [
    "d1={1:10, 2:20} \n",
    "d2={3:30, 4:40} \n",
    "d3={5:50, 6:60}\n",
    "print(\"The dictionaries:\\n\",d1,\"\\n\",d2,\"\\n\",d3)\n",
    "d1.update(d2)\n",
    "d1.update(d3)\n",
    "print(\"After concatenating:\",d1)"
   ]
  },
  {
   "cell_type": "code",
   "execution_count": null,
   "metadata": {},
   "outputs": [],
   "source": [
    "11. Write a Python program to generate a dictionary that has length n and the elements in the format of {x: x*x}. \n",
    "    Data:\n",
    "         n = 6\n",
    "    Expected Output:\n",
    "        {1: 1, 2: 4, 3: 9, 4: 16, 5: 25, 6: 36}\n",
    "        \n",
    "        \n",
    "        \n",
    "        "
   ]
  },
  {
   "cell_type": "code",
   "execution_count": 11,
   "metadata": {},
   "outputs": [
    {
     "name": "stdout",
     "output_type": "stream",
     "text": [
      "Enter number of elements:6\n",
      "{1: 1, 2: 4, 3: 9, 4: 16, 5: 25, 6: 36}\n"
     ]
    }
   ],
   "source": [
    "n=int(input(\"Enter number of elements:\"))\n",
    "d={}\n",
    "for i in range(1,n+1):\n",
    "    d[i]=i*i\n",
    "print(d)"
   ]
  },
  {
   "cell_type": "code",
   "execution_count": null,
   "metadata": {},
   "outputs": [],
   "source": [
    "12. Write a Python program to print a dictionary where the keys are numbers between 1 and 15 (both included) and \n",
    "    the values are square of keys.\n",
    "    Expected Output:\n",
    "        {1: 1, 2: 4, 3: 9, 4: 16, 5: 25, 6: 36, 7: 49, 8: 64, 9: 81, 10: 100, 11: 121, 12: 144, 13: 169, 14: 196, 15: 225}\n",
    "\n",
    "        \n",
    "        \n",
    "        "
   ]
  },
  {
   "cell_type": "code",
   "execution_count": 12,
   "metadata": {},
   "outputs": [
    {
     "name": "stdout",
     "output_type": "stream",
     "text": [
      "{1: 1, 2: 4, 3: 9, 4: 16, 5: 25, 6: 36, 7: 49, 8: 64, 9: 81, 10: 100, 11: 121, 12: 144, 13: 169, 14: 196, 15: 225}\n"
     ]
    }
   ],
   "source": [
    "d = {}\n",
    "for i in range(1,16):\n",
    "    d[i]=i**2\n",
    "print(d)"
   ]
  },
  {
   "cell_type": "code",
   "execution_count": null,
   "metadata": {},
   "outputs": [],
   "source": [
    "13. Write a Python program to merge two dictionaries. \n",
    "    Data:\n",
    "        d1 = {\"a\":10, \"b\":20}\n",
    "        d2 = {\"x\":30, \"y\":40}\n",
    "    Expected Output:\n",
    "        {'a': 10, 'b': 20, 'x': 30, 'y': 40}\n",
    "        \n",
    "        \n",
    "        \n",
    "        "
   ]
  },
  {
   "cell_type": "code",
   "execution_count": 14,
   "metadata": {},
   "outputs": [
    {
     "name": "stdout",
     "output_type": "stream",
     "text": [
      "The dictionaries:\n",
      " {'a': 10, 'b': 20} \n",
      " {'x': 30, 'y': 40}\n",
      "After merging: {'a': 10, 'b': 20, 'x': 30, 'y': 40}\n"
     ]
    }
   ],
   "source": [
    "d1 = {\"a\":10, \"b\":20} \n",
    "d2 = {\"x\":30, \"y\":40}\n",
    "print(\"The dictionaries:\\n\",d1,\"\\n\",d2)\n",
    "d=d1\n",
    "d.update(d2)\n",
    "print(\"After merging:\",d)"
   ]
  },
  {
   "cell_type": "code",
   "execution_count": null,
   "metadata": {},
   "outputs": [],
   "source": [
    "14. Write a Python program to iterate over a dictionary and print all the keys and values using for loops.\n",
    "    Data:\n",
    "        d = {\"Bihar\":'Patna', \"Sikkim\":'Gangtok', \"Goa\":'Panaji'}\n",
    "    Expected Output:\n",
    "        Bihar   Patna\n",
    "        Sikkim  Gangtok\n",
    "        Goa     Panaji\n",
    "\n",
    "        \n",
    "        \n",
    "        "
   ]
  },
  {
   "cell_type": "code",
   "execution_count": 15,
   "metadata": {},
   "outputs": [
    {
     "name": "stdout",
     "output_type": "stream",
     "text": [
      "Bihar \t Patna\n",
      "Sikkim \t Gangtok\n",
      "Goa \t Panaji\n"
     ]
    }
   ],
   "source": [
    "d = {\"Bihar\":'Patna', \"Sikkim\":'Gangtok', \"Goa\":'Panaji'}\n",
    "for i,j in d.items():\n",
    "    print(i,\"\\t\",j)"
   ]
  },
  {
   "cell_type": "code",
   "execution_count": null,
   "metadata": {},
   "outputs": [],
   "source": [
    "15. Write a Python program to add the values of common keys by combining two dictionaries.\n",
    "    Data:\n",
    "        d1 = {'a': 10, 'b': 20, 'c':30}\n",
    "        d2 = {'a': 30, 'b': 20, 'd':40}\n",
    "    Expected Output:    \n",
    "        Counter({'a': 40, 'b': 40, 'd': 40, 'c': 30})\n",
    "        \n",
    "        \n",
    "        \n",
    "    "
   ]
  },
  {
   "cell_type": "code",
   "execution_count": 16,
   "metadata": {},
   "outputs": [
    {
     "name": "stdout",
     "output_type": "stream",
     "text": [
      "Counter({'a': 40, 'b': 40, 'd': 40, 'c': 30})\n"
     ]
    }
   ],
   "source": [
    "from collections import Counter\n",
    "d1 = {'a': 10, 'b': 20, 'c':30}\n",
    "d2 = {'a': 30, 'b': 20, 'd':40}\n",
    "d = Counter(d1) + Counter(d2)\n",
    "print(d)"
   ]
  },
  {
   "cell_type": "code",
   "execution_count": null,
   "metadata": {},
   "outputs": [],
   "source": [
    "16. Write a Python program to create and display all combinations of letters, selecting each letter from a \n",
    "different key in a dictionary.\n",
    "    Data:\n",
    "        {'1':['a','b'], '2':['c','d']}\n",
    "    Expected Output: \n",
    "        ac\n",
    "        ad\n",
    "        bc\n",
    "        bd\n",
    "        \n",
    "        \n",
    "        \n",
    "        "
   ]
  },
  {
   "cell_type": "code",
   "execution_count": 17,
   "metadata": {},
   "outputs": [
    {
     "name": "stdout",
     "output_type": "stream",
     "text": [
      "ac\n",
      "ad\n",
      "bc\n",
      "bd\n"
     ]
    }
   ],
   "source": [
    "import itertools\n",
    "d = {'1':['a','b'],'2':['c','d']}\n",
    "for combo in itertools.product(*[d[k] for k in sorted(d.keys())]):\n",
    "    print(''.join(combo))"
   ]
  },
  {
   "cell_type": "code",
   "execution_count": null,
   "metadata": {},
   "outputs": [],
   "source": [
    "17. Write a Python program to find the highest 3 values and print the corresponding keys from a dictionary.\n",
    "    Data:\n",
    "        d = {'a':500, 'b':5874, 'c': 560,'d':400, 'e':5874, 'f': 20} \n",
    "    Expected Output: \n",
    "        ['b', 'e', 'c']\n",
    "        \n",
    "        \n",
    "        \n"
   ]
  },
  {
   "cell_type": "code",
   "execution_count": 18,
   "metadata": {},
   "outputs": [
    {
     "name": "stdout",
     "output_type": "stream",
     "text": [
      "['b', 'e', 'c']\n"
     ]
    }
   ],
   "source": [
    "from heapq import nlargest\n",
    "d = {'a':500, 'b':5874, 'c': 560,'d':400, 'e':5874, 'f': 20}\n",
    "high3 = nlargest(3,d,d.get)\n",
    "print(high3)"
   ]
  },
  {
   "cell_type": "code",
   "execution_count": null,
   "metadata": {},
   "outputs": [],
   "source": [
    "18. Write a Python program to print the dictionary in a table format.\n",
    "    Data:\n",
    "        d = {'C1':[1,2,3], 'C2':[5,6,7], 'C3':[9,10,11]}\n",
    "    Expected Output:\n",
    "        C1 C2 C3\n",
    "        1  5  9\n",
    "        2  6  10\n",
    "        3  7  11\n",
    "        \n",
    "        \n",
    "        \n",
    "        "
   ]
  },
  {
   "cell_type": "code",
   "execution_count": 19,
   "metadata": {},
   "outputs": [
    {
     "name": "stdout",
     "output_type": "stream",
     "text": [
      "C1 C2 C3\n",
      "1 5 9\n",
      "2 6 10\n",
      "3 7 11\n"
     ]
    }
   ],
   "source": [
    "d = {'C1':[1,2,3], 'C2':[5,6,7], 'C3':[9,10,11]}\n",
    "for row in zip(*([key] + (value) for key, value in sorted(d.items()))):\n",
    "    print(*row)"
   ]
  },
  {
   "cell_type": "code",
   "execution_count": null,
   "metadata": {},
   "outputs": [],
   "source": [
    "19. Write a Python program to convert a list into a nested dictionary of keys.\n",
    "    Data:\n",
    "        d = [1, 2, 3, 4]\n",
    "    Expected Output:\n",
    "        {1: {2: {3: {4: {}}}}} \n",
    "        \n",
    "        \n",
    "        \n",
    "        "
   ]
  },
  {
   "cell_type": "code",
   "execution_count": 20,
   "metadata": {},
   "outputs": [
    {
     "name": "stdout",
     "output_type": "stream",
     "text": [
      "{1: {2: {3: {4: {}}}}}\n"
     ]
    }
   ],
   "source": [
    "d = [1, 2, 3, 4]\n",
    "a = current = {}\n",
    "for x in d:\n",
    "    current[x] = {}\n",
    "    current = current[x]\n",
    "print(a)"
   ]
  },
  {
   "cell_type": "code",
   "execution_count": null,
   "metadata": {},
   "outputs": [],
   "source": [
    "20. Write a Python program to sort a list of values alphabetically in a dictionary.\n",
    "    Data:\n",
    "        d = {'n1': [2, 3, 1], 'n2': [5, 1, 2], 'n3': [3, 2, 4]}\n",
    "    Expected Output:\n",
    "        {'n1': [1, 2, 3], 'n2': [1, 2, 5], 'n3': [2, 3, 4]}\n",
    "          \n",
    "            \n",
    "            \n",
    "            "
   ]
  },
  {
   "cell_type": "code",
   "execution_count": 21,
   "metadata": {},
   "outputs": [
    {
     "name": "stdout",
     "output_type": "stream",
     "text": [
      "{'n1': [1, 2, 3], 'n2': [1, 2, 5], 'n3': [2, 3, 4]}\n"
     ]
    }
   ],
   "source": [
    "d = {'n1': [2, 3, 1], 'n2': [5, 1, 2], 'n3': [3, 2, 4]}\n",
    "d1 = {k:sorted(v) for k,v in d.items()}\n",
    "print(d1)"
   ]
  }
 ],
 "metadata": {
  "kernelspec": {
   "display_name": "Python 3 (ipykernel)",
   "language": "python",
   "name": "python3"
  },
  "language_info": {
   "codemirror_mode": {
    "name": "ipython",
    "version": 3
   },
   "file_extension": ".py",
   "mimetype": "text/x-python",
   "name": "python",
   "nbconvert_exporter": "python",
   "pygments_lexer": "ipython3",
   "version": "3.9.13"
  }
 },
 "nbformat": 4,
 "nbformat_minor": 4
}
