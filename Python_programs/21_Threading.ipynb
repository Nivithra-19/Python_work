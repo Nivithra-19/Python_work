{
 "cells": [
  {
   "cell_type": "markdown",
   "id": "7125af85",
   "metadata": {},
   "source": [
    "# Threading, multithreading"
   ]
  },
  {
   "cell_type": "code",
   "execution_count": null,
   "id": "29213085",
   "metadata": {},
   "outputs": [],
   "source": [
    "\"\"\"A Thread is an entity within a process that an be scheduled for execution.\n",
    "Also, it is the smallest unit of processing that can be performed in an OS (Operating System). \n",
    "In simple words, a thread is a sequence of such instructions within a program that can be executed \n",
    "independently of other code. \n",
    "\n",
    "to use threading we need to import the threading class. \n",
    "Thread() is used to create a thread.\n",
    "target is the function to be executed by the thread\n",
    "args is the arguments to be passed to the target function\n",
    "\n",
    "Executing multiple threads concurrently is known as multithreading\"\"\""
   ]
  },
  {
   "cell_type": "code",
   "execution_count": 5,
   "id": "de27df5c",
   "metadata": {},
   "outputs": [
    {
     "name": "stdout",
     "output_type": "stream",
     "text": [
      "Square of 10 = 100\n",
      "Cube of 10 = 1000\n",
      "Done!\n"
     ]
    }
   ],
   "source": [
    "import threading\n",
    "\n",
    "def print_cube(num):\n",
    "    c = num**3\n",
    "    print(\"Cube of\",format(num),\"=\",format(c))\n",
    "    \n",
    "def print_sq(num):\n",
    "    s = num**2\n",
    "    print(\"Square of\",format(num),\"=\",format(s))\n",
    "    \n",
    "if __name__ == \"__main__\":\n",
    "    t1 = threading.Thread(target=print_sq,args=(10,))\n",
    "    t2 = threading.Thread(target=print_cube,args=(10,))\n",
    "\n",
    "    t1.start()\n",
    "    t2.start()\n",
    "    \n",
    "    t1.join()\n",
    "    t2.join()\n",
    "    \n",
    "    print(\"Done!\")\n",
    "\n",
    "\n"
   ]
  },
  {
   "cell_type": "code",
   "execution_count": 4,
   "id": "2f641351",
   "metadata": {},
   "outputs": [
    {
     "name": "stdout",
     "output_type": "stream",
     "text": [
      "Hello\n",
      "Hi\n",
      "Hello\n",
      "Hi\n",
      "Hello\n",
      "Hi\n",
      "Hello\n",
      "Hi\n",
      "Hello\n",
      "Hi\n",
      "BYE\n"
     ]
    }
   ],
   "source": [
    "from threading import *\n",
    "from time import sleep\n",
    "\n",
    "class Hello(Thread):\n",
    "    def run(self):\n",
    "        for i in range(5):\n",
    "            print(\"Hello\")\n",
    "            sleep(1)\n",
    "            \n",
    "class Hi(Thread):\n",
    "    def run(self):\n",
    "        for i in range(5):\n",
    "            print(\"Hi\")\n",
    "            sleep(1)\n",
    "            \n",
    "t1 = Hello()\n",
    "t2 = Hi()\n",
    "\n",
    "t1.start()\n",
    "sleep(0.2)\n",
    "t2.start()\n",
    "\n",
    "t1.join()\n",
    "t2.join()\n",
    "print(\"BYE\")"
   ]
  },
  {
   "cell_type": "code",
   "execution_count": 10,
   "id": "92503745",
   "metadata": {},
   "outputs": [
    {
     "name": "stdout",
     "output_type": "stream",
     "text": [
      "This is the child thread\n",
      "\n",
      "This is the child thread\n",
      "\n",
      "This is the child thread\n",
      "\n",
      "This is the child thread\n",
      "\n",
      "This is the child thread\n",
      "\n",
      "This is the parent thread\n",
      "\n",
      "This is the parent thread\n",
      "\n",
      "This is the parent thread\n",
      "\n",
      "This is the parent thread\n",
      "\n",
      "This is the parent thread\n",
      "\n"
     ]
    }
   ],
   "source": [
    "from threading import *\n",
    "\n",
    "class Demo:\n",
    "    def show(self):\n",
    "        for i in range(5):\n",
    "            print(\"This is the child thread\\n\")\n",
    "            \n",
    "obj = Demo()\n",
    "t = Thread(target=obj.show)\n",
    "t.start()\n",
    "\n",
    "for i in range(5):\n",
    "            print(\"This is the parent thread\\n\")\n",
    "        "
   ]
  },
  {
   "cell_type": "code",
   "execution_count": 9,
   "id": "287560ac",
   "metadata": {},
   "outputs": [
    {
     "name": "stdout",
     "output_type": "stream",
     "text": [
      "The number is 1\n",
      "Double of the number is 2\n",
      "Square of the number is 1\n",
      "The number is 2\n",
      "Double of the number is 4\n",
      "Square of the number is 4\n",
      "The number is 3\n",
      "Double of the number is 6\n",
      "Square of the number is 9\n",
      "The number is 4\n",
      "Double of the number is 8\n",
      "Square of the number is 16\n",
      "The number is 5\n",
      "Double of the number is 10\n",
      "Square of the number is 25\n",
      "This is the main thread\n"
     ]
    }
   ],
   "source": [
    "from threading import *\n",
    "import time\n",
    "\n",
    "class Demo:\n",
    "    def num(self):\n",
    "        for _ in range(1,6):\n",
    "            print(\"The number is\",_)\n",
    "            time.sleep(1)\n",
    "            \n",
    "    def double(self):\n",
    "        for _ in range(1,6):\n",
    "            print(\"Double of the number is\",_*2)\n",
    "            time.sleep(1)\n",
    "            \n",
    "    def square(self):\n",
    "        for _ in range(1,6):\n",
    "            print(\"Square of the number is\",_*_)\n",
    "            time.sleep(1)\n",
    "            \n",
    "obj=Demo()\n",
    "t1=Thread(target=obj.num)\n",
    "t2=Thread(target=obj.double)\n",
    "t3=Thread(target=obj.square)\n",
    "\n",
    "t1.start()\n",
    "time.sleep(0.2)\n",
    "t2.start()\n",
    "time.sleep(0.2)\n",
    "t3.start()\n",
    "\n",
    "t1.join()\n",
    "t2.join()\n",
    "t3.join()\n",
    "\n",
    "print(\"This is the main thread\")"
   ]
  },
  {
   "cell_type": "code",
   "execution_count": null,
   "id": "4feb1362",
   "metadata": {},
   "outputs": [],
   "source": []
  },
  {
   "cell_type": "code",
   "execution_count": null,
   "id": "2986a144",
   "metadata": {},
   "outputs": [],
   "source": [
    "\"\"\"use of threading and mutlithreading in python\n",
    "\n",
    "Improving Responsiveness: In GUI applications, multithreading can be used to keep the user interface responsive while \n",
    "performing long-running tasks such as file I/O, network requests, or computations in the background. \n",
    "By offloading these tasks to separate threads, the main GUI thread remains free to handle user interactions.\n",
    "\n",
    "Parallelizing I/O-bound Tasks: Multithreading is particularly useful for I/O-bound tasks where the threads \n",
    "spend a significant amount of time waiting for input/output operations to complete, such as reading from or\n",
    "writing to files, making network requests, or interacting with databases. By using multiple threads, you can overlap \n",
    "these I/O operations and potentially improve overall throughput.\n",
    "\n",
    "Concurrency in Server Applications: In server applications, such as web servers or network servers, \n",
    "multithreading can be employed to handle multiple client requests concurrently. Each incoming request can be processed \n",
    "in a separate thread, allowing the server to serve multiple clients simultaneously without blocking other clients.\n",
    "\n",
    "Producer-Consumer Problem: Threading is often used to solve the producer-consumer problem, where one or more threads\n",
    "produce data items and put them into a shared queue, while other threads consume these items from the queue. \n",
    "By using multiple threads, you can achieve efficient communication and coordination between producers and consumers.\n",
    "\n",
    "Parallel Computing: Although Python's Global Interpreter Lock (GIL) limits true parallel execution of CPU-bound tasks\n",
    "within a single Python process, multithreading can still be useful for parallelizing certain tasks across multiple CPU cores,\n",
    "especially when using C extensions or libraries that release the GIL during computation.\n",
    "\n",
    "Background Task Execution: Threading can be used to perform background tasks in a Python application, such as periodic cleanup, \n",
    "logging, or maintenance tasks, without blocking the main execution flow.\n",
    "\"\"\""
   ]
  }
 ],
 "metadata": {
  "kernelspec": {
   "display_name": "Python 3 (ipykernel)",
   "language": "python",
   "name": "python3"
  },
  "language_info": {
   "codemirror_mode": {
    "name": "ipython",
    "version": 3
   },
   "file_extension": ".py",
   "mimetype": "text/x-python",
   "name": "python",
   "nbconvert_exporter": "python",
   "pygments_lexer": "ipython3",
   "version": "3.9.13"
  }
 },
 "nbformat": 4,
 "nbformat_minor": 5
}
