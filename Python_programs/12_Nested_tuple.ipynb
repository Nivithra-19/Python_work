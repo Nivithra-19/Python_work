{
 "cells": [
  {
   "cell_type": "code",
   "execution_count": null,
   "metadata": {},
   "outputs": [],
   "source": [
    "1. Write a Python program to create a simple nested tuple.\n",
    "    Data:\n",
    "        x = (\"Boss\", [8, 4, 6], (1, 2, 3)) \n",
    "    Expected Output:\n",
    "        ('Boss', [8, 4, 6], (1, 2, 3))\n",
    "        \n",
    "        \n",
    "        \n",
    "        "
   ]
  },
  {
   "cell_type": "code",
   "execution_count": 1,
   "metadata": {},
   "outputs": [
    {
     "name": "stdout",
     "output_type": "stream",
     "text": [
      "Nested Tuple: ('Boss', [8, 4, 6], (1, 2, 3))\n"
     ]
    }
   ],
   "source": [
    "x = (\"Boss\", [8, 4, 6], (1, 2, 3)) \n",
    "print(\"Nested Tuple:\",x)"
   ]
  },
  {
   "cell_type": "code",
   "execution_count": null,
   "metadata": {},
   "outputs": [],
   "source": [
    "2. Write a Python program to convert a nested tuple into a dictionary.\n",
    "    Data:\n",
    "        x = ((2, \"w\"),(3, \"r\"))\n",
    "    Expected Output:\n",
    "        {'w': 2, 'r': 3}\n",
    "        \n",
    "        \n",
    "        \n",
    "        \n",
    "        "
   ]
  },
  {
   "cell_type": "code",
   "execution_count": 5,
   "metadata": {},
   "outputs": [
    {
     "name": "stdout",
     "output_type": "stream",
     "text": [
      "The Tuple:\n",
      "The Dictionary: {'w': 2, 'r': 3}\n"
     ]
    }
   ],
   "source": [
    "x = ((2,\"w\"),(3,\"r\"))\n",
    "print(\"The Tuple:\")\n",
    "print(\"The Dictionary:\",dict((b,a) for a,b in x))"
   ]
  },
  {
   "cell_type": "code",
   "execution_count": null,
   "metadata": {},
   "outputs": [],
   "source": [
    "3. Write a Python program to update the element in a given nested tuple.\n",
    "    Data:\n",
    "        x = ((1), [9, 8, 7], (\"boss\"))\n",
    "    Expected Output:\n",
    "        (1, [9, 8, 77], 'boss')\n",
    "        \n",
    "        \n",
    "        \n",
    "        "
   ]
  },
  {
   "cell_type": "code",
   "execution_count": 1,
   "metadata": {},
   "outputs": [
    {
     "name": "stdout",
     "output_type": "stream",
     "text": [
      "The Tuple: (1, [9, 8, 7], 'boss')\n",
      "After update, the Tuple will be: (1, [9, 8, 77], 'boss')\n"
     ]
    }
   ],
   "source": [
    "x = ((1), [9, 8, 7], (\"boss\"))\n",
    "print(\"The Tuple:\",x)\n",
    "x[1][2]=77\n",
    "print(\"After update, the Tuple will be:\",x)"
   ]
  },
  {
   "cell_type": "code",
   "execution_count": null,
   "metadata": {},
   "outputs": [],
   "source": [
    "4. Write a Python program to find the length of the given nested tuple.\n",
    "    Data:\n",
    "       L = ('a', ('b', 'c'), 'd', ('e', 'f'))\n",
    "    Expected Output:\n",
    "        ('a', ('b', 'c'), 'd', ('e', 'f'))\n",
    "        4\n"
   ]
  },
  {
   "cell_type": "code",
   "execution_count": 7,
   "metadata": {},
   "outputs": [
    {
     "name": "stdout",
     "output_type": "stream",
     "text": [
      "The Tuple= ('a', ('b', 'c'), 'd', ('e', 'f'))\n",
      "Length of Tuple= 4\n"
     ]
    }
   ],
   "source": [
    "L=('a', ('b', 'c'), 'd', ('e', 'f'))\n",
    "print(\"The Tuple=\",L)\n",
    "print(\"Length of Tuple=\",len(L))\n"
   ]
  },
  {
   "cell_type": "code",
   "execution_count": null,
   "metadata": {},
   "outputs": [],
   "source": [
    "5. Write a Python program to create a nested tuple by using the given tuples.\n",
    "    Data:\n",
    "        t1 = (1,2)\n",
    "        t2 = ('a','a')\n",
    "        t3 = ('A','B')\n",
    "    Expected Output:\n",
    "        Create/print nested tuple\n",
    "        ('A', (1, 2), 'B', ('a', 'b'))\n",
    "        Length of nested tuple is:\n",
    "        4"
   ]
  },
  {
   "cell_type": "code",
   "execution_count": 2,
   "metadata": {},
   "outputs": [
    {
     "name": "stdout",
     "output_type": "stream",
     "text": [
      "The Tuples are:\n",
      " (1, 2) \n",
      " ('a', 'a') \n",
      " ('A', 'B')\n",
      "The nested tuple: ('A', (1, 2), 'B', ('a', 'a'))\n",
      "Length of nested tuple is:\n",
      " 4\n"
     ]
    }
   ],
   "source": [
    "t1 = (1,2)\n",
    "t2 = ('a','a')\n",
    "t3 = ('A','B')\n",
    "print(\"The Tuples are:\\n\",t1,\"\\n\",t2,\"\\n\",t3)\n",
    "\n",
    "\n",
    "lt=list(t3)\n",
    "lt.insert(1,t1)\n",
    "lt.append(t2)\n",
    "\n",
    "nt=tuple(lt)\n",
    "print(\"The nested tuple:\",nt)\n",
    "print(\"Length of nested tuple is:\\n\",len(nt))"
   ]
  },
  {
   "cell_type": "code",
   "execution_count": null,
   "metadata": {},
   "outputs": [],
   "source": [
    "''' 6. Write a Python script to create a tuple from another tuple with one element and check for the existence of the\n",
    "       specified element.\n",
    "\n",
    "    Data:\n",
    "        t1 = (\"a\",)\n",
    "        \n",
    "    Expected Output:\n",
    "        ('a', 'a')\n",
    "        Contains a '''\n",
    "        \n",
    "    \n",
    "        \n",
    "        "
   ]
  },
  {
   "cell_type": "code",
   "execution_count": 9,
   "metadata": {},
   "outputs": [
    {
     "name": "stdout",
     "output_type": "stream",
     "text": [
      "('a', 'a')\n",
      "Contains a\n"
     ]
    }
   ],
   "source": [
    "t1 = (\"a\",)\n",
    "t2 = (t1*2)\n",
    "print (t2)\n",
    "\n",
    "if(\"a\" in t2):\n",
    "    print (\"Contains a\")\n",
    "if(\"b\" in t2):\n",
    "    print (\"Contains b\")"
   ]
  },
  {
   "cell_type": "code",
   "execution_count": null,
   "metadata": {},
   "outputs": [],
   "source": [
    "7. Write a python program to find the length of the given nested tuple including the elements inside the tuple of tuples.\n",
    "    Data:\n",
    "        t1 =(1,(4,(7,8,9),6),3)\n",
    "    Expected Output:\n",
    "        9\n",
    "        \n",
    "        \n",
    "        \n",
    "        "
   ]
  },
  {
   "cell_type": "code",
   "execution_count": 4,
   "metadata": {},
   "outputs": [
    {
     "name": "stdout",
     "output_type": "stream",
     "text": [
      "The tuple: (1, (4, (7, 8, 9), 6), 3)\n",
      "length of nested tuple: 9\n"
     ]
    }
   ],
   "source": [
    "t1 =(1,(4,(7,8,9),6),3)\n",
    "print(\"The tuple:\",t1)\n",
    "l=0\n",
    "l+=len(t1)\n",
    "l+=len(t1[1])\n",
    "l+=len(t1[1][1])\n",
    "print(\"length of nested tuple:\",l)"
   ]
  },
  {
   "cell_type": "code",
   "execution_count": 7,
   "metadata": {},
   "outputs": [
    {
     "name": "stdout",
     "output_type": "stream",
     "text": [
      "The tuple: (1, (4, (7, 8, 9), 6), 3)\n",
      "Length of the nested tuple: 7\n"
     ]
    }
   ],
   "source": [
    "def nested_tuple_length(t):\n",
    "    length = 0\n",
    "    for item in t:\n",
    "        if isinstance(item, tuple):\n",
    "            length += nested_tuple_length(item)\n",
    "        else:\n",
    "            length += 1\n",
    "    return length\n",
    "t1 =(1,(4,(7,8,9),6),3)\n",
    "length = nested_tuple_length(t1)\n",
    "print(\"The tuple:\",t1)\n",
    "print(\"Length of the nested tuple:\", length)"
   ]
  },
  {
   "cell_type": "code",
   "execution_count": null,
   "metadata": {},
   "outputs": [],
   "source": [
    "8. Write a Python program to convert a nested tuple into a dictionary.\n",
    "    Data:\n",
    "        t = ((4, 'Sara'), (3, 'Shar'), (6, 'Sid'))\n",
    "    Expected Output:\n",
    "        The original tuple : ((4, 'Sara'), (3, 'Shar'), (6, 'Sid'))\n",
    "        The converted dictionary : [{'key': 4, 'value': 'Sara'}, {'key': 3, 'value': 'Shar'}, {'key': 6, 'value': 'Sid'}]\n",
    "        \n",
    "        \n",
    "        \n",
    "        "
   ]
  },
  {
   "cell_type": "code",
   "execution_count": 11,
   "metadata": {},
   "outputs": [
    {
     "name": "stdout",
     "output_type": "stream",
     "text": [
      "The original Tuple: ((4, 'Sara'), (3, 'Shar'), (6, 'Sid'))\n",
      "The converted dictionary: [{'Key': 4, 'Value': 'Sara'}, {'Key': 3, 'Value': 'Shar'}, {'Key': 6, 'Value': 'Sid'}]\n"
     ]
    }
   ],
   "source": [
    "t = ((4, 'Sara'), (3, 'Shar'), (6, 'Sid'))\n",
    "print(\"The original Tuple:\",t)\n",
    "keys = ['Key','Value']\n",
    "d = [{key: val for key, val in zip(keys, sub)} for sub in t]\n",
    "print(\"The converted dictionary:\",d)"
   ]
  },
  {
   "cell_type": "code",
   "execution_count": null,
   "metadata": {},
   "outputs": [],
   "source": [
    "9. Write a Python program to unzip a list of nested tuples into individual lists.\n",
    "    Data:\n",
    "        l = [('Sara', 1), ('Shar', 2), ('Sid', 3), ('Shwe', 4)]\n",
    "    Expected Output:\n",
    "        Original list is : [('Sara', 1), ('Shar', 2), ('Sid', 3), ('Shwe', 4)]\n",
    "        Modified list is : [['Sara', 'Shar', 'Sid', 'Shwe'], [1, 2, 3, 4]]\n",
    "        \n",
    "        \n",
    "        \n",
    "        "
   ]
  },
  {
   "cell_type": "code",
   "execution_count": 12,
   "metadata": {},
   "outputs": [
    {
     "name": "stdout",
     "output_type": "stream",
     "text": [
      "Original list is :  [('Sara', 1), ('Shar', 2), ('Sid', 3), ('Shwe', 4)]\n",
      "Modified list is : [['Sara', 'Shar', 'Sid', 'Shwe'], [1, 2, 3, 4]]\n"
     ]
    }
   ],
   "source": [
    "l = [('Sara', 1), ('Shar', 2), ('Sid', 3), ('Shwe', 4)]\n",
    "print(\"Original list is : \",l)\n",
    "ul = [[i for i, j in l],[j for i, j in l]]\n",
    "print(\"Modified list is :\",ul)"
   ]
  },
  {
   "cell_type": "code",
   "execution_count": null,
   "metadata": {},
   "outputs": [],
   "source": [
    "10. Write a Python program to replace the last value of each tuples in a nested tuple. \n",
    "    Data:\n",
    "        ((10, 20, 40), (40, 50, 60), (70, 80, 90))\n",
    "    Expected Output:\n",
    "        [(10, 20, 100), (40, 50, 100), (70, 80, 100)]\n",
    "        \n",
    "        \n",
    "        \n",
    "        "
   ]
  },
  {
   "cell_type": "code",
   "execution_count": 14,
   "metadata": {},
   "outputs": [
    {
     "name": "stdout",
     "output_type": "stream",
     "text": [
      "[(10, 20, 100), (40, 50, 100), (70, 80, 100)]\n"
     ]
    }
   ],
   "source": [
    "l = ((10, 20, 40), (40, 50, 60), (70, 80, 90))\n",
    "print([t[:-1]+(100,) for t in l])"
   ]
  }
 ],
 "metadata": {
  "kernelspec": {
   "display_name": "Python 3 (ipykernel)",
   "language": "python",
   "name": "python3"
  },
  "language_info": {
   "codemirror_mode": {
    "name": "ipython",
    "version": 3
   },
   "file_extension": ".py",
   "mimetype": "text/x-python",
   "name": "python",
   "nbconvert_exporter": "python",
   "pygments_lexer": "ipython3",
   "version": "3.9.13"
  }
 },
 "nbformat": 4,
 "nbformat_minor": 4
}
