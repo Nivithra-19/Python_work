{
 "cells": [
  {
   "cell_type": "code",
   "execution_count": 1,
   "metadata": {},
   "outputs": [],
   "source": [
    "1. Write a Python program to print convert a list into a tuple.\n",
    "    Data:\n",
    "        x = [1,2]\n",
    "    Expected Output:\n",
    "        x - [1, 2]\n",
    "        <class 'list'>\n",
    "        y - (1, 2)\n",
    "        <class 'tuple'>        \n",
    "        \n",
    "        \n",
    "        "
   ]
  },
  {
   "cell_type": "code",
   "execution_count": 1,
   "metadata": {},
   "outputs": [
    {
     "name": "stdout",
     "output_type": "stream",
     "text": [
      "[1, 2]\n",
      "<class 'list'>\n",
      "(1, 2)\n",
      "<class 'tuple'>\n"
     ]
    }
   ],
   "source": [
    "x=[1,2]\n",
    "print(x)\n",
    "print(type(x))\n",
    "y=tuple(x)\n",
    "print(y)\n",
    "print(type(y))"
   ]
  },
  {
   "cell_type": "code",
   "execution_count": 2,
   "metadata": {},
   "outputs": [],
   "source": [
    "2. Write a Python program to create a tuple with different data types.\n",
    "    Data:\n",
    "        x = (\"tuples\",3.2, 1)\n",
    "    Expected Output:\n",
    "        ('tuples', 3.2, 1)\n",
    "        \n",
    "        \n",
    "        \n",
    "        "
   ]
  },
  {
   "cell_type": "code",
   "execution_count": 2,
   "metadata": {},
   "outputs": [
    {
     "name": "stdout",
     "output_type": "stream",
     "text": [
      "<class 'tuple'>\n",
      "The Tuple: ('Tuple Demo', 9, 4.5)\n"
     ]
    }
   ],
   "source": [
    "x=(\"Tuple Demo\",9,4.5)\n",
    "print(type(x))\n",
    "print(\"The Tuple:\",x)"
   ]
  },
  {
   "cell_type": "code",
   "execution_count": 3,
   "metadata": {},
   "outputs": [],
   "source": [
    "3. Write a Python program to create a tuple with numbers and print the items one by one.\n",
    "    Data:\n",
    "        x = 5, 10, 15, 20, 25\n",
    "    Expected Output:\n",
    "        <class 'tuple'> \n",
    "        (5, 10, 15, 20, 25)\n",
    "        5\n",
    "        10\n",
    "        15\n",
    "        20\n",
    "        25\n",
    "        \n",
    "        \n",
    "        "
   ]
  },
  {
   "cell_type": "code",
   "execution_count": 3,
   "metadata": {},
   "outputs": [
    {
     "name": "stdout",
     "output_type": "stream",
     "text": [
      "<class 'tuple'>\n",
      "5\n",
      "10\n",
      "15\n",
      "20\n",
      "25\n"
     ]
    }
   ],
   "source": [
    "x=(5,10,15,20,25)\n",
    "print(type(x))\n",
    "for i in x:\n",
    "    print(i)\n",
    "    "
   ]
  },
  {
   "cell_type": "code",
   "execution_count": 4,
   "metadata": {},
   "outputs": [],
   "source": [
    "4. Write a Python program to convert a tuple of characters into a string.\n",
    "    Data:\n",
    "        x = ('v', 'o', 'l', 'a', 't', 'a', 'l', 'i', 't', 'y')\n",
    "    Expected Output:\n",
    "        volatility\n",
    "        \n",
    "        \n",
    "        \n",
    "        "
   ]
  },
  {
   "cell_type": "code",
   "execution_count": 4,
   "metadata": {},
   "outputs": [
    {
     "name": "stdout",
     "output_type": "stream",
     "text": [
      "volatility\n"
     ]
    }
   ],
   "source": [
    "x = ('v', 'o', 'l', 'a', 't', 'i', 'l', 'i', 't', 'y')\n",
    "s=''\n",
    "for i in x:\n",
    "    s+=i\n",
    "    \n",
    "print(s)\n"
   ]
  },
  {
   "cell_type": "code",
   "execution_count": 5,
   "metadata": {},
   "outputs": [],
   "source": [
    "5. Write a Python program to convert a tuple into a list.\n",
    "    Data:\n",
    "        x=(1,2,3)\n",
    "    Expected Output:\n",
    "        (1, 2, 3)\n",
    "        [1, 2, 3]\n",
    "        \n",
    "        \n",
    "        \n",
    "        "
   ]
  },
  {
   "cell_type": "code",
   "execution_count": 5,
   "metadata": {},
   "outputs": [
    {
     "name": "stdout",
     "output_type": "stream",
     "text": [
      "(1, 2, 3)\n",
      "[1, 2, 3]\n"
     ]
    }
   ],
   "source": [
    "x=(1,2,3)\n",
    "y=list(x)\n",
    "print(x)\n",
    "print(y)"
   ]
  },
  {
   "cell_type": "code",
   "execution_count": 6,
   "metadata": {},
   "outputs": [],
   "source": [
    "6. Write a Python program to remove an element from a tuple.\n",
    "    Data:\n",
    "        x = (\"a\",\"b\",\"c\",\"d\")\n",
    "    Expected Output:\n",
    "        ('a', 'b', 'd')\n",
    "        \n",
    "        \n",
    "        \n",
    "        "
   ]
  },
  {
   "cell_type": "code",
   "execution_count": 6,
   "metadata": {},
   "outputs": [
    {
     "name": "stdout",
     "output_type": "stream",
     "text": [
      "The Tuple: ('a', 'b', 'c', 'd')\n",
      "Enter the element you want to remove: c\n",
      "After removing the Tuple will become: ('a', 'b', 'd')\n"
     ]
    }
   ],
   "source": [
    "x=('a','b','c','d')\n",
    "y=list(x)\n",
    "print(\"The Tuple:\",x)\n",
    "s=str(input(\"Enter the element you want to remove: \"))\n",
    "for i in y:\n",
    "    if i==s:\n",
    "        y.remove(i)\n",
    "        \n",
    "x=tuple(y)\n",
    "print(\"After removing the Tuple will become:\",x)"
   ]
  },
  {
   "cell_type": "code",
   "execution_count": 7,
   "metadata": {},
   "outputs": [],
   "source": [
    "7. Write a Python program to find the length of a tuple.\n",
    "    Data:\n",
    "        x = (\"positions\")\n",
    "    Expected Output:\n",
    "        ('p', 'o', 's', 'i', 't', 'i', 'o', 'n', 's')\n",
    "        9\n",
    "        \n",
    "        "
   ]
  },
  {
   "cell_type": "code",
   "execution_count": 7,
   "metadata": {},
   "outputs": [
    {
     "name": "stdout",
     "output_type": "stream",
     "text": [
      "('p', 'o', 's', 'i', 't', 'i', 'o', 'n', 's')\n",
      "9\n"
     ]
    }
   ],
   "source": [
    "x=('p','o','s','i','t','i','o','n','s')\n",
    "print(x)\n",
    "print(len(x))"
   ]
  },
  {
   "cell_type": "code",
   "execution_count": 8,
   "metadata": {},
   "outputs": [],
   "source": [
    "8. Write a Python program to convert a tuple into a dictionary.\n",
    "    Data:\n",
    "        x = ((2, \"w\"),(3, \"r\"))\n",
    "    Expected Output:\n",
    "        {'w': 2, 'r': 3}\n",
    "        \n",
    "        \n",
    "        \n",
    "        "
   ]
  },
  {
   "cell_type": "code",
   "execution_count": 8,
   "metadata": {},
   "outputs": [
    {
     "name": "stdout",
     "output_type": "stream",
     "text": [
      "{'w': 2, 'r': 3}\n"
     ]
    }
   ],
   "source": [
    "x = ((2, \"w\"),(3, \"r\"))\n",
    "print(dict((b,a) for a,b in x))"
   ]
  },
  {
   "cell_type": "code",
   "execution_count": 9,
   "metadata": {},
   "outputs": [],
   "source": [
    "9. Write a Python program to reverse the tuple elements.\n",
    "    Data:\n",
    "        x = (\"Baskar\")\n",
    "        x = (5, 10, 15, 20)\n",
    "    Expected Output:\n",
    "        ('r', 'a', 'k', 's', 'a', 'B')\n",
    "        (20, 15, 10, 5)\n",
    "        \n",
    "        \n",
    "        \n",
    "        "
   ]
  },
  {
   "cell_type": "code",
   "execution_count": 9,
   "metadata": {},
   "outputs": [
    {
     "name": "stdout",
     "output_type": "stream",
     "text": [
      "('y', 't', 'o', 'n', 'h', 'P')\n",
      "(20, 15, 10, 5)\n"
     ]
    }
   ],
   "source": [
    "x=('P','y','t','h','o','n')\n",
    "y=list(x)\n",
    "y.sort(reverse= True)\n",
    "x=tuple(y)\n",
    "print(x)\n",
    "\n",
    "a=(5,10,15,20)\n",
    "b=list(a)\n",
    "b.sort(reverse= True)\n",
    "a=tuple(b)\n",
    "print(a)\n"
   ]
  },
  {
   "cell_type": "code",
   "execution_count": 10,
   "metadata": {},
   "outputs": [],
   "source": [
    "10. Write a Python program to unpack a tuple in several variables.  \n",
    "    Data:\n",
    "        x = 4, 8, 3\n",
    "    Expected Output:\n",
    "        (4, 8, 3)\n",
    "        15\n",
    "        \n",
    "        \n",
    "        \n",
    "        "
   ]
  },
  {
   "cell_type": "code",
   "execution_count": 10,
   "metadata": {},
   "outputs": [
    {
     "name": "stdout",
     "output_type": "stream",
     "text": [
      "(4, 8, 3)\n",
      "15\n"
     ]
    }
   ],
   "source": [
    "x = 4, 8, 3 \n",
    "print(x)\n",
    "n1, n2, n3 =x\n",
    "print(n1 + n2 + n3) "
   ]
  },
  {
   "cell_type": "code",
   "execution_count": 1,
   "metadata": {},
   "outputs": [],
   "source": [
    "11. Write a Python program to create a nested tuple.\n",
    "    Data:\n",
    "        x = (\"Boss\", [8, 4, 6], (1, 2, 3)) \n",
    "    Expected Output:\n",
    "        ('Boss', [8, 4, 6], (1, 2, 3))\n",
    "        \n",
    "        \n",
    "        \n",
    "        "
   ]
  },
  {
   "cell_type": "code",
   "execution_count": 11,
   "metadata": {},
   "outputs": [
    {
     "data": {
      "text/plain": [
       "('Python', [8, 4, 6], (1, 2, 3))"
      ]
     },
     "execution_count": 11,
     "metadata": {},
     "output_type": "execute_result"
    }
   ],
   "source": [
    "x = (\"Python\",[8,4,6],(1,2,3))\n",
    "x"
   ]
  },
  {
   "cell_type": "code",
   "execution_count": 2,
   "metadata": {},
   "outputs": [],
   "source": [
    "12. Write a Python program to convert a string into a tuple.\n",
    "    Data:\n",
    "        x = (\"hello\")\n",
    "    Expected Output:\n",
    "        <class 'str'>\n",
    "        <class 'tuple'>\n",
    "        \n",
    "        \n",
    "        \n",
    "        "
   ]
  },
  {
   "cell_type": "code",
   "execution_count": 12,
   "metadata": {},
   "outputs": [
    {
     "name": "stdout",
     "output_type": "stream",
     "text": [
      "hello is of type <class 'str'>\n",
      "('hello',) is of type <class 'tuple'>\n"
     ]
    }
   ],
   "source": [
    "x = (\"hello\")\n",
    "print(x,\"is of type\",type(x))\n",
    "y = (x,)\n",
    "print(y,\"is of type\",type(y))\n"
   ]
  },
  {
   "cell_type": "code",
   "execution_count": 3,
   "metadata": {},
   "outputs": [],
   "source": [
    "13. Write a Python program to access tuple elements using index.\n",
    "    Data:\n",
    "        x = ('B','a','s','k','a','r')\n",
    "    Expected Output:\n",
    "        x[0] is : B\n",
    "        x[5] is : r\n",
    "\n",
    "        \n",
    "        \n",
    "        \n",
    "        "
   ]
  },
  {
   "cell_type": "code",
   "execution_count": 13,
   "metadata": {},
   "outputs": [
    {
     "name": "stdout",
     "output_type": "stream",
     "text": [
      "The Tuple,x: ('P', 'y', 't', 'h', 'o', 'n')\n",
      "x[0] is: P\n",
      "x[1] is: y\n",
      "x[2] is: t\n",
      "x[3] is: h\n",
      "x[4] is: o\n",
      "x[5] is: n\n"
     ]
    }
   ],
   "source": [
    "x=('P','y','t','h','o','n')\n",
    "print(\"The Tuple,x:\",x)\n",
    "\n",
    "print(\"x[0] is:\",x[0])\n",
    "print(\"x[1] is:\",x[1])\n",
    "print(\"x[2] is:\",x[2])\n",
    "print(\"x[3] is:\",x[3])\n",
    "print(\"x[4] is:\",x[4])\n",
    "print(\"x[5] is:\",x[5])\n"
   ]
  },
  {
   "cell_type": "code",
   "execution_count": 4,
   "metadata": {},
   "outputs": [],
   "source": [
    "14. Write a Python program to access nested tuple elements using index. \n",
    "    Data:\n",
    "        x = (\"Boss\", [8, 4, 6], (1, 2, 3)) \n",
    "    Expected Output:\n",
    "        x[0][3] is : s\n",
    "        x[1][1] is : 4\n",
    "        \n",
    "        \n",
    "        \n",
    "        "
   ]
  },
  {
   "cell_type": "code",
   "execution_count": 14,
   "metadata": {},
   "outputs": [
    {
     "name": "stdout",
     "output_type": "stream",
     "text": [
      "The Tuple: ('Boss', [8, 4, 6], (1, 2, 3))\n",
      "x[0]: Boss\n",
      "x[0][3]: s\n",
      "x[1]: [8, 4, 6]\n",
      "x[1][2]: 6\n",
      "x[2]: (1, 2, 3)\n",
      "x[2][0]: 1\n"
     ]
    }
   ],
   "source": [
    "x = (\"Boss\",[8,4,6],(1,2,3))\n",
    "print(\"The Tuple:\",x)\n",
    "print(\"x[0]:\",x[0])\n",
    "print(\"x[0][3]:\",x[0][3])\n",
    "print(\"x[1]:\",x[1])\n",
    "print(\"x[1][2]:\",x[1][2])\n",
    "print(\"x[2]:\",x[2])\n",
    "print(\"x[2][0]:\",x[2][0])"
   ]
  },
  {
   "cell_type": "code",
   "execution_count": 5,
   "metadata": {},
   "outputs": [],
   "source": [
    "15. Write a Python program to access tuple elements using negative index.\n",
    "    Data:\n",
    "        x = ('B','a','s','k','a','r')\n",
    "    Expected Output:\n",
    "        x[-1] is : r\n",
    "        x[-6] is : B\n",
    "        \n",
    "        \n",
    "        \n",
    "        "
   ]
  },
  {
   "cell_type": "code",
   "execution_count": 15,
   "metadata": {},
   "outputs": [
    {
     "name": "stdout",
     "output_type": "stream",
     "text": [
      "The tuple: ('P', 'y', 't', 'h', 'o', 'n')\n",
      "x[-6] is: P\n",
      "x[-5] is: y\n",
      "x[-4] is: t\n",
      "x[-3] is: h\n",
      "x[-2] is: o\n",
      "x[-1] is: n\n"
     ]
    }
   ],
   "source": [
    "x=('P','y','t','h','o','n')\n",
    "print(\"The tuple:\",x)\n",
    "print(\"x[-6] is:\",x[-6])\n",
    "print(\"x[-5] is:\",x[-5])\n",
    "print(\"x[-4] is:\",x[-4])\n",
    "print(\"x[-3] is:\",x[-3])\n",
    "print(\"x[-2] is:\",x[-2])\n",
    "print(\"x[-1] is:\",x[-1])"
   ]
  },
  {
   "cell_type": "code",
   "execution_count": 6,
   "metadata": {},
   "outputs": [],
   "source": [
    "16. Write a Python program to use + and * operators in a tuple and print the results in tuple.\n",
    "    Data:\n",
    "        x : (1, 12, 123)\n",
    "        y : (4, 9)    \n",
    "    Expected Output:\n",
    "        z = x + y : (1, 12, 123, 4, 9)\n",
    "        z * 3 : (1, 12, 123, 4, 9, 1, 12, 123, 4, 9, 1, 12, 123, 4, 9)\n",
    "        \n",
    "        \n",
    "        \n",
    "        "
   ]
  },
  {
   "cell_type": "code",
   "execution_count": 17,
   "metadata": {},
   "outputs": [
    {
     "name": "stdout",
     "output_type": "stream",
     "text": [
      "x :  (1, 12, 123)\n",
      "y :  (4, 9)\n",
      "z = x + y : (1, 12, 123, 4, 9)\n",
      "z * 3 =  (1, 12, 123, 4, 9, 1, 12, 123, 4, 9, 1, 12, 123, 4, 9)\n"
     ]
    }
   ],
   "source": [
    "x = (1,12,123)\n",
    "y = (4,9)\n",
    "print(\"x : \",x)\n",
    "print(\"y : \",y)\n",
    "z=x+y\n",
    "print(\"z = x + y :\",z)\n",
    "print(\"z * 3 = \",z*3)\n",
    "\n"
   ]
  },
  {
   "cell_type": "code",
   "execution_count": 7,
   "metadata": {},
   "outputs": [],
   "source": [
    "17. Write a Python program to print each elements of a tuple using for loop.\n",
    "    Data:\n",
    "        Tuple x = ('boss','sai')\n",
    "    Expected Output:\n",
    "        Hello boss\n",
    "        Hello bala\n",
    "        \n",
    "        \n",
    "        \n",
    "        "
   ]
  },
  {
   "cell_type": "code",
   "execution_count": 18,
   "metadata": {},
   "outputs": [
    {
     "name": "stdout",
     "output_type": "stream",
     "text": [
      "Hello Baskar\n",
      "Hello Micheal\n",
      "Hello Ranjana\n"
     ]
    }
   ],
   "source": [
    "x=(\"Baskar\",\"Micheal\",\"Ranjana\")\n",
    "\n",
    "for i in x:\n",
    "    print(\"Hello\",i)"
   ]
  },
  {
   "cell_type": "code",
   "execution_count": 8,
   "metadata": {},
   "outputs": [],
   "source": [
    "18. Write a Python program to print the count of 'p' and the index of 'l' from the given tuple using tuple methods.\n",
    "    Data: \n",
    "        x = ('a', 'p', 'p', 'l', 'e')\n",
    "    Expected Output:\n",
    "        Count of p is : 2\n",
    "        Index of l is : 3\n",
    "        \n",
    "        "
   ]
  },
  {
   "cell_type": "code",
   "execution_count": 19,
   "metadata": {},
   "outputs": [
    {
     "name": "stdout",
     "output_type": "stream",
     "text": [
      "Count of p: 2\n",
      "Index of l: 3\n"
     ]
    }
   ],
   "source": [
    "x=('a','p','p','l','e')\n",
    "print(\"Count of p:\",x.count('p'))\n",
    "print(\"Index of l:\",x.index('l'))"
   ]
  },
  {
   "cell_type": "code",
   "execution_count": 9,
   "metadata": {},
   "outputs": [],
   "source": [
    "19. Write a Python program to update an element of a given tuple from 7 to 77.\n",
    "    Data:\n",
    "        x = (1, [9, 8, 7], \"boss\")\n",
    "    Expected Output:\n",
    "        (1, [9, 8, 7], 'boss')\n",
    "        (1, [9, 8, 77], 'boss')\n",
    "        \n",
    "        \n",
    "        \n",
    "        "
   ]
  },
  {
   "cell_type": "code",
   "execution_count": 20,
   "metadata": {},
   "outputs": [
    {
     "name": "stdout",
     "output_type": "stream",
     "text": [
      "(1, [9, 8, 7], 'boss')\n",
      "After updating: (1, [9, 8, 77], 'boss')\n"
     ]
    }
   ],
   "source": [
    "x=(1,[9,8,7],\"boss\")\n",
    "print(x)\n",
    "x[1][2]=77\n",
    "print(\"After updating:\",x)"
   ]
  },
  {
   "cell_type": "code",
   "execution_count": null,
   "metadata": {},
   "outputs": [],
   "source": [
    "20. Write a Python program to slice a tuple.\n",
    "    Data: \n",
    "        x = (11, 22, 33, 44, 55, 66, 77, 88, 99)\n",
    "    Expected Output:\n",
    "        (11, 22, 33, 44, 55, 66, 77, 88, 99)\n",
    "        (33, 44, 55)\n",
    "        (11, 22, 33, 44)\n",
    "        (55, 66, 77, 88, 99)\n",
    "        (55, 66, 77, 88)\n",
    "        (11, 22, 33, 44, 55, 66, 77, 88, 99)\n",
    "        \n",
    "        \n",
    "        \n",
    "        "
   ]
  },
  {
   "cell_type": "code",
   "execution_count": 21,
   "metadata": {},
   "outputs": [
    {
     "name": "stdout",
     "output_type": "stream",
     "text": [
      "(11, 22, 33, 44, 55, 66, 77, 88, 99)\n",
      "(33, 44, 55)\n",
      "(11, 22, 33, 44)\n",
      "(55, 66, 77, 88, 99)\n",
      "(55, 66, 77, 88)\n",
      "(11, 22, 33, 44, 55, 66, 77, 88, 99)\n"
     ]
    }
   ],
   "source": [
    "x = (11, 22, 33, 44, 55, 66, 77, 88, 99)\n",
    "print(x)\n",
    "print(x[2:5])\n",
    "print(x[:4])\n",
    "print(x[4:])\n",
    "print(x[4:8])\n",
    "print(x)"
   ]
  }
 ],
 "metadata": {
  "kernelspec": {
   "display_name": "Python 3 (ipykernel)",
   "language": "python",
   "name": "python3"
  },
  "language_info": {
   "codemirror_mode": {
    "name": "ipython",
    "version": 3
   },
   "file_extension": ".py",
   "mimetype": "text/x-python",
   "name": "python",
   "nbconvert_exporter": "python",
   "pygments_lexer": "ipython3",
   "version": "3.9.13"
  }
 },
 "nbformat": 4,
 "nbformat_minor": 4
}
