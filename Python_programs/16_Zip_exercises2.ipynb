{
 "cells": [
  {
   "cell_type": "code",
   "execution_count": null,
   "metadata": {},
   "outputs": [],
   "source": [
    "1. Write a python program to unzip the values and store it separate variables.\n",
    "    Data:\n",
    "        [('x', 3), ('y', 4), ('z', 5)]\n",
    "    Expected Output:\n",
    "        [('x', 3), ('y', 4), ('z', 5)]\n",
    "        c = ('x', 'y', 'z')\n",
    "        v = (3, 4, 5)\n",
    "        \n",
    "        \n",
    "        \n",
    "        "
   ]
  },
  {
   "cell_type": "code",
   "execution_count": 2,
   "metadata": {},
   "outputs": [
    {
     "name": "stdout",
     "output_type": "stream",
     "text": [
      "[('x', 3), ('y', 4), ('z', 5)]\n",
      "c= ('x', 'y', 'z')\n",
      "v= (3, 4, 5)\n"
     ]
    }
   ],
   "source": [
    "x=[('x', 3), ('y', 4), ('z', 5)]\n",
    "a=tuple(zip(*x))\n",
    "c=a[0]\n",
    "v=a[1]\n",
    "print(x)\n",
    "print('c=',c)\n",
    "print('v=',v)"
   ]
  },
  {
   "cell_type": "code",
   "execution_count": null,
   "metadata": {},
   "outputs": [],
   "source": [
    "2. Write a python program to zip lists of different lengths using cycle().\n",
    "    Data:\n",
    "        ['Carol', 'Ross', 'Rachel']\n",
    "        [ 100, 34, 87, 23, 65 ]\n",
    "    Expected Output:\n",
    "        [('Carol', 100), ('Ross', 34), ('Rachel', 87), ('Carol', 23), ('Ross', 65)]\n",
    "\n",
    "        \n",
    "        \n",
    "        "
   ]
  },
  {
   "cell_type": "code",
   "execution_count": 3,
   "metadata": {},
   "outputs": [
    {
     "name": "stdout",
     "output_type": "stream",
     "text": [
      "[('Carol', 100), ('Ross', 34), ('Rachel', 87), ('Carol', 23), ('Ross', 65)]\n"
     ]
    }
   ],
   "source": [
    "from itertools import cycle\n",
    "l1 = ['Carol', 'Ross', 'Rachel']\n",
    "l2 = [ 100, 34, 87, 23, 65 ]\n",
    "l = list(zip(cycle(l1),l2))\n",
    "print(l)"
   ]
  },
  {
   "cell_type": "code",
   "execution_count": null,
   "metadata": {},
   "outputs": [],
   "source": [
    "3. Write a python program to zip two lists of lists using itertools.chain() + zip() functions.\n",
    "    Data:\n",
    "        [[2, 4], [6, 8], [10, 12]]\n",
    "        [[1, 3], [5, 7], [9, 11]]\n",
    "    Expected Output:\n",
    "        [[2, 4, 1, 3], [6, 8, 5, 7], [10, 12, 9, 11]]\n",
    "        \n",
    "        \n",
    "        \n"
   ]
  },
  {
   "cell_type": "code",
   "execution_count": 4,
   "metadata": {},
   "outputs": [
    {
     "name": "stdout",
     "output_type": "stream",
     "text": [
      "[[2, 4, 1, 3], [6, 8, 5, 7], [10, 12, 9, 11]]\n"
     ]
    }
   ],
   "source": [
    "import itertools\n",
    "l1 = [[2, 4], [6, 8], [10, 12]]\n",
    "l2 = [[1, 3], [5, 7], [9, 11]]\n",
    "op = [list(itertools.chain(*i)) for i in zip(l1,l2)]\n",
    "print(op)"
   ]
  },
  {
   "cell_type": "code",
   "execution_count": null,
   "metadata": {},
   "outputs": [],
   "source": [
    "4. Write a Python program to split a given dictionary of lists into list of dictionaries using zip() function.\n",
    "    Data:\n",
    "        marks = {'Science': [98, 19, 22, 55], 'Language': [67, 18, 34, 90]}\n",
    "    Expected Output:\n",
    "        Split said dictionary of lists into list of dictionaries:\n",
    "        [{'Science': 98, 'Language': 67}, {'Science': 19, 'Language': 18}, {'Science': 22, 'Language': 34}, \n",
    "         {'Science': 55, 'Language': 90}]\n",
    "        \n",
    "        \n",
    "        \n",
    "        "
   ]
  },
  {
   "cell_type": "code",
   "execution_count": 5,
   "metadata": {},
   "outputs": [
    {
     "name": "stdout",
     "output_type": "stream",
     "text": [
      "Original dictionary: {'Science': [98, 19, 22, 55], 'Language': [67, 18, 34, 90]}\n",
      "Changed list of dictionaries:\n",
      " [{'Science': 98, 'Language': 67}, {'Science': 19, 'Language': 18}, {'Science': 22, 'Language': 34}, {'Science': 55, 'Language': 90}]\n"
     ]
    }
   ],
   "source": [
    "marks = {'Science': [98, 19, 22, 55], 'Language': [67, 18, 34, 90]}\n",
    "print(\"Original dictionary:\",marks)\n",
    "lod=[dict(zip(marks,i)) for i in zip(*marks.values())]\n",
    "print(\"Changed list of dictionaries:\\n\",lod)\n",
    "\n"
   ]
  },
  {
   "cell_type": "code",
   "execution_count": null,
   "metadata": {},
   "outputs": [],
   "source": [
    "5. Write a Python program to print following output from given list using enumerate() and zip() functions.\n",
    "    Data:\n",
    "        names = ['Boss', 'Suresh', 'Siva']\n",
    "        ages = [24, 50, 18]\n",
    "    Expected Output:\n",
    "        0 Boss 24\n",
    "        1 Suresh 50\n",
    "        2 Siva 18\n",
    "        \n",
    "        \n",
    "        \n",
    "        "
   ]
  },
  {
   "cell_type": "code",
   "execution_count": 6,
   "metadata": {},
   "outputs": [
    {
     "name": "stdout",
     "output_type": "stream",
     "text": [
      "0 Boss 24\n",
      "1 Suresh 50\n",
      "2 Siva 18\n"
     ]
    }
   ],
   "source": [
    "names = ['Boss', 'Suresh', 'Siva']\n",
    "ages = [24, 50, 18]\n",
    "for i ,(name,age) in enumerate(zip(names,ages)):\n",
    "    print(i ,name ,age)"
   ]
  },
  {
   "cell_type": "code",
   "execution_count": null,
   "metadata": {},
   "outputs": [],
   "source": [
    "6. Write a python function to zip one key-value pair from dictionary and correspoinding item in a list together.\n",
    "    Data:\n",
    "        {'A':1, 'B':2, 'C':3}\n",
    "    Expected Output:\n",
    "        <zip object at 0x00000285E6345300>\n",
    "        [(('A', 1), 1), (('B', 2), 2), (('C', 3), 3)]\n",
    "        \n",
    "        \n",
    "        \n",
    "        "
   ]
  },
  {
   "cell_type": "code",
   "execution_count": 7,
   "metadata": {},
   "outputs": [
    {
     "name": "stdout",
     "output_type": "stream",
     "text": [
      "<zip object at 0x000001EF5BC35C80>\n",
      "[(('A', 1), 1), (('B', 2), 2), (('C', 3), 3)]\n"
     ]
    }
   ],
   "source": [
    "d={'A':1,'B':2,'C':3}\n",
    "l=zip(d.items(),d.values())\n",
    "print(l)\n",
    "print(list(l))"
   ]
  },
  {
   "cell_type": "code",
   "execution_count": null,
   "metadata": {},
   "outputs": [],
   "source": [
    "7. Write a Python program to map two lists into a dictionary using zip() functions.\n",
    "    Data:\n",
    "        keys = ['red', 'green', 'blue']\n",
    "        values = ['#FF0000','#008000', '#0000FF']\n",
    "    Expected Output:\n",
    "        {'red': '#FF0000', 'green': '#008000', 'blue': '#0000FF'}\n",
    "        \n",
    "        \n",
    "        \n",
    "        "
   ]
  },
  {
   "cell_type": "code",
   "execution_count": 9,
   "metadata": {},
   "outputs": [
    {
     "name": "stdout",
     "output_type": "stream",
     "text": [
      "{'red': '#FF0000', 'green': '#008000', 'blue': '#0000FF'}\n"
     ]
    }
   ],
   "source": [
    "keys = ['red', 'green', 'blue']\n",
    "values = ['#FF0000','#008000', '#0000FF']\n",
    "d=dict(zip(keys,values))\n",
    "print(d)"
   ]
  },
  {
   "cell_type": "code",
   "execution_count": null,
   "metadata": {},
   "outputs": [],
   "source": [
    "8. Write a Python program to demonstrate zipping of two different size of lists using itertools.cycle().\n",
    "    Data:\n",
    "        [7, 8, 4, 5, 9, 10] \n",
    "        [1, 5, 6]\n",
    "    Expected Output:\n",
    "        [(7, 1), (8, 5), (4, 6), (5, 1), (9, 5), (10, 6)]\n",
    "        \n",
    "        \n",
    "        \n",
    "        "
   ]
  },
  {
   "cell_type": "code",
   "execution_count": 10,
   "metadata": {},
   "outputs": [
    {
     "name": "stdout",
     "output_type": "stream",
     "text": [
      "The original list 1 is :  [7, 8, 4, 5, 9, 10]\n",
      "The original list 2 is :  [1, 5, 6]\n",
      "The zipped list is :  [(7, 1), (8, 5), (4, 6), (5, 1), (9, 5), (10, 6)]\n"
     ]
    }
   ],
   "source": [
    "from itertools import cycle\n",
    "l1 = [7, 8, 4, 5, 9, 10] \n",
    "l2 = [1, 5, 6]\n",
    "print(\"The original list 1 is : \",l1) \n",
    "print(\"The original list 2 is : \" ,l2) \n",
    "res = list(zip(l1,cycle(l2))if len(l1)>len(l2) else zip(cycle(l1),l2))\n",
    "print (\"The zipped list is : \",res)\n"
   ]
  },
  {
   "cell_type": "code",
   "execution_count": null,
   "metadata": {},
   "outputs": [],
   "source": [
    "9. Write a Python program to demonstrate zip uneven tuple using itertools.cycle().\n",
    "    Data:\n",
    "        ('boss', 'Mark', 'Jane')\n",
    "        (100, 34, 87, 23, 65)\n",
    "    Expected Output:\n",
    "        The original tuple 1 is : ('boss', 'Mark', 'Jane')\n",
    "        The original tuple 2 is : (100, 34, 87, 23, 65)\n",
    "        The zipped tuple is : [('boss', 100), ('Mark', 34), ('Jane', 87), ('boss', 23), ('Mark', 65)]\n",
    "            \n",
    "            \n",
    "            \n",
    "            "
   ]
  },
  {
   "cell_type": "code",
   "execution_count": 11,
   "metadata": {},
   "outputs": [
    {
     "name": "stdout",
     "output_type": "stream",
     "text": [
      "The original tuple 1 is :  ('boss', 'Mark', 'Jane')\n",
      "The original tuple 2 is :  (100, 34, 87, 23, 65)\n",
      "The zipped tuple is :  [('boss', 100), ('Mark', 34), ('Jane', 87), ('boss', 23), ('Mark', 65)]\n"
     ]
    }
   ],
   "source": [
    "from itertools import cycle\n",
    "t1 = ('boss', 'Mark', 'Jane')\n",
    "t2 = (100, 34, 87, 23, 65)\n",
    "print(\"The original tuple 1 is : \",t1) \n",
    "print(\"The original tuple 2 is : \" ,t2) \n",
    "res = list(zip(t1,cycle(t2))if len(t1)>len(t2) else zip(cycle(t1),t2))\n",
    "print (\"The zipped tuple is : \",res)\n",
    "\n"
   ]
  },
  {
   "cell_type": "code",
   "execution_count": null,
   "metadata": {},
   "outputs": [],
   "source": [
    "10. Write a Python program to demonstrate the working of zip() function.\n",
    "    Data:\n",
    "        name = [ \"Suresh\", \"Nikhil\", \"Shambhavi\", \"Astha\" ] \n",
    "        roll_no = [ 4, 1, 3, 2 ] \n",
    "        marks = [ 40, 50, 60, 70 ] \n",
    "    Expected Output:\n",
    "        {('Nikhil', 1, 50), ('Shambhavi', 3, 60), ('Suresh', 4, 40), ('Astha', 2, 70)}\n",
    "        \n",
    "        \n",
    "        \n",
    "        "
   ]
  },
  {
   "cell_type": "code",
   "execution_count": 12,
   "metadata": {},
   "outputs": [
    {
     "name": "stdout",
     "output_type": "stream",
     "text": [
      "The individual lists are:\n",
      "Name : ['Suresh', 'Nikhil', 'Shambhavi', 'Astha']\n",
      "Roll no. :  [4, 1, 3, 2]\n",
      "Marks : [40, 50, 60, 70]\n",
      "After zipping the individual lists:\n",
      " {('Nikhil', 1, 50), ('Astha', 2, 70), ('Shambhavi', 3, 60), ('Suresh', 4, 40)}\n"
     ]
    }
   ],
   "source": [
    "# Program to demonstrate how zip() works\n",
    "name = [ \"Suresh\", \"Nikhil\", \"Shambhavi\", \"Astha\" ] #list1\n",
    "roll_no = [ 4, 1, 3, 2 ]                            #list2\n",
    "marks = [ 40, 50, 60, 70 ]                          #list3\n",
    "print(\"The individual lists are:\")\n",
    "print(\"Name :\",name)\n",
    "print(\"Roll no. : \",roll_no)\n",
    "print(\"Marks :\",marks)\n",
    "d=set(zip(name,roll_no,marks))\n",
    "print(\"After zipping the individual lists:\\n\",d)"
   ]
  }
 ],
 "metadata": {
  "kernelspec": {
   "display_name": "Python 3 (ipykernel)",
   "language": "python",
   "name": "python3"
  },
  "language_info": {
   "codemirror_mode": {
    "name": "ipython",
    "version": 3
   },
   "file_extension": ".py",
   "mimetype": "text/x-python",
   "name": "python",
   "nbconvert_exporter": "python",
   "pygments_lexer": "ipython3",
   "version": "3.9.13"
  }
 },
 "nbformat": 4,
 "nbformat_minor": 4
}
