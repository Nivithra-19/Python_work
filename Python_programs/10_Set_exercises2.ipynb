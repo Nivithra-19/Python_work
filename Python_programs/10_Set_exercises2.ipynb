{
 "cells": [
  {
   "cell_type": "code",
   "execution_count": null,
   "id": "1560dc2b",
   "metadata": {},
   "outputs": [],
   "source": [
    "'''1. Write a Python program to check if two given sets have no elements in common. Return True if no common element, False if has common elements.\n",
    "    Data:\n",
    "        a = {1,2,3,4}\n",
    "        b = {4,5,6,7}\n",
    "        c = {8}\n",
    "    Expected Output:\n",
    "        Compare a and b: False\n",
    "        Compare a and c: True\n",
    "        Compare b and c: True    '''\n",
    "            "
   ]
  },
  {
   "cell_type": "code",
   "execution_count": 1,
   "id": "52fcd8b8",
   "metadata": {},
   "outputs": [
    {
     "name": "stdout",
     "output_type": "stream",
     "text": [
      "check if 2 sets have common elements\n",
      "set1: {1, 2, 3, 4} \n",
      "set2: {4, 5, 6, 7} \n",
      "set3: {8}\n",
      "Comparison of set 1 & 2: False\n",
      "Comparison of set 1 & 3: True\n",
      "Comparison of set 2 & 3: True\n"
     ]
    }
   ],
   "source": [
    "a = {1,2,3,4}\n",
    "b = {4,5,6,7}\n",
    "c = {8}\n",
    "print(\"check if 2 sets have common elements\\nset1:\",a,\"\\nset2:\",b,\"\\nset3:\",c)\n",
    "print(\"Comparison of set 1 & 2:\",a.isdisjoint(b))\n",
    "print(\"Comparison of set 1 & 3:\",a.isdisjoint(c))\n",
    "print(\"Comparison of set 2 & 3:\",b.isdisjoint(c))"
   ]
  },
  {
   "cell_type": "code",
   "execution_count": null,
   "id": "c57fc861",
   "metadata": {},
   "outputs": [],
   "source": [
    "'''2. Write a Python program to check if a given value is present in a set or not. \n",
    "    Data:\n",
    "        {1, 4, 5, 6, 11, 80, 20, 23} \n",
    "    Expected Output:\n",
    "        Test if 11 exists in nums: True\n",
    "        Test if 6 is not in nums:  True\n",
    "        Test if 7 exists in nums:  False\n",
    "            \n",
    "'''"
   ]
  },
  {
   "cell_type": "code",
   "execution_count": 2,
   "id": "716e9c3c",
   "metadata": {},
   "outputs": [
    {
     "name": "stdout",
     "output_type": "stream",
     "text": [
      "The set: {1, 4, 5, 6, 11, 80, 20, 23}\n",
      "Enter no to check:11\n",
      "Test if 11 exists in the set: True\n"
     ]
    }
   ],
   "source": [
    "x={1,4,5,6,11,80,20,23}\n",
    "print(\"The set:\",x)\n",
    "\n",
    "num=int(input(\"Enter no to check:\"))\n",
    "print(\"Test if\",num,\"exists in the set:\",num in x)"
   ]
  },
  {
   "cell_type": "code",
   "execution_count": null,
   "id": "aa279628",
   "metadata": {},
   "outputs": [],
   "source": [
    "'''3. Write a Python program to print the following output from the given list x, y using frozenset().\n",
    "    Data:\n",
    "        x =[1, 2, 3, 4, 5]\n",
    "        y =[3, 4, 5, 6, 7]\n",
    "    Expected Output:\n",
    "        False\n",
    "        frozenset({1, 2})\n",
    "        frozenset({1, 2, 3, 4, 5, 6, 7})\n",
    "        '''"
   ]
  },
  {
   "cell_type": "code",
   "execution_count": 3,
   "id": "037853c5",
   "metadata": {},
   "outputs": [
    {
     "name": "stdout",
     "output_type": "stream",
     "text": [
      "frozenset({1, 2, 3, 4, 5})\n",
      "frozenset({3, 4, 5, 6, 7})\n",
      "frozenset({1, 2, 3, 4, 5, 6, 7})\n"
     ]
    }
   ],
   "source": [
    "x =[1, 2, 3, 4, 5]\n",
    "y =[3, 4, 5, 6, 7]\n",
    "a=frozenset(x)\n",
    "b=frozenset(y)\n",
    "print(a)\n",
    "print(b)\n",
    "print(a|b)"
   ]
  },
  {
   "cell_type": "code",
   "execution_count": null,
   "id": "b57ae7b9",
   "metadata": {},
   "outputs": [],
   "source": [
    "''' 4. Write a Python program to print the following output from given set x={5, 7}, y={3, 2}, z=set() find the Expected Output.\n",
    "    Expected Output:\n",
    "        {(5, 3), (7, 3), (7, 2), (5, 2)} '''"
   ]
  },
  {
   "cell_type": "code",
   "execution_count": 6,
   "id": "0e6d72f3",
   "metadata": {},
   "outputs": [
    {
     "name": "stdout",
     "output_type": "stream",
     "text": [
      "Set1: {5, 7} Set2: {2, 3}\n",
      "Set3: {(5, 3), (7, 3), (7, 2), (5, 2)}\n"
     ]
    }
   ],
   "source": [
    "x = {5,7}\n",
    "y = {3,2}\n",
    "print(\"Set1:\",x, \"Set2:\",y)\n",
    "z=set()\n",
    "for i in x:\n",
    "    for j in y:\n",
    "        z.add((i,j))\n",
    "        #i+=1\n",
    "        j+=1\n",
    "print(\"Set3:\",z)"
   ]
  },
  {
   "cell_type": "code",
   "execution_count": null,
   "id": "60996716",
   "metadata": {},
   "outputs": [],
   "source": [
    "''' 5. Write a Python program to count the elements in a list until an element is a set.\n",
    "    Data:\n",
    "        x = [10,20,30,{10,20},40]\n",
    "    Expected Output:\n",
    "        2 '''"
   ]
  },
  {
   "cell_type": "code",
   "execution_count": 5,
   "id": "2039524a",
   "metadata": {},
   "outputs": [
    {
     "name": "stdout",
     "output_type": "stream",
     "text": [
      "3\n"
     ]
    }
   ],
   "source": [
    "x = [10,20,30,{10,20},40]\n",
    "c=0\n",
    "for i in x:\n",
    "    if isinstance(i,set):\n",
    "        break\n",
    "    c+=1\n",
    "    \n",
    "print(c)"
   ]
  },
  {
   "cell_type": "code",
   "execution_count": null,
   "id": "ddde5e0d",
   "metadata": {},
   "outputs": [],
   "source": [
    "'''6. Write a Python program to multiply all the elements in a given set.\n",
    "    Data:\n",
    "        x = {4, 3, 2, 2, -1, 18}\n",
    "    Expected Output:\n",
    "        Original set : {2, 3, 4, 18, -1}\n",
    "        Product - multiplying all the numbers of the said set: -432  "
   ]
  },
  {
   "cell_type": "code",
   "execution_count": 6,
   "id": "6d62ab3b",
   "metadata": {},
   "outputs": [
    {
     "name": "stdout",
     "output_type": "stream",
     "text": [
      "The set: {2, 3, 4, 18, -1}\n",
      "Product of all elements in the set: -432\n"
     ]
    }
   ],
   "source": [
    " x = {4, 3, 2, 2, -1, 18}\n",
    "\n",
    "pro=1\n",
    "for i in x:\n",
    "    pro*=i;\n",
    "    \n",
    "print(\"The set:\",x)\n",
    "print(\"Product of all elements in the set:\",pro)"
   ]
  },
  {
   "cell_type": "code",
   "execution_count": null,
   "id": "7790c971",
   "metadata": {},
   "outputs": [],
   "source": [
    "'''7. Write a Python program to compute element-wise sum of given sets.\n",
    "    Data: \n",
    "        x = {1, 2, 3, 4}\n",
    "        y = {3, 5, 2, 1}\n",
    "        z = {2, 2, 3, 1}\n",
    "    Expected Output:\n",
    "        Original sets:\n",
    "            {1, 2, 3, 4}\n",
    "            {1, 2, 3, 5}\n",
    "            {1, 2, 3}\n",
    "        Element-wise sum of the said sets:\n",
    "            {9, 3, 6} '''\n",
    "        "
   ]
  },
  {
   "cell_type": "code",
   "execution_count": 7,
   "id": "458dbfb1",
   "metadata": {},
   "outputs": [
    {
     "name": "stdout",
     "output_type": "stream",
     "text": [
      "Set1: {1, 2, 3, 4}\n",
      "Set2: {1, 2, 3, 5}\n",
      "Set3: {1, 2, 3}\n",
      "Element-wise sum of the sets: {9, 3, 6}\n"
     ]
    }
   ],
   "source": [
    "x={1,2,3,4}\n",
    "y={1,2,3,5}\n",
    "z={1,2,3}\n",
    "print(\"Set1:\",x)\n",
    "print(\"Set2:\",y)\n",
    "print(\"Set3:\",z)\n",
    "set1= set(map(sum,zip(x,y,z)))\n",
    "print(\"Element-wise sum of the sets:\",set1)"
   ]
  },
  {
   "cell_type": "code",
   "execution_count": null,
   "id": "a1de8300",
   "metadata": {},
   "outputs": [],
   "source": [
    "'''8. Write a Python program to sum of all counts in a collections.\n",
    "    Data:\n",
    "        x = {2, 2, 4, 6, 6, 8, 6, 10, 4}\n",
    "    Expected Output:\n",
    "        5'''\n",
    "        "
   ]
  },
  {
   "cell_type": "code",
   "execution_count": 8,
   "id": "35b914a8",
   "metadata": {},
   "outputs": [
    {
     "name": "stdout",
     "output_type": "stream",
     "text": [
      "5\n"
     ]
    }
   ],
   "source": [
    "import collections\n",
    "x = {2, 2, 4, 6, 6, 8, 6, 10, 4}\n",
    "print(sum(collections.Counter(x).values()))"
   ]
  },
  {
   "cell_type": "code",
   "execution_count": null,
   "id": "dbb19969",
   "metadata": {},
   "outputs": [],
   "source": [
    "'''9. Write a Python program to create a bytearray from a set.\n",
    "    Data:\n",
    "        x = {10, 20, 56, 35, 17, 99}\n",
    "    Expected Output:\n",
    "        35\n",
    "        99\n",
    "        10\n",
    "        17\n",
    "        20\n",
    "        56\n",
    "        '''"
   ]
  },
  {
   "cell_type": "code",
   "execution_count": 1,
   "id": "8dac8365",
   "metadata": {},
   "outputs": [
    {
     "name": "stdout",
     "output_type": "stream",
     "text": [
      "The Set: {17, 99, 35, 20, 56, 10}\n",
      "The Bytearray:\n",
      "17 99 35 20 56 10 "
     ]
    }
   ],
   "source": [
    "x = {10, 20, 56, 35, 17, 99}\n",
    "print(\"The Set:\",x)\n",
    "ba = bytearray(x)\n",
    "print(\"The Bytearray:\")\n",
    "for i in ba:\n",
    "    print(i,end=\" \")"
   ]
  },
  {
   "cell_type": "code",
   "execution_count": null,
   "id": "63472d3e",
   "metadata": {},
   "outputs": [],
   "source": [
    "''' 10. Write a Python program to create the combinations of 3 digit combo to following given range(1000).\n",
    "    Expected Output:\n",
    "        999 '''"
   ]
  },
  {
   "cell_type": "code",
   "execution_count": 10,
   "id": "f31a024c",
   "metadata": {},
   "outputs": [
    {
     "name": "stdout",
     "output_type": "stream",
     "text": [
      "999\n"
     ]
    }
   ],
   "source": [
    "n = set([])\n",
    "for x in range(1000):\n",
    "    x=str(x).zfill(3)\n",
    "print(x)\n",
    "n.update(x)"
   ]
  },
  {
   "cell_type": "code",
   "execution_count": null,
   "id": "21b7d3c8",
   "metadata": {},
   "outputs": [],
   "source": [
    "'''11. Write a Python program to add two positive integers without using the '+' operator.\n",
    "    Data:\n",
    "        (2, 10)\n",
    "        (10, -20)\n",
    "        (-10, -20)\n",
    "    Expected Output:\n",
    "         12\n",
    "        -10\n",
    "        -30'''\n",
    "        "
   ]
  },
  {
   "cell_type": "code",
   "execution_count": 11,
   "id": "fff230d0",
   "metadata": {},
   "outputs": [
    {
     "name": "stdout",
     "output_type": "stream",
     "text": [
      "12\n",
      "-10\n",
      "-30\n"
     ]
    }
   ],
   "source": [
    "def oper(a, b):\n",
    "    while b != 0:\n",
    "        x = a & b\n",
    "        a = a ^ b\n",
    "        b = x << 1\n",
    "    return a\n",
    "print(oper(2, 10))\n",
    "print(oper(-20, 10))\n",
    "print(oper(-10, -20))\n"
   ]
  },
  {
   "cell_type": "code",
   "execution_count": null,
   "id": "c3367520",
   "metadata": {},
   "outputs": [],
   "source": [
    "''' 12. Write a Python program to find the digits which are absent in a given mobile number.\n",
    "    Data:\n",
    "        x = [0, 1, 2, 3, 4, 5, 6, 7, 8, 9]\n",
    "        Input:\n",
    "        [9,8,3,2,2,0,9,7,6,3]\n",
    "    Expected Output:\n",
    "        [1, 4, 5] '''"
   ]
  },
  {
   "cell_type": "code",
   "execution_count": 5,
   "id": "e8745905",
   "metadata": {},
   "outputs": [
    {
     "name": "stdout",
     "output_type": "stream",
     "text": [
      "Original Phone number [9, 8, 3, 2, 2, 0, 9, 7, 6, 3]\n",
      "Missing digits: [1, 4, 5]\n"
     ]
    }
   ],
   "source": [
    "def phnocheck(n):\n",
    "    ph = {0, 1, 2, 3, 4, 5, 6, 7, 8, 9}\n",
    "    n = set(int(i) for i in n)\n",
    "    missing = n.symmetric_difference(ph)\n",
    "    missing = sorted(missing)\n",
    "    return missing\n",
    "print(\"Original Phone number\",[9,8,3,2,2,0,9,7,6,3])\n",
    "print(\"Missing digits:\",phnocheck([9,8,3,2,2,0,9,7,6,3]))"
   ]
  },
  {
   "cell_type": "code",
   "execution_count": null,
   "id": "3f01ee31",
   "metadata": {},
   "outputs": [],
   "source": [
    "''' 13. Write a Python program to compute the digit number of sum of two given integers.\n",
    "    Data:\n",
    "        (a, b)=(89, 75)\n",
    "    Expected Output:\n",
    "        3 '''"
   ]
  },
  {
   "cell_type": "code",
   "execution_count": 13,
   "id": "1e6be105",
   "metadata": {},
   "outputs": [
    {
     "name": "stdout",
     "output_type": "stream",
     "text": [
      "Enter 2 digits:(a,b)\n",
      "89 75\n",
      "Number of digits present in the sum of a&b:\n",
      "3\n"
     ]
    }
   ],
   "source": [
    "print(\"Enter 2 digits:(a,b)\")\n",
    "a,b = map(int,input().split(\" \"))\n",
    "print(\"Number of digits present in the sum of a&b:\")\n",
    "print(len(str(a+b)))"
   ]
  },
  {
   "cell_type": "code",
   "execution_count": null,
   "id": "e89d9a12",
   "metadata": {},
   "outputs": [],
   "source": [
    "'''14. Write a Python program to find the difference between two given sets using difference() and - operator.\n",
    "    Data:\n",
    "        sn1 = {1, 2, 3, 4, 5}\n",
    "        sn2 = {4, 5, 6, 7, 8}\n",
    "    Expected Output:\n",
    "        Difference of sn1 and sn2 using difference(): {1, 2, 3}\n",
    "        Difference of sn2 and sn1 using difference(): {8, 6, 7}\n",
    "        Difference of sn1 and sn2 using - operator: {1, 2, 3}\n",
    "        Difference of sn2 and sn1 using - operator: {8, 6, 7}'''\n"
   ]
  },
  {
   "cell_type": "code",
   "execution_count": 14,
   "id": "e29d4a8b",
   "metadata": {},
   "outputs": [
    {
     "name": "stdout",
     "output_type": "stream",
     "text": [
      "Difference of set1 and set2 using difference(): {1, 2, 3}\n",
      "Difference of set2 and set1 using difference(): {8, 6, 7}\n",
      "Difference of set1 and set2 using - operator:  {1, 2, 3}\n",
      "Difference of set2 and set1 using - operator:  {8, 6, 7}\n"
     ]
    }
   ],
   "source": [
    "x = {1, 2, 3, 4, 5}\n",
    "y = {4, 5, 6, 7, 8}\n",
    "print(\"Difference of set1 and set2 using difference():\",x.difference(y))\n",
    "print(\"Difference of set2 and set1 using difference():\",y.difference(x))\n",
    "print(\"Difference of set1 and set2 using - operator: \",x-y)\n",
    "print(\"Difference of set2 and set1 using - operator: \",y-x)\n"
   ]
  },
  {
   "cell_type": "code",
   "execution_count": null,
   "id": "abe5a3a2",
   "metadata": {},
   "outputs": [],
   "source": [
    "'''15. Write a Python program to create set difference. \n",
    "    Data:\n",
    "        x = {\"apple\", \"orange\", \"mango\", \"kiwi\"}\n",
    "        y = {\"orange\", \"mango\", \"watermelon\"}\n",
    "    Expected Output:\n",
    "        Difference between x & y is : {'orange', 'mango'}\n",
    "        Difference between x - z is : {'apple', 'kiwi'}'''"
   ]
  },
  {
   "cell_type": "code",
   "execution_count": 17,
   "id": "099038b5",
   "metadata": {},
   "outputs": [
    {
     "name": "stdout",
     "output_type": "stream",
     "text": [
      "Difference between x & y is {'apple', 'kiwi'}\n",
      "Difference between y & x is {'watermelon'}\n"
     ]
    }
   ],
   "source": [
    "x = {\"apple\", \"orange\", \"mango\", \"kiwi\"}\n",
    "y = {\"orange\", \"mango\", \"watermelon\"}\n",
    "print(\"Difference between x & y is\",x.difference(y))\n",
    "print(\"Difference between y & x is\",y-x)"
   ]
  },
  {
   "cell_type": "code",
   "execution_count": null,
   "id": "0959726d",
   "metadata": {},
   "outputs": [],
   "source": [
    "'''16. Write a Python program to check whether a given set has no elements in common with another given set using isdisjoint().\n",
    "    Data:\n",
    "        {1, 2, 3}\n",
    "        {4, 5, 6}\n",
    "        {3}\n",
    "    Expected Output:\n",
    "        Check sn1 set has no elements in common with sn2 set:\n",
    "        True\n",
    "        Check sn1 set has no elements in common with sn3 set:\n",
    "        False\n",
    "        '''\n",
    "        "
   ]
  },
  {
   "cell_type": "code",
   "execution_count": 16,
   "id": "0a3a477b",
   "metadata": {},
   "outputs": [
    {
     "name": "stdout",
     "output_type": "stream",
     "text": [
      "set1: {1, 2, 3} \n",
      "set2: {4, 5, 6} \n",
      "set3: {3}\n",
      "Check set1 has no elements in common with set2:\n",
      "True\n",
      "Check set1 has no elements in common with set3:\n",
      "False\n"
     ]
    }
   ],
   "source": [
    "x={1,2,3}\n",
    "y={4,5,6}\n",
    "z={3}\n",
    "print(\"set1:\",x,\"\\nset2:\",y,\"\\nset3:\",z)\n",
    "print(\"Check set1 has no elements in common with set2:\")\n",
    "print(x.isdisjoint(y))\n",
    "print(\"Check set1 has no elements in common with set3:\")\n",
    "print(x.isdisjoint(z))\n"
   ]
  },
  {
   "cell_type": "code",
   "execution_count": null,
   "id": "bdebf39a",
   "metadata": {},
   "outputs": [],
   "source": [
    "'''17. Write a  Python Program to print the common letters present in the two given strings using set().\n",
    "    Data:\n",
    "        x = \"Hello\"\n",
    "        y = \"World\"\n",
    "    Expected Output:\n",
    "        The common letters are:\n",
    "            o\n",
    "            l'''\n",
    "        "
   ]
  },
  {
   "cell_type": "code",
   "execution_count": 18,
   "id": "6f5c011c",
   "metadata": {},
   "outputs": [
    {
     "name": "stdout",
     "output_type": "stream",
     "text": [
      "The strings:  Hello    World\n",
      "The common letters are:\n",
      "l\n",
      "o\n"
     ]
    }
   ],
   "source": [
    "x = \"Hello\"\n",
    "y = \"World\"\n",
    "print(\"The strings: \",x,\"  \",y)\n",
    "a = set(x)\n",
    "b = set(y)\n",
    "c = list(a.intersection(b))\n",
    "print(\"The common letters are:\")\n",
    "for i in c:\n",
    "    print(i)"
   ]
  },
  {
   "cell_type": "code",
   "execution_count": null,
   "id": "824cfe61",
   "metadata": {},
   "outputs": [],
   "source": [
    "'''18. Write a  Python Program to display the letters which are in the first string but not in the second string using set(). \n",
    "    Data:\n",
    "        x = \"Hello\"\n",
    "        y = \"World\"\n",
    "    Expected Output:\n",
    "        The letters are:\n",
    "            H\n",
    "            e'''\n",
    "        "
   ]
  },
  {
   "cell_type": "code",
   "execution_count": 19,
   "id": "0fcac7aa",
   "metadata": {},
   "outputs": [
    {
     "name": "stdout",
     "output_type": "stream",
     "text": [
      "The strings:  Hello    World\n",
      "The letters are:\n",
      "H\n",
      "e\n"
     ]
    }
   ],
   "source": [
    "x = \"Hello\"\n",
    "y = \"World\"\n",
    "print(\"The strings: \",x,\"  \",y)\n",
    "a,b = set(x),set(y)\n",
    "c = list(a-b)\n",
    "print(\"The letters are:\")\n",
    "for i in c:\n",
    "    print(i)"
   ]
  },
  {
   "cell_type": "code",
   "execution_count": null,
   "id": "6e746dc8",
   "metadata": {},
   "outputs": [],
   "source": [
    "'''19. Write Python Program to display the letters which are not in common from both the given strings using set(). \n",
    "    Data:\n",
    "        x = \"Hello\"\n",
    "        y = \"World\"\n",
    "    Expected Output:\n",
    "        The letters are:\n",
    "            W\n",
    "            H\n",
    "            d\n",
    "            e\n",
    "            r\n",
    "            '''\n",
    "        "
   ]
  },
  {
   "cell_type": "code",
   "execution_count": 20,
   "id": "e4aa79a5",
   "metadata": {},
   "outputs": [
    {
     "name": "stdout",
     "output_type": "stream",
     "text": [
      "The strings:  Hello    World\n",
      "The letters are:\n",
      "d\n",
      "W\n",
      "H\n",
      "r\n",
      "e\n"
     ]
    }
   ],
   "source": [
    "x = \"Hello\"\n",
    "y = \"World\"\n",
    "print(\"The strings: \",x,\"  \",y)\n",
    "a = list(set(x)^set(y))\n",
    "print(\"The letters are:\")\n",
    "for i in a:\n",
    "    print(i)"
   ]
  },
  {
   "cell_type": "code",
   "execution_count": null,
   "id": "acbfedf4",
   "metadata": {},
   "outputs": [],
   "source": [
    "'''20. Write a Python program to check if a set is a subset of another set.\n",
    "    Data:\n",
    "        1:  {'green', 'blue'}\n",
    "        2:  {'blue', 'red'}\n",
    "        3:  {'blue'}\n",
    "    Expected Output:\n",
    "        If 1 is subset of 2\n",
    "        False\n",
    "        False\n",
    "        If 2 is subset of 1\n",
    "        False\n",
    "        False\n",
    "        '''"
   ]
  },
  {
   "cell_type": "code",
   "execution_count": 21,
   "id": "d35e667e",
   "metadata": {},
   "outputs": [
    {
     "name": "stdout",
     "output_type": "stream",
     "text": [
      "1:  {'green', 'blue'}\n",
      "2:  {'red', 'blue'}\n",
      "3:  {'blue'}\n",
      "If 1 is subset of 2\n",
      "False\n",
      "False\n",
      "If 2 is subset of 1\n",
      "False\n",
      "False\n"
     ]
    }
   ],
   "source": [
    "color1=set([\"green\",\"blue\"])\n",
    "color2=set([\"red\",\"blue\"])\n",
    "color3=set([\"blue\"])\n",
    "print(\"1: \",color1)\n",
    "print(\"2: \",color2)\n",
    "print(\"3: \",color3)\n",
    "\n",
    "print(\"If 1 is subset of 2\")\n",
    "print(color1 <= color2)\n",
    "print(color1.issubset(color2))\n",
    "print(\"If 2 is subset of 1\")\n",
    "print(color2 <= color1)\n",
    "print(color2.issubset(color1))"
   ]
  }
 ],
 "metadata": {
  "kernelspec": {
   "display_name": "Python 3 (ipykernel)",
   "language": "python",
   "name": "python3"
  },
  "language_info": {
   "codemirror_mode": {
    "name": "ipython",
    "version": 3
   },
   "file_extension": ".py",
   "mimetype": "text/x-python",
   "name": "python",
   "nbconvert_exporter": "python",
   "pygments_lexer": "ipython3",
   "version": "3.9.13"
  }
 },
 "nbformat": 4,
 "nbformat_minor": 5
}
