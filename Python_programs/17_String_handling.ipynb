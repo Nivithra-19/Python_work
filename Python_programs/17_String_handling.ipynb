{
 "cells": [
  {
   "cell_type": "raw",
   "metadata": {},
   "source": [
    "1.Python Program to Replace all Occurrences of ‘a’ with $ in a String\n",
    "\n",
    "Given String = \"apple\""
   ]
  },
  {
   "cell_type": "code",
   "execution_count": 1,
   "metadata": {},
   "outputs": [
    {
     "name": "stdout",
     "output_type": "stream",
     "text": [
      "$pple\n"
     ]
    }
   ],
   "source": [
    "a = \"apple\"\n",
    "b = a.replace(\"a\",\"$\")\n",
    "print(b)"
   ]
  },
  {
   "cell_type": "raw",
   "metadata": {},
   "source": [
    "2.Python Program to Remove the 5th Index Character from a String"
   ]
  },
  {
   "cell_type": "code",
   "execution_count": 2,
   "metadata": {},
   "outputs": [
    {
     "name": "stdout",
     "output_type": "stream",
     "text": [
      "appl\n"
     ]
    }
   ],
   "source": [
    "a = \"apple\"\n",
    "b = a.replace(\"e\",\"\")\n",
    "print(b)"
   ]
  },
  {
   "cell_type": "raw",
   "metadata": {},
   "source": [
    "3.Python Program to Form a New String where the First Character and the Last Character have been Exchanged"
   ]
  },
  {
   "cell_type": "code",
   "execution_count": 3,
   "metadata": {},
   "outputs": [
    {
     "name": "stdout",
     "output_type": "stream",
     "text": [
      "Hello\n",
      "oellH\n"
     ]
    }
   ],
   "source": [
    "st = \"Hello\"\n",
    "print(st)\n",
    "start = st[0]\n",
    "end = st[-1]\n",
    "st2 = end + st[1:-1] + start\n",
    "print(st2)"
   ]
  },
  {
   "cell_type": "raw",
   "metadata": {},
   "source": [
    "4.Python Program to Count the Number of Vowels in a String"
   ]
  },
  {
   "cell_type": "code",
   "execution_count": 4,
   "metadata": {},
   "outputs": [
    {
     "name": "stdout",
     "output_type": "stream",
     "text": [
      "apple\n",
      "Count of vowels in string: 2\n"
     ]
    }
   ],
   "source": [
    "st = \"apple\"\n",
    "vowels = \"aeiou\"\n",
    "count = 0\n",
    "for i in range(len(st)):\n",
    "    if st[i] in vowels:\n",
    "            count += 1\n",
    "print(st)\n",
    "print(\"Count of vowels in string:\",count)"
   ]
  },
  {
   "cell_type": "raw",
   "metadata": {},
   "source": [
    "5.Python Program to Take in a String and Replace Every Blank Space with Hyphen"
   ]
  },
  {
   "cell_type": "code",
   "execution_count": 5,
   "metadata": {},
   "outputs": [
    {
     "name": "stdout",
     "output_type": "stream",
     "text": [
      "After replacing blank spaces: Python-is-a-programming-language\n"
     ]
    }
   ],
   "source": [
    "s = \"Python is a programming language\"\n",
    "s1=s.replace(\" \",\"-\")\n",
    "print(\"After replacing blank spaces:\",s1)"
   ]
  },
  {
   "cell_type": "raw",
   "metadata": {},
   "source": [
    "6.Python Program to Calculate the Length of a String Without Using a Library Function"
   ]
  },
  {
   "cell_type": "code",
   "execution_count": 6,
   "metadata": {},
   "outputs": [
    {
     "name": "stdout",
     "output_type": "stream",
     "text": [
      "Enter a string:Skills\n",
      "The string: Skills\n",
      "Length of string: 6\n"
     ]
    }
   ],
   "source": [
    "s=str(input(\"Enter a string:\"))\n",
    "l=0\n",
    "for i in s:\n",
    "    l+=1\n",
    "\n",
    "print(\"The string:\",s)\n",
    "print(\"Length of string:\",l)"
   ]
  },
  {
   "cell_type": "raw",
   "metadata": {},
   "source": [
    "7.Python Program to Remove the Characters of Odd Index Values in a String"
   ]
  },
  {
   "cell_type": "code",
   "execution_count": 7,
   "metadata": {},
   "outputs": [
    {
     "name": "stdout",
     "output_type": "stream",
     "text": [
      "Enter a string:StringHandling\n",
      "character at index 1 : t\n",
      "character at index 3 : i\n",
      "character at index 5 : g\n",
      "character at index 7 : a\n",
      "character at index 9 : d\n",
      "character at index 11 : i\n",
      "character at index 13 : g\n"
     ]
    }
   ],
   "source": [
    "s= str(input(\"Enter a string:\"))\n",
    "for i in range(0,len(s)):\n",
    "        if i%2 == 1:\n",
    "            print(\"character at index\",i,\":\",s[i])"
   ]
  },
  {
   "cell_type": "raw",
   "metadata": {},
   "source": [
    "8.Python Program to Calculate the Number of Words and the Number of Characters Present in a String"
   ]
  },
  {
   "cell_type": "code",
   "execution_count": 8,
   "metadata": {},
   "outputs": [
    {
     "name": "stdout",
     "output_type": "stream",
     "text": [
      "Hello World\n",
      "No of words in string: 2\n",
      "No of characters in string: 10\n"
     ]
    }
   ],
   "source": [
    "st = \"Hello World\"\n",
    "s1 = st.split()#split function converts the string with spaces into a list of strings\n",
    "s2 = st.replace(\" \",\"\")\n",
    "print(st)\n",
    "print(\"No of words in string:\",len(s1))\n",
    "print(\"No of characters in string:\",len(s2))"
   ]
  },
  {
   "cell_type": "raw",
   "metadata": {},
   "source": [
    "9.Python Program to Take in Two Strings and Display the Larger String without Using Built-in Functions"
   ]
  },
  {
   "cell_type": "code",
   "execution_count": 9,
   "metadata": {},
   "outputs": [
    {
     "name": "stdout",
     "output_type": "stream",
     "text": [
      "Enter string1:Python\n",
      "Enter string2:Source Code\n",
      "The larger string:\n",
      "Source Code\n"
     ]
    }
   ],
   "source": [
    "s1=str(input(\"Enter string1:\"))\n",
    "s2=str(input(\"Enter string2:\"))\n",
    "s1count=0\n",
    "s2count=0\n",
    "for i in s1:\n",
    "    s1count+=1\n",
    "for j in s2:\n",
    "    s2count+=1\n",
    "\n",
    "print(\"The larger string:\")\n",
    "if s1count>s2count:\n",
    "    print(s1)\n",
    "else:\n",
    "    print(s2)\n",
    "    "
   ]
  },
  {
   "cell_type": "raw",
   "metadata": {},
   "source": [
    "10.Python Program to Count Number of Lowercase Characters in a String"
   ]
  },
  {
   "cell_type": "code",
   "execution_count": 10,
   "metadata": {},
   "outputs": [
    {
     "name": "stdout",
     "output_type": "stream",
     "text": [
      "The String: Programming In Python\n",
      "No of lowercase characters: 16\n"
     ]
    }
   ],
   "source": [
    "s = \"Programming In Python\"\n",
    "print(\"The String:\",s)\n",
    "lc=0\n",
    "for i in range(0,len(s)):\n",
    "    if s[i].islower() == True:\n",
    "        lc+=1\n",
    "        \n",
    "print(\"No of lowercase characters:\",lc)"
   ]
  },
  {
   "cell_type": "raw",
   "metadata": {},
   "source": [
    "11.Python Program to Check if a String is a Palindrome or Not"
   ]
  },
  {
   "cell_type": "code",
   "execution_count": 11,
   "metadata": {},
   "outputs": [
    {
     "name": "stdout",
     "output_type": "stream",
     "text": [
      "Enter a string:malayalam\n",
      "malayalam is a palindrome string\n"
     ]
    }
   ],
   "source": [
    "def palin_check(s):\n",
    "    if  s == s[::-1]:\n",
    "        return True\n",
    "    else:\n",
    "        return False\n",
    "    \n",
    "st = str(input(\"Enter a string:\"))\n",
    "res = palin_check(st)\n",
    "if res:\n",
    "    print(st,\"is a palindrome string\")\n",
    "else :\n",
    "    print(st,\"is not a palindrome string\")"
   ]
  },
  {
   "cell_type": "raw",
   "metadata": {},
   "source": [
    "12.Python Program to Calculate the Number of Upper Case Letters and Lower Case Letters in a String"
   ]
  },
  {
   "cell_type": "code",
   "execution_count": 12,
   "metadata": {},
   "outputs": [
    {
     "name": "stdout",
     "output_type": "stream",
     "text": [
      "The String: if YOU want to lift YOURSELF Up , lift uP SOMEONE ELSE!\n",
      "No of Lowercase characters: 18\n",
      "No of Uppercase characters: 24\n"
     ]
    }
   ],
   "source": [
    "s = \"if YOU want to lift YOURSELF Up , lift uP SOMEONE ELSE!\"\n",
    "ucount=0\n",
    "lcount=0\n",
    "\n",
    "for i in range(0,len(s)):\n",
    "    if s[i].isupper() == True:\n",
    "        ucount+=1\n",
    "    if s[i].islower() == True:\n",
    "        lcount+=1\n",
    "        \n",
    "print(\"The String:\",s)\n",
    "print(\"No of Lowercase characters:\",lcount)\n",
    "print(\"No of Uppercase characters:\",ucount)\n"
   ]
  },
  {
   "cell_type": "raw",
   "metadata": {},
   "source": [
    "13.Python Program to Calculate the Number of Digits and Letters in a String"
   ]
  },
  {
   "cell_type": "code",
   "execution_count": 13,
   "metadata": {},
   "outputs": [
    {
     "name": "stdout",
     "output_type": "stream",
     "text": [
      "The string: India got independence from the British on 15 august 1947.\n",
      "No of digits in the string: 6\n",
      "No of letters in the string: 42\n"
     ]
    }
   ],
   "source": [
    "st=\"India got independence from the British on 15 august 1947.\"\n",
    "\n",
    "digcount=0\n",
    "lcount=0\n",
    "\n",
    "for i in range(0,len(st)):\n",
    "    if st[i].isalpha() == True:\n",
    "        lcount+=1\n",
    "    if st[i].isdigit() == True:\n",
    "        digcount+=1\n",
    "        \n",
    "print(\"The string:\",st)\n",
    "print(\"No of digits in the string:\",digcount)\n",
    "print(\"No of letters in the string:\",lcount)"
   ]
  },
  {
   "cell_type": "raw",
   "metadata": {},
   "source": [
    "14.Python Program to Form a New String Made of the First 2 and Last 2 characters From a Given String"
   ]
  },
  {
   "cell_type": "code",
   "execution_count": 14,
   "metadata": {},
   "outputs": [
    {
     "name": "stdout",
     "output_type": "stream",
     "text": [
      "Enter a string:Machine\n",
      "The string: Machine\n",
      "Newly formed string: Mane\n"
     ]
    }
   ],
   "source": [
    "s=str(input(\"Enter a string:\"))\n",
    "s1=\"\"\n",
    "s1+=s[0:2]\n",
    "s1+=s[-2:]\n",
    "print(\"The string:\",s)\n",
    "print(\"Newly formed string:\",s1)"
   ]
  },
  {
   "cell_type": "raw",
   "metadata": {},
   "source": [
    "15.Python Program to Count the Occurrences of Each Word in a Given String Sentence\n",
    "\n",
    "\"Everybody is selfish , the ratio differs , time to time , person to person!\"\n",
    "\n",
    "count the occurence of \"time\""
   ]
  },
  {
   "cell_type": "code",
   "execution_count": 15,
   "metadata": {},
   "outputs": [
    {
     "name": "stdout",
     "output_type": "stream",
     "text": [
      "Enter String:Everybody is selfish , the ratio differs , time to time , person to person!\n",
      "Enter the word to count occurrence:time\n",
      "\n",
      "THE NUMBER OF OCCURRENCE OF THE WORD time is 2\n"
     ]
    }
   ],
   "source": [
    "def wordoccurences(n, p):\n",
    "    x = n.split(\" \")\n",
    "    c = 0\n",
    "    for i in range(0, len(x)):\n",
    "        if (p == x[i]):\n",
    "            c = c + 1\n",
    "    return c       \n",
    "\n",
    "n=str(input(\"Enter String:\"))\n",
    "p=str(input(\"Enter the word to count occurrence:\"))\n",
    "print(\"\")\n",
    "print(\"THE NUMBER OF OCCURRENCE OF THE WORD\",p,\"is\",wordoccurences(n, p))\n"
   ]
  }
 ],
 "metadata": {
  "kernelspec": {
   "display_name": "Python 3 (ipykernel)",
   "language": "python",
   "name": "python3"
  },
  "language_info": {
   "codemirror_mode": {
    "name": "ipython",
    "version": 3
   },
   "file_extension": ".py",
   "mimetype": "text/x-python",
   "name": "python",
   "nbconvert_exporter": "python",
   "pygments_lexer": "ipython3",
   "version": "3.9.13"
  }
 },
 "nbformat": 4,
 "nbformat_minor": 2
}
