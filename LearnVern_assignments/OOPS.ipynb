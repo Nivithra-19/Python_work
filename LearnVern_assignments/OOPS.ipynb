{
 "cells": [
  {
   "cell_type": "markdown",
   "id": "088df1d1",
   "metadata": {},
   "source": [
    "# OOPS"
   ]
  },
  {
   "cell_type": "code",
   "execution_count": null,
   "id": "54eb1f1b",
   "metadata": {},
   "outputs": [],
   "source": [
    "1. Python program to create Vehicle class and call the method of the class."
   ]
  },
  {
   "cell_type": "code",
   "execution_count": 1,
   "id": "fd08d4ba",
   "metadata": {},
   "outputs": [
    {
     "name": "stdout",
     "output_type": "stream",
     "text": [
      "Speed is 20 kmph\n"
     ]
    }
   ],
   "source": [
    "class Vehicle:\n",
    "    s = 20\n",
    "    def speed(self):\n",
    "        print(\"Speed is\",self.s,\"kmph\")\n",
    "        \n",
    "v = Vehicle()\n",
    "v.speed()"
   ]
  },
  {
   "cell_type": "code",
   "execution_count": null,
   "id": "43add5bc",
   "metadata": {},
   "outputs": [],
   "source": [
    "2. Python program to create Vehicle class and create a method without any body."
   ]
  },
  {
   "cell_type": "code",
   "execution_count": 2,
   "id": "bdedfed2",
   "metadata": {},
   "outputs": [
    {
     "data": {
      "text/plain": [
       "<__main__.Vehicle at 0x16b33433430>"
      ]
     },
     "execution_count": 2,
     "metadata": {},
     "output_type": "execute_result"
    }
   ],
   "source": [
    "class Vehicle:\n",
    "    def nobod(self):\n",
    "        pass\n",
    "v = Vehicle()\n",
    "v"
   ]
  },
  {
   "cell_type": "markdown",
   "id": "14c48c82",
   "metadata": {},
   "source": [
    "# INHERITANCE "
   ]
  },
  {
   "cell_type": "code",
   "execution_count": null,
   "id": "0d8926ee",
   "metadata": {},
   "outputs": [],
   "source": [
    "3. Python program to demonstrate Single level inheritance."
   ]
  },
  {
   "cell_type": "code",
   "execution_count": 3,
   "id": "3bb5205b",
   "metadata": {},
   "outputs": [
    {
     "name": "stdout",
     "output_type": "stream",
     "text": [
      "Volvo Bus\n"
     ]
    }
   ],
   "source": [
    "class Vehicle:\n",
    "    def __init__(self, name, typ):\n",
    "        self.name = name\n",
    "        self.typ = typ\n",
    "\n",
    "    def printveh(self):\n",
    "        print(self.name, self.typ)\n",
    "\n",
    "class Bus(Vehicle):\n",
    "    def __init__(self, name, typ):\n",
    "        Vehicle.__init__(self, name, typ)\n",
    "\n",
    "x = Bus(\"Volvo\", \"Bus\")\n",
    "x.printveh()"
   ]
  },
  {
   "cell_type": "code",
   "execution_count": null,
   "id": "11d47d41",
   "metadata": {},
   "outputs": [],
   "source": [
    "4. Python program to demonstrate Multiple inheritance."
   ]
  },
  {
   "cell_type": "code",
   "execution_count": 4,
   "id": "2be35840",
   "metadata": {},
   "outputs": [
    {
     "name": "stdout",
     "output_type": "stream",
     "text": [
      "Enter length: 12\n",
      "Enter breadth: 10\n",
      "Length: 12 \n",
      "Breadth: 10 \n",
      "Area of Rectangle: 120\n"
     ]
    }
   ],
   "source": [
    "class Length:\n",
    "    def __init__(self, l):\n",
    "        self.l = l\n",
    "\n",
    "    def le(self):\n",
    "        return self.l\n",
    "\n",
    "class Breadth:\n",
    "    def __init__(self, b):\n",
    "        self.b = b\n",
    "\n",
    "    def be(self):\n",
    "        return self.b\n",
    "\n",
    "class Rectangle(Length, Breadth):\n",
    "    def __init__(self, l, b):\n",
    "        Length.__init__(self, l)  \n",
    "        Breadth.__init__(self, b) \n",
    "        self.l = l\n",
    "        self.b = b\n",
    "\n",
    "    def area(self):\n",
    "        print(\"Length:\", self.l, \"\\nBreadth:\", self.b, \"\\nArea of Rectangle:\", self.l * self.b)\n",
    "\n",
    "l = int(input('Enter length: '))\n",
    "b = int(input('Enter breadth: '))\n",
    "rect = Rectangle(l, b)\n",
    "rect.area()\n"
   ]
  },
  {
   "cell_type": "code",
   "execution_count": null,
   "id": "0e6a7994",
   "metadata": {},
   "outputs": [],
   "source": [
    "5. Python program to demonstrate Multi-level inheritance."
   ]
  },
  {
   "cell_type": "code",
   "execution_count": 5,
   "id": "b3c3eb25",
   "metadata": {},
   "outputs": [
    {
     "name": "stdout",
     "output_type": "stream",
     "text": [
      "Employee Name: Nivi\n",
      "Salary: 75000\n",
      "Designation: TL\n"
     ]
    }
   ],
   "source": [
    "class Employee:\n",
    "    def __init__(self,name):\n",
    "        self.name = name\n",
    "    \n",
    "    def show_name(self):\n",
    "        print(\"Employee Name:\",self.name)\n",
    "        \n",
    "class Salary(Employee):\n",
    "    def __init__(self,name,sal):\n",
    "        super().__init__(name)\n",
    "        self.sal=sal\n",
    "    \n",
    "    def show_salry(self):\n",
    "        print(\"Salary:\",self.sal)\n",
    "        \n",
    "class Design(Salary):\n",
    "    def __init__(self,name,sal,desig):\n",
    "        super().__init__(name,sal)\n",
    "        self.desig=desig\n",
    "    \n",
    "    def show_des(self):\n",
    "        print(\"Designation:\",self.desig)\n",
    "        \n",
    "d = Design(\"Nivi\",75000,\"TL\")\n",
    "d.show_name()\n",
    "d.show_salry()\n",
    "d.show_des()"
   ]
  },
  {
   "cell_type": "code",
   "execution_count": null,
   "id": "dfe21153",
   "metadata": {},
   "outputs": [],
   "source": [
    "6. Python program to demonstrate Hierarchical inheritance."
   ]
  },
  {
   "cell_type": "code",
   "execution_count": 6,
   "id": "64e05c0c",
   "metadata": {},
   "outputs": [
    {
     "name": "stdout",
     "output_type": "stream",
     "text": [
      "Enter value of first number:10\n",
      "Enter value of second number:2\n",
      "10 + 2 = 12\n",
      "10 - 2 = 8\n",
      "10 * 2 = 20\n",
      "10 / 2 = 5.0\n"
     ]
    }
   ],
   "source": [
    "class Cal:\n",
    "    def __init__(self,a,b):\n",
    "        self.a=a\n",
    "        self.b=b\n",
    "        \n",
    "class Addition(Cal):\n",
    "    def __init__(self,a,b):\n",
    "        super().__init__(a,b)\n",
    "    def add(self):\n",
    "        print(self.a,\"+\",self.b,\"=\",self.a+self.b)\n",
    "        \n",
    "class Subtraction(Cal):\n",
    "    def __init__(self,a,b):\n",
    "        Cal.__init__(self,a,b)\n",
    "    def sub(self):\n",
    "        print(self.a,\"-\",self.b,\"=\",self.a-self.b)\n",
    "        \n",
    "class Multiplication(Cal):\n",
    "    def __init__(self,a,b):\n",
    "        super().__init__(a,b)\n",
    "    def pro(self):\n",
    "        print(self.a,\"*\",self.b,\"=\",self.a*self.b)\n",
    "        \n",
    "class Division(Cal):\n",
    "    def __init__(self,a,b):\n",
    "        Cal.__init__(self,a,b)\n",
    "    def div(self):\n",
    "        print(self.a,\"/\",self.b,\"=\",self.a/self.b)\n",
    "        \n",
    "        \n",
    "n1 = int(input(\"Enter value of first number:\"))\n",
    "n2 = int(input(\"Enter value of second number:\"))\n",
    "\n",
    "a  = Addition(n1,n2)\n",
    "a.add()\n",
    "\n",
    "b = Subtraction(n1,n2)\n",
    "b.sub()\n",
    "\n",
    "c = Multiplication(n1,n2)\n",
    "c.pro()\n",
    "\n",
    "d= Division(n1,n2)\n",
    "d.div()"
   ]
  },
  {
   "cell_type": "markdown",
   "id": "cc8374e6",
   "metadata": {},
   "source": [
    "# POLYMORPHISM"
   ]
  },
  {
   "cell_type": "code",
   "execution_count": null,
   "id": "845ba33e",
   "metadata": {},
   "outputs": [],
   "source": [
    "7. Python Program to create Vehicle class and demonstrate method overloading (Compile time Polymorphism)."
   ]
  },
  {
   "cell_type": "code",
   "execution_count": 7,
   "id": "caeaf826",
   "metadata": {},
   "outputs": [
    {
     "ename": "TypeError",
     "evalue": "model() missing 2 required positional arguments: 'a' and 'b'",
     "output_type": "error",
     "traceback": [
      "\u001b[1;31m---------------------------------------------------------------------------\u001b[0m",
      "\u001b[1;31mTypeError\u001b[0m                                 Traceback (most recent call last)",
      "\u001b[1;32m~\\AppData\\Local\\Temp\\ipykernel_18056\\1536284906.py\u001b[0m in \u001b[0;36m<module>\u001b[1;34m\u001b[0m\n\u001b[0;32m      9\u001b[0m         \u001b[0mprint\u001b[0m\u001b[1;33m(\u001b[0m\u001b[1;34m\"This is a\"\u001b[0m\u001b[1;33m,\u001b[0m\u001b[0mself\u001b[0m\u001b[1;33m.\u001b[0m\u001b[0ma\u001b[0m\u001b[1;33m,\u001b[0m\u001b[0mself\u001b[0m\u001b[1;33m.\u001b[0m\u001b[0mb\u001b[0m\u001b[1;33m)\u001b[0m\u001b[1;33m\u001b[0m\u001b[1;33m\u001b[0m\u001b[0m\n\u001b[0;32m     10\u001b[0m \u001b[0mvobj\u001b[0m \u001b[1;33m=\u001b[0m \u001b[0mVehicle\u001b[0m\u001b[1;33m(\u001b[0m\u001b[1;33m)\u001b[0m\u001b[1;33m\u001b[0m\u001b[1;33m\u001b[0m\u001b[0m\n\u001b[1;32m---> 11\u001b[1;33m \u001b[0mvobj\u001b[0m\u001b[1;33m.\u001b[0m\u001b[0mmodel\u001b[0m\u001b[1;33m(\u001b[0m\u001b[1;33m)\u001b[0m\u001b[1;33m\u001b[0m\u001b[1;33m\u001b[0m\u001b[0m\n\u001b[0m\u001b[0;32m     12\u001b[0m \u001b[0mvobj\u001b[0m\u001b[1;33m.\u001b[0m\u001b[0mmodel\u001b[0m\u001b[1;33m(\u001b[0m\u001b[1;34m\"Tata\"\u001b[0m\u001b[1;33m)\u001b[0m\u001b[1;33m\u001b[0m\u001b[1;33m\u001b[0m\u001b[0m\n\u001b[0;32m     13\u001b[0m \u001b[0mvobj\u001b[0m\u001b[1;33m.\u001b[0m\u001b[0mmodel\u001b[0m\u001b[1;33m(\u001b[0m\u001b[1;34m\"Tata\"\u001b[0m\u001b[1;33m,\u001b[0m\u001b[1;34m\"Nexon\"\u001b[0m\u001b[1;33m)\u001b[0m\u001b[1;33m\u001b[0m\u001b[1;33m\u001b[0m\u001b[0m\n",
      "\u001b[1;31mTypeError\u001b[0m: model() missing 2 required positional arguments: 'a' and 'b'"
     ]
    }
   ],
   "source": [
    "# As Python is an interpreted laanguage , it does not support Method overloading.\n",
    "\n",
    "class Vehicle:\n",
    "    def model():\n",
    "        print(\"This is a vehicle\")\n",
    "    def model(self,a):\n",
    "        print(\"This is a\",self.a)\n",
    "    def model(self,a,b):\n",
    "        print(\"This is a\",self.a,self.b)\n",
    "vobj = Vehicle()\n",
    "vobj.model()\n",
    "vobj.model(\"Tata\")\n",
    "vobj.model(\"Tata\",\"Nexon\")\n",
    "        "
   ]
  },
  {
   "cell_type": "code",
   "execution_count": null,
   "id": "6746c50e",
   "metadata": {},
   "outputs": [],
   "source": [
    "8. Python Program to demonstrate method overriding (Run time Polymorphism)."
   ]
  },
  {
   "cell_type": "code",
   "execution_count": 8,
   "id": "b5398335",
   "metadata": {},
   "outputs": [
    {
     "name": "stdout",
     "output_type": "stream",
     "text": [
      "Volvo Bus\n"
     ]
    }
   ],
   "source": [
    "class Vehicle:\n",
    "    def __init__(self, name, typ):\n",
    "        self.name = name\n",
    "        self.typ = typ\n",
    "\n",
    "    def printveh(self):\n",
    "        print(self.name, self.typ)\n",
    "\n",
    "class Bus(Vehicle):\n",
    "    def __init__(self, name, typ):\n",
    "        super().__init__(name, typ)\n",
    "\n",
    "x = Bus(\"Volvo\", \"Bus\")\n",
    "x.printveh()"
   ]
  },
  {
   "cell_type": "markdown",
   "id": "663122a2",
   "metadata": {},
   "source": [
    "# ABSTRACTION "
   ]
  },
  {
   "cell_type": "code",
   "execution_count": null,
   "id": "c3dea91b",
   "metadata": {},
   "outputs": [],
   "source": [
    "9. Python Program to demonstrate abstraction."
   ]
  },
  {
   "cell_type": "code",
   "execution_count": 9,
   "id": "e6e71188",
   "metadata": {},
   "outputs": [
    {
     "name": "stdout",
     "output_type": "stream",
     "text": [
      "Enter principal amount:100000\n",
      "Enter no of years:2\n",
      "\n",
      "\n",
      "SBI rate of interest: 5%\n",
      "Simple interest: Rs. 10000.0\n",
      "\n",
      "\n",
      "HDFC rate of interest: 10%\n",
      "Simple interest: Rs. 20000.0\n"
     ]
    }
   ],
   "source": [
    "class RBI:\n",
    "    def interest(self):\n",
    "        pass\n",
    "\n",
    "class SBI(RBI):\n",
    "    def __init__(self,p,n):\n",
    "        self.principal = p\n",
    "        self.years = n\n",
    "    def interest(self):\n",
    "        print(\"SBI rate of interest: 5%\")\n",
    "        print(\"Simple interest: Rs.\",(self.principal*self.years*5)/100)\n",
    "        \n",
    "class HDFC(RBI):\n",
    "    def __init__(self,p,n):\n",
    "        self.principal = p\n",
    "        self.years = n\n",
    "    def interest(self):\n",
    "        print(\"HDFC rate of interest: 10%\")\n",
    "        print(\"Simple interest: Rs.\",(self.principal*self.years*10)/100)\n",
    "        \n",
    "prin = int(input(\"Enter principal amount:\"))\n",
    "yrs = int(input(\"Enter no of years:\"))\n",
    "print(\"\\n\")\n",
    "s1=SBI(prin,yrs)\n",
    "s1.interest()\n",
    "print(\"\\n\")\n",
    "s2=HDFC(prin,yrs)\n",
    "s2.interest()"
   ]
  },
  {
   "cell_type": "markdown",
   "id": "7b48a6d7",
   "metadata": {},
   "source": [
    "# ENCAPSULATION"
   ]
  },
  {
   "cell_type": "code",
   "execution_count": null,
   "id": "c0160089",
   "metadata": {},
   "outputs": [],
   "source": [
    "10. Python Program to demonstrate encapsulation."
   ]
  },
  {
   "cell_type": "code",
   "execution_count": 10,
   "id": "5eb94c0a",
   "metadata": {},
   "outputs": [
    {
     "name": "stdout",
     "output_type": "stream",
     "text": [
      "Calling protected member of base class:  2\n",
      "Calling modified protected member outside  base class:  3\n",
      "Accessing protected member of obj1:  3\n",
      "Accessing protected member of obj2:  2\n"
     ]
    }
   ],
   "source": [
    "#protected members\n",
    "\"\"\"Protected members are those members of the class that cannot be accessed outside the class\n",
    "but can be accessed from within the class and its subclasses.\"\"\"\n",
    "\n",
    "class A:\n",
    "    def __init__(self):\n",
    "        self._a = 2\n",
    "        \n",
    "class B(A):\n",
    "    def __init__(self):\n",
    "        A.__init__(self)\n",
    "        print(\"Calling protected member of base class: \",self._a) \n",
    "        self._a = 3\n",
    "        print(\"Calling modified protected member outside  base class: \", self._a) \n",
    "obj1 = B()\n",
    "obj2 = A()\n",
    "print(\"Accessing protected member of obj1: \", obj1._a) \n",
    "print(\"Accessing protected member of obj2: \", obj2._a) "
   ]
  },
  {
   "cell_type": "code",
   "execution_count": 11,
   "id": "dd67cd2a",
   "metadata": {},
   "outputs": [
    {
     "name": "stdout",
     "output_type": "stream",
     "text": [
      "Public Member\n"
     ]
    },
    {
     "ename": "AttributeError",
     "evalue": "'A' object has no attribute 'c'",
     "output_type": "error",
     "traceback": [
      "\u001b[1;31m---------------------------------------------------------------------------\u001b[0m",
      "\u001b[1;31mAttributeError\u001b[0m                            Traceback (most recent call last)",
      "\u001b[1;32m~\\AppData\\Local\\Temp\\ipykernel_18056\\4094131112.py\u001b[0m in \u001b[0;36m<module>\u001b[1;34m\u001b[0m\n\u001b[0;32m     18\u001b[0m \u001b[0mobj1\u001b[0m\u001b[1;33m=\u001b[0m\u001b[0mA\u001b[0m\u001b[1;33m(\u001b[0m\u001b[1;33m)\u001b[0m\u001b[1;33m\u001b[0m\u001b[1;33m\u001b[0m\u001b[0m\n\u001b[0;32m     19\u001b[0m \u001b[0mprint\u001b[0m\u001b[1;33m(\u001b[0m\u001b[0mobj1\u001b[0m\u001b[1;33m.\u001b[0m\u001b[0ma\u001b[0m\u001b[1;33m)\u001b[0m\u001b[1;33m\u001b[0m\u001b[1;33m\u001b[0m\u001b[0m\n\u001b[1;32m---> 20\u001b[1;33m \u001b[0mprint\u001b[0m\u001b[1;33m(\u001b[0m\u001b[0mobj1\u001b[0m\u001b[1;33m.\u001b[0m\u001b[0mc\u001b[0m\u001b[1;33m)\u001b[0m\u001b[1;33m\u001b[0m\u001b[1;33m\u001b[0m\u001b[0m\n\u001b[0m\u001b[0;32m     21\u001b[0m \u001b[0mobj2\u001b[0m \u001b[1;33m=\u001b[0m \u001b[0mB\u001b[0m\u001b[1;33m(\u001b[0m\u001b[1;33m)\u001b[0m\u001b[1;33m\u001b[0m\u001b[1;33m\u001b[0m\u001b[0m\n\u001b[0;32m     22\u001b[0m \u001b[0mprint\u001b[0m\u001b[1;33m(\u001b[0m\u001b[0mobj2\u001b[0m\u001b[1;33m.\u001b[0m\u001b[0ma\u001b[0m\u001b[1;33m)\u001b[0m\u001b[1;33m\u001b[0m\u001b[1;33m\u001b[0m\u001b[0m\n",
      "\u001b[1;31mAttributeError\u001b[0m: 'A' object has no attribute 'c'"
     ]
    }
   ],
   "source": [
    "#private members\n",
    "\"\"\"Private members are similar to protected members, the difference is that the class members declared private \n",
    "should neither be accessed outside the class nor by any base class. They must be accessed only within\n",
    "the class in which they are declared.\"\"\"\n",
    "\n",
    "class A:\n",
    "    def __init__(self):\n",
    "        self.a = \"Public Member\"\n",
    "        self.__c = \"Private Member\"\n",
    "        \n",
    "class B(A):\n",
    "    def __init__(self):\n",
    "        A.__init__(self)\n",
    "        print(\"Calling public member of base class\",self.a)\n",
    "        print(\"Calling private member of base class:\",self.__c)\n",
    "        \n",
    "        \n",
    "obj1=A()\n",
    "print(obj1.a)\n",
    "print(obj1.c)\n",
    "obj2 = B()\n",
    "print(obj2.a)"
   ]
  }
 ],
 "metadata": {
  "kernelspec": {
   "display_name": "Python 3 (ipykernel)",
   "language": "python",
   "name": "python3"
  },
  "language_info": {
   "codemirror_mode": {
    "name": "ipython",
    "version": 3
   },
   "file_extension": ".py",
   "mimetype": "text/x-python",
   "name": "python",
   "nbconvert_exporter": "python",
   "pygments_lexer": "ipython3",
   "version": "3.9.13"
  }
 },
 "nbformat": 4,
 "nbformat_minor": 5
}
