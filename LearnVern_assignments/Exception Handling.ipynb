{
 "cells": [
  {
   "cell_type": "code",
   "execution_count": null,
   "id": "231de00f",
   "metadata": {},
   "outputs": [],
   "source": [
    "1. Python program to check if user input is integer value using try and except."
   ]
  },
  {
   "cell_type": "code",
   "execution_count": 1,
   "id": "8fd2c5b8",
   "metadata": {},
   "outputs": [
    {
     "name": "stdout",
     "output_type": "stream",
     "text": [
      "Enter a number:10.5\n",
      "Input is not of integer type!\n"
     ]
    }
   ],
   "source": [
    "try:\n",
    "    a = eval(input(\"Enter a number:\"))\n",
    "    if type(a)==int :\n",
    "        print(\"Input is of integer type!\")\n",
    "    else: raise ValueError(\"Input is not of integer type!\")\n",
    "except ValueError as ve:\n",
    "    print(ve)"
   ]
  },
  {
   "cell_type": "code",
   "execution_count": null,
   "id": "d80ae5fd",
   "metadata": {},
   "outputs": [],
   "source": [
    "2. Python program to check if user input is a string using try and except."
   ]
  },
  {
   "cell_type": "code",
   "execution_count": 2,
   "id": "adbedef7",
   "metadata": {},
   "outputs": [
    {
     "name": "stdout",
     "output_type": "stream",
     "text": [
      "Enter your desired input:10.8\n",
      "Input is not a string!\n"
     ]
    }
   ],
   "source": [
    "try:\n",
    "    a = eval(input(\"Enter your desired input:\"))\n",
    "    if type(a)==str :\n",
    "        print(\"Input is a string!\")\n",
    "    else: raise ValueError(\"Input is not a string!\")\n",
    "except ValueError as ve:\n",
    "    print(ve)"
   ]
  },
  {
   "cell_type": "code",
   "execution_count": null,
   "id": "cd5f1fac",
   "metadata": {},
   "outputs": [],
   "source": [
    "3. Python program to input two numbers from user and check if they are integers using try and except.\n",
    "   Print sum of the numbers if the numbers are integers using finally . "
   ]
  },
  {
   "cell_type": "code",
   "execution_count": 3,
   "id": "4e78f2e7",
   "metadata": {},
   "outputs": [
    {
     "name": "stdout",
     "output_type": "stream",
     "text": [
      "Enter a number:10\n",
      "Enter a number:10\n",
      "Inputs are of integer type!\n",
      "sum of numbers: 20\n"
     ]
    }
   ],
   "source": [
    "try:\n",
    "    a = eval(input(\"Enter a number:\"))\n",
    "    b = eval(input(\"Enter a number:\"))\n",
    "    if type(a)==int and type(b)==int:\n",
    "        print(\"Inputs are of integer type!\")\n",
    "    else: raise ValueError(\"Inputs are not of integer type!\")\n",
    "except ValueError as ve:\n",
    "    print(ve)\n",
    "finally:\n",
    "    if type(a)==int and type(b)==int:\n",
    "        print(\"sum of numbers:\",a+b)\n",
    "    else:\n",
    "        pass\n",
    "    "
   ]
  },
  {
   "cell_type": "code",
   "execution_count": 4,
   "id": "1d083415",
   "metadata": {},
   "outputs": [
    {
     "name": "stdout",
     "output_type": "stream",
     "text": [
      "Enter a number:10.5\n",
      "Enter a number:10\n",
      "Inputs are not of integer type!\n"
     ]
    }
   ],
   "source": [
    "try:\n",
    "    a = eval(input(\"Enter a number:\"))\n",
    "    b = eval(input(\"Enter a number:\"))\n",
    "    if type(a)==int and type(b)==int:\n",
    "        print(\"Inputs are of integer type!\")\n",
    "    else: raise ValueError(\"Inputs are not of integer type!\")\n",
    "except ValueError as ve:\n",
    "    print(ve)\n",
    "finally:\n",
    "    if type(a)==int and type(b)==int:\n",
    "        print(\"sum of numbers:\",a+b)\n",
    "    else:\n",
    "        pass\n",
    "    "
   ]
  },
  {
   "cell_type": "code",
   "execution_count": null,
   "id": "b7d82d08",
   "metadata": {},
   "outputs": [],
   "source": [
    "4. Python program to demonstrate try and else."
   ]
  },
  {
   "cell_type": "code",
   "execution_count": 5,
   "id": "cc84de0f",
   "metadata": {},
   "outputs": [
    {
     "name": "stdout",
     "output_type": "stream",
     "text": [
      "HelloWorld!\n",
      "Bye!!\n"
     ]
    }
   ],
   "source": [
    "try:\n",
    "    x = \"World!\"\n",
    "    print(\"Hello\"+x)\n",
    "except NameError:\n",
    "    print(\"Undefined Variable\")\n",
    "else:\n",
    "    print(\"Bye!!\")"
   ]
  },
  {
   "cell_type": "code",
   "execution_count": 6,
   "id": "40bca555",
   "metadata": {},
   "outputs": [
    {
     "name": "stdout",
     "output_type": "stream",
     "text": [
      "Undefined Variable\n"
     ]
    }
   ],
   "source": [
    "try:\n",
    "    print(\"Hello\"+y)\n",
    "except NameError:\n",
    "    print(\"Undefined Variable\")\n",
    "else:\n",
    "    print(\"Bye!!\")"
   ]
  },
  {
   "cell_type": "code",
   "execution_count": null,
   "id": "144dcaa8",
   "metadata": {},
   "outputs": [],
   "source": [
    "5. Python program to demonstrate multiple except block."
   ]
  },
  {
   "cell_type": "code",
   "execution_count": 7,
   "id": "1dd4b583",
   "metadata": {},
   "outputs": [
    {
     "name": "stdout",
     "output_type": "stream",
     "text": [
      "Enter numerator:10.2\n",
      "Enter denominator:2\n",
      "Please Enter Integer Values!\n",
      "Bye!\n"
     ]
    }
   ],
   "source": [
    "try:\n",
    "    a = eval(input(\"Enter numerator:\"))\n",
    "    b = eval(input(\"Enter denominator:\"))\n",
    "    if type(a)!=int or type(b)!=int:\n",
    "        raise ValueError(\"Please Enter Integer Values!\")\n",
    "    if b==0:\n",
    "        raise ZeroDivisionError(\"Please Enter Integer Value for denominator(Not 0)!\")\n",
    "except ValueError as ve:\n",
    "    print(ve)\n",
    "except ZeroDivisionError as zde:\n",
    "    print(zde)\n",
    "else:\n",
    "    c = int(a)/int(b)\n",
    "    print(a,\"/\",b,\"=\",c)\n",
    "finally:\n",
    "    print(\"Bye!\")\n",
    "    "
   ]
  },
  {
   "cell_type": "code",
   "execution_count": 8,
   "id": "ff7d2d97",
   "metadata": {},
   "outputs": [
    {
     "name": "stdout",
     "output_type": "stream",
     "text": [
      "Enter numerator:10\n",
      "Enter denominator:0\n",
      "Please Enter Integer Value for denominator(Not 0)!\n",
      "Bye!\n"
     ]
    }
   ],
   "source": [
    "try:\n",
    "    a = eval(input(\"Enter numerator:\"))\n",
    "    b = eval(input(\"Enter denominator:\"))\n",
    "    if type(a)!=int or type(b)!=int:\n",
    "        raise ValueError(\"Please Enter Integer Values!\")\n",
    "    if b==0:\n",
    "        raise ZeroDivisionError(\"Please Enter Integer Value for denominator(Not 0)!\")\n",
    "except ValueError as ve:\n",
    "    print(ve)\n",
    "except ZeroDivisionError as zde:\n",
    "    print(zde)\n",
    "else:\n",
    "    c = int(a)/int(b)\n",
    "    print(a,\"/\",b,\"=\",c)\n",
    "finally:\n",
    "    print(\"Bye!\")\n",
    "    "
   ]
  },
  {
   "cell_type": "code",
   "execution_count": 9,
   "id": "e4eebd4a",
   "metadata": {},
   "outputs": [
    {
     "name": "stdout",
     "output_type": "stream",
     "text": [
      "Enter numerator:10\n",
      "Enter denominator:2\n",
      "10 / 2 = 5.0\n",
      "Bye!\n"
     ]
    }
   ],
   "source": [
    "try:\n",
    "    a = eval(input(\"Enter numerator:\"))\n",
    "    b = eval(input(\"Enter denominator:\"))\n",
    "    if type(a)!=int or type(b)!=int:\n",
    "        raise ValueError(\"Please Enter Integer Values!\")\n",
    "    if b==0:\n",
    "        raise ZeroDivisionError(\"Please Enter Integer Value for denominator(Not 0)!\")\n",
    "except ValueError as ve:\n",
    "    print(ve)\n",
    "except ZeroDivisionError as zde:\n",
    "    print(zde)\n",
    "else:\n",
    "    c = int(a)/int(b)\n",
    "    print(a,\"/\",b,\"=\",c)\n",
    "finally:\n",
    "    print(\"Bye!\")\n",
    "    "
   ]
  }
 ],
 "metadata": {
  "kernelspec": {
   "display_name": "Python 3 (ipykernel)",
   "language": "python",
   "name": "python3"
  },
  "language_info": {
   "codemirror_mode": {
    "name": "ipython",
    "version": 3
   },
   "file_extension": ".py",
   "mimetype": "text/x-python",
   "name": "python",
   "nbconvert_exporter": "python",
   "pygments_lexer": "ipython3",
   "version": "3.9.13"
  }
 },
 "nbformat": 4,
 "nbformat_minor": 5
}
