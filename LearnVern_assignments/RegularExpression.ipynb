{
 "cells": [
  {
   "cell_type": "code",
   "execution_count": null,
   "id": "2fdc89de",
   "metadata": {},
   "outputs": [],
   "source": [
    "1. Python program to check if a string contains only a certain set of characters[A-Z,a-z,0-9]."
   ]
  },
  {
   "cell_type": "code",
   "execution_count": 1,
   "id": "8a7bf18f",
   "metadata": {},
   "outputs": [
    {
     "name": "stdout",
     "output_type": "stream",
     "text": [
      "String1: India has 28 states and 8 union territories.\n",
      "String contains specified set of charaters.\n",
      "String2: $#%67&*^\n",
      "String does not contain specified set of charaters.\n"
     ]
    }
   ],
   "source": [
    "import re\n",
    "st = \"India has 28 states and 8 union territories.\"\n",
    "st1 = \"$#%67&*^\"\n",
    "pattern = r\"^[A-Za-z0-9]\"\n",
    "x = re.match(pattern,st)\n",
    "print(\"String1:\",st)\n",
    "if x:\n",
    "    print(\"String contains specified set of charaters.\")\n",
    "else:\n",
    "    print(\"String does not contain specified set of charaters.\")\n",
    "print(\"String2:\",st1)\n",
    "y = re.match(pattern,st1)\n",
    "if y:\n",
    "    print(\"String contains specified set of charaters.\")\n",
    "else:\n",
    "    print(\"String does not contain specified set of charaters.\")\n",
    "\n"
   ]
  },
  {
   "cell_type": "code",
   "execution_count": null,
   "id": "3dfe3af8",
   "metadata": {},
   "outputs": [],
   "source": [
    " 2. Python program to match a word from the beginning of a string."
   ]
  },
  {
   "cell_type": "code",
   "execution_count": 2,
   "id": "9f8afbd6",
   "metadata": {},
   "outputs": [
    {
     "name": "stdout",
     "output_type": "stream",
     "text": [
      "String1: Python Programming is simple.\n",
      "Match Found\n",
      "String2: MySQl is a DBMS\n",
      "Match is not Found\n"
     ]
    }
   ],
   "source": [
    "import re\n",
    "s = \"Python Programming is simple.\"\n",
    "s1 = \"MySQl is a DBMS\"\n",
    "pat1 = \"P....n\"\n",
    "x = re.match(pat1,s)\n",
    "print(\"String1:\",s)\n",
    "if x:\n",
    "    print(\"Match Found\")\n",
    "else :\n",
    "    print(\"Match is not Found\")\n",
    "    \n",
    "pat2 = \"SQl\"\n",
    "y = re.match(pat2,s1)\n",
    "print(\"String2:\",s1)\n",
    "if y:\n",
    "    print(\"Match Found\")\n",
    "else :\n",
    "    print(\"Match is not Found\")"
   ]
  },
  {
   "cell_type": "code",
   "execution_count": null,
   "id": "f9e4b749",
   "metadata": {},
   "outputs": [],
   "source": [
    "3. Python program to check validity of phone number and email address."
   ]
  },
  {
   "cell_type": "code",
   "execution_count": 3,
   "id": "f00701de",
   "metadata": {},
   "outputs": [
    {
     "name": "stdout",
     "output_type": "stream",
     "text": [
      "Enter phone num:917397439134\n",
      "Valid phone number!\n",
      "Enter email address:rnivithra1999@gmail.com\n",
      "Valid EmailId\n"
     ]
    }
   ],
   "source": [
    "import re\n",
    "phno = input(\"Enter phone num:\")\n",
    "\n",
    "pat = r\"^0|91+[0-9]{10}\"\n",
    "n = re.match(pat,phno)\n",
    "if n:\n",
    "    print(\"Valid phone number!\")\n",
    "else: \n",
    "    print(\"Invalid phone number!\")\n",
    "\n",
    "mail = input(\"Enter email address:\")\n",
    "pat1 = \"[A-Za-z0-9]+@+[a-z]+.+[a-z]{3}\"\n",
    "s = re.match(pat1,mail)\n",
    "if s:\n",
    "    print(\"Valid EmailId\")\n",
    "else: \n",
    "    print(\"Invalid EmailId\")"
   ]
  },
  {
   "cell_type": "code",
   "execution_count": null,
   "id": "d1c9bf68",
   "metadata": {},
   "outputs": [],
   "source": [
    "4. Python program to replace a word from a string."
   ]
  },
  {
   "cell_type": "code",
   "execution_count": 4,
   "id": "b8ca8b93",
   "metadata": {},
   "outputs": [
    {
     "name": "stdout",
     "output_type": "stream",
     "text": [
      "Before Replacing : Python Programming is difficult.\n",
      "After Replacing :  Python Programming is simple.\n"
     ]
    }
   ],
   "source": [
    "import re\n",
    "st = \"Python Programming is difficult.\"\n",
    "print(\"Before Replacing :\",st)\n",
    "result = re.sub(r\"difficult\",\"simple\",st)\n",
    "print(\"After Replacing : \",result)"
   ]
  },
  {
   "cell_type": "code",
   "execution_count": null,
   "id": "e619f38b",
   "metadata": {},
   "outputs": [],
   "source": [
    "5. Python program to search for the occurance of numbers of length between 1-4 in a string"
   ]
  },
  {
   "cell_type": "code",
   "execution_count": 1,
   "id": "adeb73f5",
   "metadata": {},
   "outputs": [
    {
     "name": "stdout",
     "output_type": "stream",
     "text": [
      "Pattern Present!\n"
     ]
    }
   ],
   "source": [
    "import re\n",
    "st = \"The highest point on the earth is Mount Everest which is 29,035 feet(8,850 meters).\"\n",
    "pat = r\"[0-9]{1,3}\"\n",
    "res = re.search(pat,st)\n",
    "if res:\n",
    "    print(\"Pattern Present!\")\n",
    "else :\n",
    "    print(\"Pattern not Present!\")"
   ]
  }
 ],
 "metadata": {
  "kernelspec": {
   "display_name": "Python 3 (ipykernel)",
   "language": "python",
   "name": "python3"
  },
  "language_info": {
   "codemirror_mode": {
    "name": "ipython",
    "version": 3
   },
   "file_extension": ".py",
   "mimetype": "text/x-python",
   "name": "python",
   "nbconvert_exporter": "python",
   "pygments_lexer": "ipython3",
   "version": "3.9.13"
  }
 },
 "nbformat": 4,
 "nbformat_minor": 5
}
