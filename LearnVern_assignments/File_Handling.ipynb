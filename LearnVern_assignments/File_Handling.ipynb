{
 "cells": [
  {
   "cell_type": "markdown",
   "id": "d85f4d13",
   "metadata": {},
   "source": [
    "# Create a text file and write contents into the file"
   ]
  },
  {
   "cell_type": "code",
   "execution_count": 1,
   "id": "385cc7b6",
   "metadata": {},
   "outputs": [
    {
     "name": "stdout",
     "output_type": "stream",
     "text": [
      "File created!!\n",
      "File Name: FileHandlingDemo.txt\n",
      "File Mode: w\n"
     ]
    }
   ],
   "source": [
    "s = \"This is my my file handling program.\"\n",
    "file = open(\"FileHandlingDemo.txt\",\"w\")\n",
    "file.write(s)\n",
    "print(\"File created!!\")\n",
    "print(\"File Name:\",file.name)\n",
    "print(\"File Mode:\",file.mode)\n",
    "file.close()"
   ]
  },
  {
   "cell_type": "markdown",
   "id": "c68b0a2b",
   "metadata": {},
   "source": [
    "# Read the contents of a text file"
   ]
  },
  {
   "cell_type": "code",
   "execution_count": 2,
   "id": "6f269c10",
   "metadata": {},
   "outputs": [
    {
     "name": "stdout",
     "output_type": "stream",
     "text": [
      "Contents of the Textfile:\n",
      "This is my my file handling program.\n"
     ]
    }
   ],
   "source": [
    "# It is better to open a file using with as it automatically closes the file\n",
    "with open(\"FileHandlingDemo.txt\",\"r\") as file:\n",
    "    filecontent = file.read()\n",
    "print(\"Contents of the Textfile:\")\n",
    "print(filecontent)"
   ]
  },
  {
   "cell_type": "markdown",
   "id": "a0069752",
   "metadata": {},
   "source": [
    "# Append data into text file "
   ]
  },
  {
   "cell_type": "code",
   "execution_count": 3,
   "id": "03288287",
   "metadata": {},
   "outputs": [],
   "source": [
    "s = \"Appending content to text file.\"\n",
    "file = open(\"FileHandlingDemo.txt\",\"a\")\n",
    "file.write(s)\n",
    "file.close()"
   ]
  },
  {
   "cell_type": "markdown",
   "id": "74f21c97",
   "metadata": {},
   "source": [
    "# Display file content after appending data"
   ]
  },
  {
   "cell_type": "code",
   "execution_count": 4,
   "id": "5fc1a2a7",
   "metadata": {},
   "outputs": [
    {
     "name": "stdout",
     "output_type": "stream",
     "text": [
      "Contents of the Textfile after appending data:\n",
      "This is my my file handling program.Appending content to text file.\n"
     ]
    }
   ],
   "source": [
    "file = open(\"FileHandlingDemo.txt\",\"r\")\n",
    "filecontent = file.read()\n",
    "print(\"Contents of the Textfile after appending data:\")\n",
    "print(filecontent)"
   ]
  },
  {
   "cell_type": "markdown",
   "id": "a841523e",
   "metadata": {},
   "source": [
    "# Writing a list into file"
   ]
  },
  {
   "cell_type": "code",
   "execution_count": 5,
   "id": "983b8529",
   "metadata": {},
   "outputs": [],
   "source": [
    "list1 = [\"Python\",\"Java\",\"PHP\",\"C++\",\"Pearl\"]\n",
    "file = open(\"FileWithList.txt\",\"w\")\n",
    "file.writelines(list1)\n",
    "file.close()"
   ]
  },
  {
   "cell_type": "markdown",
   "id": "30859968",
   "metadata": {},
   "source": [
    "# Reading list from file"
   ]
  },
  {
   "cell_type": "code",
   "execution_count": 6,
   "id": "ec668144",
   "metadata": {},
   "outputs": [
    {
     "name": "stdout",
     "output_type": "stream",
     "text": [
      "Contents of file:\n",
      "['PythonJavaPHPC++Pearl']\n"
     ]
    }
   ],
   "source": [
    "file = open(\"FileWithList.txt\",\"r\")\n",
    "filelist = file.readlines()\n",
    "print(\"Contents of file:\")\n",
    "print(filelist)\n",
    "file.close()"
   ]
  }
 ],
 "metadata": {
  "kernelspec": {
   "display_name": "Python 3 (ipykernel)",
   "language": "python",
   "name": "python3"
  },
  "language_info": {
   "codemirror_mode": {
    "name": "ipython",
    "version": 3
   },
   "file_extension": ".py",
   "mimetype": "text/x-python",
   "name": "python",
   "nbconvert_exporter": "python",
   "pygments_lexer": "ipython3",
   "version": "3.9.13"
  }
 },
 "nbformat": 4,
 "nbformat_minor": 5
}
