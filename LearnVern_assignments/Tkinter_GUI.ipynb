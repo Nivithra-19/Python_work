{
 "cells": [
  {
   "cell_type": "code",
   "execution_count": 1,
   "id": "86144e3b",
   "metadata": {},
   "outputs": [],
   "source": [
    "from tkinter import *"
   ]
  },
  {
   "cell_type": "code",
   "execution_count": 2,
   "id": "15e57655",
   "metadata": {},
   "outputs": [],
   "source": [
    "r = Tk()\n",
    "r.geometry(\"400x300\")\n",
    "r.title(\"User Details\")\n",
    "r.configure(bg=\"Blue\")"
   ]
  },
  {
   "cell_type": "code",
   "execution_count": 3,
   "id": "75776e3d",
   "metadata": {},
   "outputs": [],
   "source": [
    "fname = Label(r,text=\"First Name\")\n",
    "fname.place(x=20,y=20)\n",
    "lname = Label(r,text=\"Last Name\")\n",
    "lname.place(x=20,y=50)\n",
    "email = Label(r,text=\"Email Id\")\n",
    "email.place(x=20,y=80)\n",
    "phone = Label(r,text=\"Phone No\")\n",
    "phone.place(x=20,y=110)\n",
    "\n",
    "enfn = Entry()\n",
    "enfn.place(x=100,y=20)\n",
    "enln = Entry()\n",
    "enln.place(x=100,y=50)\n",
    "enem = Entry()\n",
    "enem.place(x=100,y=80)\n",
    "enpn = Entry()\n",
    "enpn.place(x=100,y=110)\n",
    "\n",
    "button1 = Button(r,text=\"Insert\",bg=\"White\")\n",
    "button1.place(x=50,y=150)\n",
    "button2 = Button(r,text=\"Search\",bg=\"White\")\n",
    "button2.place(x=100,y=150)\n",
    "button3 = Button(r,text=\"Update\",bg=\"White\")\n",
    "button3.place(x=152,y=150)\n",
    "button4 = Button(r,text=\"Delete\",bg=\"White\")\n",
    "button4.place(x=208,y=150)\n",
    "button5 = Button(r,text=\"Reset\",bg=\"White\")\n",
    "button5.place(x=260,y=150)\n",
    "mainloop()"
   ]
  }
 ],
 "metadata": {
  "kernelspec": {
   "display_name": "Python 3 (ipykernel)",
   "language": "python",
   "name": "python3"
  },
  "language_info": {
   "codemirror_mode": {
    "name": "ipython",
    "version": 3
   },
   "file_extension": ".py",
   "mimetype": "text/x-python",
   "name": "python",
   "nbconvert_exporter": "python",
   "pygments_lexer": "ipython3",
   "version": "3.9.13"
  }
 },
 "nbformat": 4,
 "nbformat_minor": 5
}
