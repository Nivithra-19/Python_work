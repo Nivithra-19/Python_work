{
 "cells": [
  {
   "cell_type": "code",
   "execution_count": 1,
   "id": "08ac5bcb",
   "metadata": {},
   "outputs": [],
   "source": [
    "import pymysql"
   ]
  },
  {
   "cell_type": "markdown",
   "id": "fc4b977c",
   "metadata": {},
   "source": [
    "# Connecting to DataBase"
   ]
  },
  {
   "cell_type": "code",
   "execution_count": 2,
   "id": "8df16efa",
   "metadata": {},
   "outputs": [],
   "source": [
    "def createconn():\n",
    "    return pymysql.connect(host=\"localhost\",database=\"nividb\",user=\"root\",password=\"\",port=3306)"
   ]
  },
  {
   "cell_type": "markdown",
   "id": "eb2ab5bb",
   "metadata": {},
   "source": [
    "# Creating Table"
   ]
  },
  {
   "cell_type": "code",
   "execution_count": 3,
   "id": "875c538a",
   "metadata": {},
   "outputs": [
    {
     "name": "stdout",
     "output_type": "stream",
     "text": [
      "Table Created!!\n"
     ]
    }
   ],
   "source": [
    "def createtable():\n",
    "    conn = createconn()\n",
    "    cursor = conn.cursor()\n",
    "    query = \"create table student(sid int primary key auto_increment,name VARCHAR(50),email VARCHAR(50),city VARCHAR(50))\"\n",
    "    cursor.execute(query)\n",
    "    conn.commit()\n",
    "    print(\"Table Created!!\")\n",
    "    conn.close()\n",
    "\n",
    "createtable()"
   ]
  },
  {
   "cell_type": "markdown",
   "id": "e5f97d62",
   "metadata": {},
   "source": [
    "# Inserting Values into Table"
   ]
  },
  {
   "cell_type": "code",
   "execution_count": 9,
   "id": "9639e73f",
   "metadata": {},
   "outputs": [
    {
     "name": "stdout",
     "output_type": "stream",
     "text": [
      "Enter Name:Nikki\n",
      "Enter EmailId:nik97@gmail.com\n",
      "Enter City:Trichy\n",
      "Data inserted into table\n"
     ]
    }
   ],
   "source": [
    "def insertdata(name,email,city):\n",
    "    conn = createconn()\n",
    "    cursor = conn.cursor()\n",
    "    args = (name,email,city)\n",
    "    query = \"insert into student(name,email,city) values (%s,%s,%s)\"\n",
    "    cursor.execute(query,args)\n",
    "    conn.commit()\n",
    "    print(\"Data inserted into table\")\n",
    "    conn.close()\n",
    "    \n",
    "n = input(\"Enter Name:\")\n",
    "e = input(\"Enter EmailId:\")\n",
    "c = input(\"Enter City:\")\n",
    "\n",
    "insertdata(n,e,c)"
   ]
  },
  {
   "cell_type": "markdown",
   "id": "81175f4c",
   "metadata": {},
   "source": [
    "# Fetching All Data from Table"
   ]
  },
  {
   "cell_type": "code",
   "execution_count": 10,
   "id": "3df06e6c",
   "metadata": {},
   "outputs": [
    {
     "name": "stdout",
     "output_type": "stream",
     "text": [
      "(1, 'R.Nivithra', 'rnivithra1999@gmail.com', 'Chennai')\n",
      "(2, 'Nitesh', 'NiteshR@gmail.com', 'Banglore')\n",
      "(3, 'Thenmozhi', 'then1966@gmail.com', 'Pune')\n",
      "(4, 'Rajendran', 'rrajendran@gmail.com', 'Delhi')\n",
      "(5, 'Ranjini', 'ranjini@gmail.com', 'Kolkatta')\n",
      "(6, 'Nikki', 'nik97@gmail.com', 'Trichy')\n"
     ]
    }
   ],
   "source": [
    "def showalldata():\n",
    "    conn = createconn()\n",
    "    cursor = conn.cursor()\n",
    "    query = \"select * from student\"\n",
    "    cursor.execute(query)\n",
    "    result = cursor.fetchall()\n",
    "    for i in result:\n",
    "        print(i)\n",
    "        \n",
    "showalldata()"
   ]
  },
  {
   "cell_type": "markdown",
   "id": "5b4103a0",
   "metadata": {},
   "source": [
    "# Fetching Data by Id"
   ]
  },
  {
   "cell_type": "code",
   "execution_count": 11,
   "id": "6174e523",
   "metadata": {},
   "outputs": [
    {
     "name": "stdout",
     "output_type": "stream",
     "text": [
      "(1, 'R.Nivithra', 'rnivithra1999@gmail.com', 'Chennai')\n",
      "(2, 'Nitesh', 'NiteshR@gmail.com', 'Banglore')\n",
      "(3, 'Thenmozhi', 'then1966@gmail.com', 'Pune')\n",
      "(4, 'Rajendran', 'rrajendran@gmail.com', 'Delhi')\n",
      "(5, 'Ranjini', 'ranjini@gmail.com', 'Kolkatta')\n",
      "(6, 'Nikki', 'nik97@gmail.com', 'Trichy')\n",
      "Enter student Id:1\n",
      "(1, 'R.Nivithra', 'rnivithra1999@gmail.com', 'Chennai')\n"
     ]
    }
   ],
   "source": [
    "def showalldatabyid(sid):\n",
    "    conn = createconn()\n",
    "    cursor = conn.cursor()\n",
    "    args = (sid)\n",
    "    query = \"select * from student where sid=%s\"\n",
    "    cursor.execute(query,args)\n",
    "    result = cursor.fetchall()\n",
    "    for i in result:\n",
    "        print(i)\n",
    "        \n",
    "showalldata()\n",
    "sid = int(input(\"Enter student Id:\"))\n",
    "showalldatabyid(sid)"
   ]
  },
  {
   "cell_type": "markdown",
   "id": "01c5b6a3",
   "metadata": {},
   "source": [
    "# Update Data in Table"
   ]
  },
  {
   "cell_type": "code",
   "execution_count": 12,
   "id": "616a984c",
   "metadata": {},
   "outputs": [
    {
     "name": "stdout",
     "output_type": "stream",
     "text": [
      "(1, 'R.Nivithra', 'rnivithra1999@gmail.com', 'Chennai')\n",
      "(2, 'Nitesh', 'NiteshR@gmail.com', 'Banglore')\n",
      "(3, 'Thenmozhi', 'then1966@gmail.com', 'Pune')\n",
      "(4, 'Rajendran', 'rrajendran@gmail.com', 'Delhi')\n",
      "(5, 'Ranjini', 'ranjini@gmail.com', 'Kolkatta')\n",
      "(6, 'Nikki', 'nik97@gmail.com', 'Trichy')\n",
      "Enter student Id:3\n",
      "Enter Name:Thenmozhi.R\n",
      "Enter EmailId:ThenRaj66@gmail.com\n",
      "Enter City:Hyderabad\n",
      "Data Updated!!\n",
      "(1, 'R.Nivithra', 'rnivithra1999@gmail.com', 'Chennai')\n",
      "(2, 'Nitesh', 'NiteshR@gmail.com', 'Banglore')\n",
      "(3, 'Thenmozhi.R', 'ThenRaj66@gmail.com', 'Hyderabad')\n",
      "(4, 'Rajendran', 'rrajendran@gmail.com', 'Delhi')\n",
      "(5, 'Ranjini', 'ranjini@gmail.com', 'Kolkatta')\n",
      "(6, 'Nikki', 'nik97@gmail.com', 'Trichy')\n"
     ]
    }
   ],
   "source": [
    "def updatedata(name,email,city,sid):\n",
    "    conn = createconn()\n",
    "    cursor = conn.cursor()\n",
    "    args = (name,email,city,sid)\n",
    "    query= \"Update student set name=%s,email=%s,city=%s where sid=%s \"\n",
    "    cursor.execute(query,args)\n",
    "    conn.commit()\n",
    "    print(\"Data Updated!!\")\n",
    "    conn.close()\n",
    "    \n",
    "showalldata()\n",
    "sid=int(input(\"Enter student Id:\"))\n",
    "name=input(\"Enter Name:\")\n",
    "email=input(\"Enter EmailId:\")\n",
    "city=input(\"Enter City:\")\n",
    "updatedata(name,email,city,sid)\n",
    "showalldata()"
   ]
  },
  {
   "cell_type": "markdown",
   "id": "2554b06e",
   "metadata": {},
   "source": [
    "# Delete Data from Table"
   ]
  },
  {
   "cell_type": "code",
   "execution_count": 13,
   "id": "3aef9001",
   "metadata": {},
   "outputs": [
    {
     "name": "stdout",
     "output_type": "stream",
     "text": [
      "(1, 'R.Nivithra', 'rnivithra1999@gmail.com', 'Chennai')\n",
      "(2, 'Nitesh', 'NiteshR@gmail.com', 'Banglore')\n",
      "(3, 'Thenmozhi.R', 'ThenRaj66@gmail.com', 'Hyderabad')\n",
      "(4, 'Rajendran', 'rrajendran@gmail.com', 'Delhi')\n",
      "(5, 'Ranjini', 'ranjini@gmail.com', 'Kolkatta')\n",
      "(6, 'Nikki', 'nik97@gmail.com', 'Trichy')\n",
      "Enter student Id:6\n",
      "Data Deleted!!\n",
      "(1, 'R.Nivithra', 'rnivithra1999@gmail.com', 'Chennai')\n",
      "(2, 'Nitesh', 'NiteshR@gmail.com', 'Banglore')\n",
      "(3, 'Thenmozhi.R', 'ThenRaj66@gmail.com', 'Hyderabad')\n",
      "(4, 'Rajendran', 'rrajendran@gmail.com', 'Delhi')\n",
      "(5, 'Ranjini', 'ranjini@gmail.com', 'Kolkatta')\n"
     ]
    }
   ],
   "source": [
    "def deletedata(sid):\n",
    "    conn = createconn()\n",
    "    cursor = conn.cursor()\n",
    "    args = (sid)\n",
    "    query = \"delete from student where sid=%s\"\n",
    "    cursor.execute(query,args)\n",
    "    conn.commit()\n",
    "    print(\"Data Deleted!!\")\n",
    "    conn.close()\n",
    "    \n",
    "showalldata()\n",
    "sid = int(input(\"Enter student Id:\"))\n",
    "deletedata(sid)\n",
    "showalldata()"
   ]
  }
 ],
 "metadata": {
  "kernelspec": {
   "display_name": "Python 3 (ipykernel)",
   "language": "python",
   "name": "python3"
  },
  "language_info": {
   "codemirror_mode": {
    "name": "ipython",
    "version": 3
   },
   "file_extension": ".py",
   "mimetype": "text/x-python",
   "name": "python",
   "nbconvert_exporter": "python",
   "pygments_lexer": "ipython3",
   "version": "3.9.12"
  }
 },
 "nbformat": 4,
 "nbformat_minor": 5
}
