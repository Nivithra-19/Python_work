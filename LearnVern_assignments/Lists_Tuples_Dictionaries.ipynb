{
 "cells": [
  {
   "cell_type": "markdown",
   "id": "e5a3f699",
   "metadata": {},
   "source": [
    "# Lists"
   ]
  },
  {
   "cell_type": "code",
   "execution_count": null,
   "id": "90e896de",
   "metadata": {},
   "outputs": [],
   "source": [
    "1. Python program to accept list from user and print alternate element of the list"
   ]
  },
  {
   "cell_type": "code",
   "execution_count": 1,
   "id": "f42af3d9",
   "metadata": {},
   "outputs": [
    {
     "name": "stdout",
     "output_type": "stream",
     "text": [
      "Enter no of elements:7\n",
      "Enter element:1\n",
      "Enter element:2\n",
      "Enter element:3\n",
      "Enter element:4\n",
      "Enter element:5\n",
      "Enter element:6\n",
      "Enter element:7\n",
      "The list: [1, 2, 3, 4, 5, 6, 7]\n",
      "Printing alternate elements of the list:\n",
      "1\n",
      "3\n",
      "5\n",
      "7\n"
     ]
    }
   ],
   "source": [
    "l = []\n",
    "n = int(input(\"Enter no of elements:\"))\n",
    "for i in range(n):\n",
    "    ele = int(input(\"Enter element:\"))\n",
    "    l.append(ele)\n",
    "print(\"The list:\",l)\n",
    "print(\"Printing alternate elements of the list:\")\n",
    "for i in range(0,len(l),2):\n",
    "    print(l[i])"
   ]
  },
  {
   "cell_type": "code",
   "execution_count": null,
   "id": "a7389539",
   "metadata": {},
   "outputs": [],
   "source": [
    "2. Program to remove element \"3\" from given list : l = [1,2,3,4,5,6]"
   ]
  },
  {
   "cell_type": "code",
   "execution_count": 2,
   "id": "52e38298",
   "metadata": {},
   "outputs": [
    {
     "name": "stdout",
     "output_type": "stream",
     "text": [
      "The List: [1, 2, 3, 4, 5, 6]\n",
      "Updated List: [1, 2, 4, 5, 6]\n"
     ]
    }
   ],
   "source": [
    "l = [1,2,3,4,5,6]\n",
    "print(\"The List:\",l)\n",
    "l.remove(3)\n",
    "print(\"Updated List:\",l)"
   ]
  },
  {
   "cell_type": "code",
   "execution_count": null,
   "id": "7f943418",
   "metadata": {},
   "outputs": [],
   "source": [
    "3. Program to insert the element \"Python\" at index 3 in the given list: l =[\"Java\",\"PHP\",\".Net\",\"Angular\"]"
   ]
  },
  {
   "cell_type": "code",
   "execution_count": 3,
   "id": "c53582ab",
   "metadata": {},
   "outputs": [
    {
     "name": "stdout",
     "output_type": "stream",
     "text": [
      "The List: ['Java', 'PHP', '.Net', 'Angular']\n",
      "Updated List: ['Java', 'PHP', 'Python', '.Net', 'Angular']\n"
     ]
    }
   ],
   "source": [
    "l =[\"Java\",\"PHP\",\".Net\",\"Angular\"]\n",
    "print(\"The List:\",l)\n",
    "l.insert(2,\"Python\")\n",
    "print(\"Updated List:\",l)"
   ]
  },
  {
   "cell_type": "markdown",
   "id": "f9cc5953",
   "metadata": {},
   "source": [
    "# Tuples"
   ]
  },
  {
   "cell_type": "code",
   "execution_count": null,
   "id": "63d8a24c",
   "metadata": {},
   "outputs": [],
   "source": [
    "4. Python program to perform slicing in the given tuple.\n",
    "Data: t = (\"Python\", 1, 2, 3, \"Java\", 'A', 'B')\n",
    "Expected Output: \n",
    "    ('Python' ,2 , 'Java' ,'B')\n",
    "    (1, 2, 3, 'Java')\n",
    "    B"
   ]
  },
  {
   "cell_type": "code",
   "execution_count": 4,
   "id": "9937a098",
   "metadata": {},
   "outputs": [
    {
     "name": "stdout",
     "output_type": "stream",
     "text": [
      "The Tuple: ('Python', 1, 2, 3, 'Java', 'A', 'B')\n",
      "('Python', 2, 'Java', 'B')\n",
      "(1, 2, 3, 'Java')\n",
      "B\n"
     ]
    }
   ],
   "source": [
    "t = (\"Python\", 1, 2, 3, \"Java\", 'A', 'B')\n",
    "print(\"The Tuple:\",t)\n",
    "print(t[::2])\n",
    "print(t[1:5])\n",
    "print(t[-1])\n"
   ]
  },
  {
   "cell_type": "code",
   "execution_count": null,
   "id": "369b7270",
   "metadata": {},
   "outputs": [],
   "source": [
    "5. Python program to count number of elements in given tuple: t = (1,5,8,2,8,'a','B',7,5,6.1)"
   ]
  },
  {
   "cell_type": "code",
   "execution_count": 5,
   "id": "ba8fe73e",
   "metadata": {},
   "outputs": [
    {
     "name": "stdout",
     "output_type": "stream",
     "text": [
      "The Tuple: (1, 5, 8, 2, 8, 'a', 'B', 7, 5, 6.1)\n",
      "Count of elements:\n",
      "Count of 1 : 1\n",
      "Count of 5 : 2\n",
      "Count of 8 : 2\n",
      "Count of 2 : 1\n",
      "Count of 8 : 2\n",
      "Count of a : 1\n",
      "Count of B : 1\n",
      "Count of 7 : 1\n",
      "Count of 5 : 2\n",
      "Count of 6.1 : 1\n"
     ]
    }
   ],
   "source": [
    "t = (1,5,8,2,8,'a','B',7,5,6.1)\n",
    "print(\"The Tuple:\",t)\n",
    "print(\"Count of elements:\")\n",
    "for i in t:\n",
    "    print(\"Count of\",i,\":\",t.count(i))"
   ]
  },
  {
   "cell_type": "code",
   "execution_count": null,
   "id": "5dd42850",
   "metadata": {},
   "outputs": [],
   "source": [
    "6. Python Program to convert tuple into list."
   ]
  },
  {
   "cell_type": "code",
   "execution_count": 6,
   "id": "78157d2f",
   "metadata": {},
   "outputs": [
    {
     "name": "stdout",
     "output_type": "stream",
     "text": [
      "The Tuple: (1, 5, 8, 2, 8, 'a', 'B', 7, 5, 6.1)\n",
      "Converted List: [1, 5, 8, 2, 8, 'a', 'B', 7, 5, 6.1]\n"
     ]
    }
   ],
   "source": [
    "t = (1,5,8,2,8,'a','B',7,5,6.1)\n",
    "print(\"The Tuple:\",t)\n",
    "l = list(t)\n",
    "print(\"Converted List:\",l)"
   ]
  },
  {
   "cell_type": "markdown",
   "id": "bc9d42c6",
   "metadata": {},
   "source": [
    "# Dictionary"
   ]
  },
  {
   "cell_type": "code",
   "execution_count": null,
   "id": "c15e888f",
   "metadata": {},
   "outputs": [],
   "source": [
    "7. Python program to convert list into dictionary\n",
    "Data:\n",
    "    List1 [1,2,3,4,5]\n",
    "    List2 ['A','B','C','D','E']\n",
    "Expected Output:\n",
    "    List1 : [1, 2, 3, 4, 5]\n",
    "    List2 : ['A', 'B', 'C', 'D', 'E']\n",
    "    Converted Dictionary : {1: 'A', 2: 'B', 3: 'C', 4: 'D', 5: 'E'}\n",
    "\n",
    "    "
   ]
  },
  {
   "cell_type": "code",
   "execution_count": 7,
   "id": "f943f299",
   "metadata": {},
   "outputs": [
    {
     "name": "stdout",
     "output_type": "stream",
     "text": [
      "List1 : [1, 2, 3, 4, 5]\n",
      "List2 : ['A', 'B', 'C', 'D', 'E']\n",
      "Converted Dictionary : {1: 'A', 2: 'B', 3: 'C', 4: 'D', 5: 'E'}\n"
     ]
    }
   ],
   "source": [
    "List1 = [1,2,3,4,5]\n",
    "List2 = ['A','B','C','D','E']\n",
    "print(\"List1 :\",List1)\n",
    "print(\"List2 :\",List2)\n",
    "Dictionary = dict(zip(List1,List2))\n",
    "print(\"Converted Dictionary :\",Dictionary)"
   ]
  },
  {
   "cell_type": "code",
   "execution_count": null,
   "id": "18efb54d",
   "metadata": {},
   "outputs": [],
   "source": [
    "8. Python program to print keys from a given dictionary and print keys into a list\n",
    "Data:\n",
    "    Dictionary {1: 'Ford', 2: 'Renault', 3: 'BMW'}\n",
    "    \n",
    "Expected Output:\n",
    "    The Dictionary : {1: 'Ford', 2: 'Renault', 3: 'BMW'}\n",
    "    Keys of the Dictionary :\n",
    "    1\n",
    "    2\n",
    "    3\n",
    "    [1, 2, 3]\n",
    "\n"
   ]
  },
  {
   "cell_type": "code",
   "execution_count": 8,
   "id": "91c70fda",
   "metadata": {
    "scrolled": true
   },
   "outputs": [
    {
     "name": "stdout",
     "output_type": "stream",
     "text": [
      "The Dictionary : {1: 'Ford', 2: 'Renault', 3: 'BMW'}\n",
      "Keys of the Dictionary :\n",
      "1\n",
      "2\n",
      "3\n",
      "[1, 2, 3]\n"
     ]
    }
   ],
   "source": [
    "d = {1:\"Ford\",2:\"Renault\",3:\"BMW\"}\n",
    "print(\"The Dictionary :\",d)\n",
    "print(\"Keys of the Dictionary :\")\n",
    "for i in d:\n",
    "    print(i)\n",
    "print(list(d.keys()))"
   ]
  },
  {
   "cell_type": "code",
   "execution_count": null,
   "id": "8378ba5e",
   "metadata": {},
   "outputs": [],
   "source": [
    "9. Python program to print values from a given dictionary and print values into a list\n",
    "Data:\n",
    "    Dictionary {1: 'Ford', 2: 'Renault', 3: 'BMW'}\n",
    "    \n",
    "Expected Output:\n",
    "    The Dictionary : {1: 'Ford', 2: 'Renault', 3: 'BMW'}\n",
    "    Values of the Dictionary :\n",
    "    Ford\n",
    "    Renault\n",
    "    BMW\n",
    "    ['Ford', 'Renault', 'BMW']\n",
    "\n",
    "    "
   ]
  },
  {
   "cell_type": "code",
   "execution_count": 9,
   "id": "af7789d6",
   "metadata": {},
   "outputs": [
    {
     "name": "stdout",
     "output_type": "stream",
     "text": [
      "The Dictionary : {1: 'Ford', 2: 'Renault', 3: 'BMW'}\n",
      "Values of the Dictionary :\n",
      "Ford\n",
      "Renault\n",
      "BMW\n",
      "['Ford', 'Renault', 'BMW']\n"
     ]
    }
   ],
   "source": [
    "d = {1:\"Ford\",2:\"Renault\",3:\"BMW\"}\n",
    "print(\"The Dictionary :\",d)\n",
    "print(\"Values of the Dictionary :\")\n",
    "for i in d:\n",
    "    print(d[i])\n",
    "print(list(d.values()))"
   ]
  }
 ],
 "metadata": {
  "kernelspec": {
   "display_name": "Python 3 (ipykernel)",
   "language": "python",
   "name": "python3"
  },
  "language_info": {
   "codemirror_mode": {
    "name": "ipython",
    "version": 3
   },
   "file_extension": ".py",
   "mimetype": "text/x-python",
   "name": "python",
   "nbconvert_exporter": "python",
   "pygments_lexer": "ipython3",
   "version": "3.9.13"
  }
 },
 "nbformat": 4,
 "nbformat_minor": 5
}
