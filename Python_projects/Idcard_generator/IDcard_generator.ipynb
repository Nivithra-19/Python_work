{
 "cells": [
  {
   "cell_type": "code",
   "execution_count": 1,
   "id": "16717e9a",
   "metadata": {},
   "outputs": [],
   "source": [
    "from PIL import Image, ImageDraw, ImageFont\n",
    "import random\n",
    "import os\n",
    "import datetime\n",
    "import qrcode"
   ]
  },
  {
   "cell_type": "code",
   "execution_count": 2,
   "id": "7255ce99",
   "metadata": {},
   "outputs": [],
   "source": [
    "image = Image.new('RGB', (1000,900), (255,255,255))\n",
    "draw = ImageDraw.Draw(image)"
   ]
  },
  {
   "cell_type": "code",
   "execution_count": 3,
   "id": "0e33db9f",
   "metadata": {},
   "outputs": [
    {
     "data": {
      "text/plain": [
       "1"
      ]
     },
     "execution_count": 3,
     "metadata": {},
     "output_type": "execute_result"
    }
   ],
   "source": [
    "font = ImageFont.truetype('arial.ttf', size=45)\n",
    "os.system(\"ID CARD Generator\")"
   ]
  },
  {
   "cell_type": "code",
   "execution_count": 4,
   "id": "ac68a6c9",
   "metadata": {},
   "outputs": [
    {
     "name": "stdout",
     "output_type": "stream",
     "text": [
      "02-11-2022\t ID CARD Generator\t  03:55:48 PM\n"
     ]
    }
   ],
   "source": [
    "d_date = datetime.datetime.now()\n",
    "reg_format_date = d_date.strftime(\"%d-%m-%Y\\t ID CARD Generator\\t  %I:%M:%S %p\")\n",
    "print (reg_format_date)"
   ]
  },
  {
   "cell_type": "code",
   "execution_count": 5,
   "id": "ebe57135",
   "metadata": {},
   "outputs": [
    {
     "name": "stdout",
     "output_type": "stream",
     "text": [
      "\n",
      "All Fields are Mandatory\n",
      "Avoid Spelling Mistakes\n",
      "Data entered must be in Caps\n",
      "\n",
      "Enter Name of your Company/Organisation: AMAZON\n"
     ]
    }
   ],
   "source": [
    "print(\"\\nAll Fields are Mandatory\")\n",
    "print(\"Avoid Spelling Mistakes\")\n",
    "print(\"Data entered must be in Caps\")\n",
    "(x , y) = (50 , 50)\n",
    "message = input(\"\\nEnter Name of your Company/Organisation: \")\n",
    "company = message\n",
    "color = 'rgb(0,0,0)'\n",
    "font = ImageFont.truetype('arial.ttf',size=80)\n",
    "draw.text((x,y), message, fill=color, font=font)\n"
   ]
  },
  {
   "cell_type": "code",
   "execution_count": 6,
   "id": "ccfcfcb8",
   "metadata": {},
   "outputs": [],
   "source": [
    "(x,y) = (600,75)\n",
    "idno = random.randint(10000000,90000000)\n",
    "message = str(' ID '+str(idno))\n",
    "color  = 'rgb(0,0,0)'\n",
    "font = ImageFont.truetype('arial.ttf',size=60)\n",
    "draw.text((x,y), message, fill=color, font=font)\n"
   ]
  },
  {
   "cell_type": "code",
   "execution_count": 7,
   "id": "634818ef",
   "metadata": {},
   "outputs": [
    {
     "name": "stdout",
     "output_type": "stream",
     "text": [
      "\n",
      "Enter your Full Name: R Nivithra\n"
     ]
    }
   ],
   "source": [
    "(x , y) = (50 , 250)\n",
    "message = input(\"\\nEnter your Full Name: \")\n",
    "name = message\n",
    "color = 'rgb(0,0,0)'\n",
    "font = ImageFont.truetype('arial.ttf',size=45)\n",
    "draw.text((x,y), message, fill=color, font=font)"
   ]
  },
  {
   "cell_type": "code",
   "execution_count": 8,
   "id": "13deecba",
   "metadata": {},
   "outputs": [
    {
     "name": "stdout",
     "output_type": "stream",
     "text": [
      "Enter Gender: Female\n",
      "Enter your Age: 23\n"
     ]
    }
   ],
   "source": [
    "(x,y) = (50,350)\n",
    "message = input(\"Enter Gender: \")\n",
    "color  = 'rgb(0,0,0)'\n",
    "draw.text((x,y), message, fill=color, font=font)\n",
    "(x,y) = (250,350)\n",
    "message = input(\"Enter your Age: \")\n",
    "color  = 'rgb(0,0,0)'\n",
    "draw.text((x,y), message, fill=color, font=font)\n"
   ]
  },
  {
   "cell_type": "code",
   "execution_count": 9,
   "id": "002a420d",
   "metadata": {},
   "outputs": [
    {
     "name": "stdout",
     "output_type": "stream",
     "text": [
      "Enter your Date of Birth: 19/04/1999\n"
     ]
    }
   ],
   "source": [
    "(x,y) = (50,450)\n",
    "message = input(\"Enter your Date of Birth: \")\n",
    "color  = 'rgb(0,0,0)'\n",
    "draw.text((x,y), message, fill=color, font=font)"
   ]
  },
  {
   "cell_type": "code",
   "execution_count": 10,
   "id": "e195dcdf",
   "metadata": {},
   "outputs": [
    {
     "name": "stdout",
     "output_type": "stream",
     "text": [
      "Enter your Blood Group: O+\n"
     ]
    }
   ],
   "source": [
    "(x,y) = (50,550)\n",
    "message = input(\"Enter your Blood Group: \")\n",
    "color  = 'rgb(255,0,0)'\n",
    "draw.text((x,y), message, fill=color, font=font)"
   ]
  },
  {
   "cell_type": "code",
   "execution_count": 11,
   "id": "b8ed438e",
   "metadata": {},
   "outputs": [
    {
     "name": "stdout",
     "output_type": "stream",
     "text": [
      "Enter your Mobile Number: 7397439134\n"
     ]
    }
   ],
   "source": [
    "(x , y) = (50 , 650)\n",
    "message = input(\"Enter your Mobile Number: \")\n",
    "temp = message\n",
    "color = 'rgb(0,0,0)'\n",
    "font = ImageFont.truetype('arial.ttf',size=45)\n",
    "draw.text((x,y), message, fill=color, font=font)"
   ]
  },
  {
   "cell_type": "code",
   "execution_count": 12,
   "id": "3f25a830",
   "metadata": {},
   "outputs": [
    {
     "name": "stdout",
     "output_type": "stream",
     "text": [
      "Enter Pincode: 600040\n"
     ]
    }
   ],
   "source": [
    "(x,y) = (50,750)\n",
    "message = input(\"Enter Pincode: \")\n",
    "color  = 'rgb(0,0,0)'\n",
    "draw.text((x,y), message, fill=color, font=font)"
   ]
  },
  {
   "cell_type": "code",
   "execution_count": 13,
   "id": "0f8b1e0c",
   "metadata": {},
   "outputs": [],
   "source": [
    "image.save(str(name)+'.png')"
   ]
  },
  {
   "cell_type": "code",
   "execution_count": 14,
   "id": "44d89a55",
   "metadata": {},
   "outputs": [],
   "source": [
    "img = qrcode.make(str(company)+str(idno))\n",
    "img.save(str(idno)+'.bmp')"
   ]
  },
  {
   "cell_type": "code",
   "execution_count": 16,
   "id": "076ae7c0",
   "metadata": {},
   "outputs": [],
   "source": [
    "til = Image.open(name+'.png')\n",
    "im = Image.open(str(idno)+'.bmp') #25x25\n",
    "til.paste(im,(600,350))\n",
    "til.save(name+'.png')"
   ]
  },
  {
   "cell_type": "code",
   "execution_count": 17,
   "id": "0c13ecae",
   "metadata": {},
   "outputs": [
    {
     "name": "stdout",
     "output_type": "stream",
     "text": [
      "\n",
      "\n",
      "\n",
      "Your ID Card Successfully created in a PNG file R Nivithra.png\n",
      "\n",
      "\n",
      "Press any key to Close program...g\n"
     ]
    },
    {
     "ename": "NameError",
     "evalue": "name 'g' is not defined",
     "output_type": "error",
     "traceback": [
      "\u001b[1;31m---------------------------------------------------------------------------\u001b[0m",
      "\u001b[1;31mNameError\u001b[0m                                 Traceback (most recent call last)",
      "Input \u001b[1;32mIn [17]\u001b[0m, in \u001b[0;36m<cell line: 2>\u001b[1;34m()\u001b[0m\n\u001b[0;32m      1\u001b[0m \u001b[38;5;28mprint\u001b[39m((\u001b[38;5;124m'\u001b[39m\u001b[38;5;130;01m\\n\u001b[39;00m\u001b[38;5;130;01m\\n\u001b[39;00m\u001b[38;5;130;01m\\n\u001b[39;00m\u001b[38;5;124mYour ID Card Successfully created in a PNG file \u001b[39m\u001b[38;5;124m'\u001b[39m\u001b[38;5;241m+\u001b[39mname\u001b[38;5;241m+\u001b[39m\u001b[38;5;124m'\u001b[39m\u001b[38;5;124m.png\u001b[39m\u001b[38;5;124m'\u001b[39m))\n\u001b[1;32m----> 2\u001b[0m \u001b[38;5;28;43meval\u001b[39;49m\u001b[43m(\u001b[49m\u001b[38;5;28;43minput\u001b[39;49m\u001b[43m(\u001b[49m\u001b[38;5;124;43m'\u001b[39;49m\u001b[38;5;130;43;01m\\n\u001b[39;49;00m\u001b[38;5;130;43;01m\\n\u001b[39;49;00m\u001b[38;5;124;43mPress any key to Close program...\u001b[39;49m\u001b[38;5;124;43m'\u001b[39;49m\u001b[43m)\u001b[49m\u001b[43m)\u001b[49m\n",
      "File \u001b[1;32m<string>:1\u001b[0m, in \u001b[0;36m<module>\u001b[1;34m\u001b[0m\n",
      "\u001b[1;31mNameError\u001b[0m: name 'g' is not defined"
     ]
    }
   ],
   "source": [
    "print(('\\n\\n\\nYour ID Card Successfully created in a PNG file '+name+'.png'))\n",
    "eval(input('\\n\\nPress any key to Close program...'))"
   ]
  }
 ],
 "metadata": {
  "kernelspec": {
   "display_name": "Python 3 (ipykernel)",
   "language": "python",
   "name": "python3"
  },
  "language_info": {
   "codemirror_mode": {
    "name": "ipython",
    "version": 3
   },
   "file_extension": ".py",
   "mimetype": "text/x-python",
   "name": "python",
   "nbconvert_exporter": "python",
   "pygments_lexer": "ipython3",
   "version": "3.9.12"
  }
 },
 "nbformat": 4,
 "nbformat_minor": 5
}
